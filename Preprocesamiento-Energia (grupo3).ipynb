{
 "cells": [
  {
   "cell_type": "markdown",
   "source": "# PREPROCESAMIENTO DE LOS DATOS",
   "metadata": {
    "tags": [],
    "is_collapsed": true,
    "cell_id": "00000-a03be19a-46ee-473a-85e9-122ca52ddb63",
    "deepnote_cell_type": "text-cell-h1"
   }
  },
  {
   "cell_type": "markdown",
   "source": "# IMPORTS",
   "metadata": {
    "tags": [],
    "is_collapsed": true,
    "cell_id": "00002-9ced9373-734e-49ad-94bd-9d799829d994",
    "deepnote_cell_type": "text-cell-h1"
   }
  },
  {
   "cell_type": "markdown",
   "source": "Importamos todo lo necesario para el desarrollo de la actividad.",
   "metadata": {
    "tags": [],
    "is_collapsed": false,
    "cell_id": "00000-070da02e-64e6-4bf5-8066-63bdd61c198b",
    "deepnote_cell_type": "text-cell-p"
   }
  },
  {
   "cell_type": "code",
   "metadata": {
    "tags": [],
    "cell_id": "00000-1cf7c8e8-6a4e-43f4-a109-b0814b9ba1ef",
    "deepnote_to_be_reexecuted": false,
    "source_hash": "119fc85e",
    "execution_start": 1635604981242,
    "execution_millis": 4500,
    "deepnote_cell_type": "code"
   },
   "source": "import matplotlib.pyplot as plt\nimport pandas as pd \nimport numpy as np\nimport seaborn as sns\nimport warnings\nimport os\n\nimport plotly.graph_objects as go\nimport plotly.express as px\n\nfrom sklearn.preprocessing import StandardScaler\nfrom sklearn.preprocessing import RobustScaler\nfrom sklearn.model_selection import train_test_split\nfrom sklearn.svm import SVC\n\n\nfrom sklearn.linear_model import LogisticRegression\nfrom sklearn.tree import DecisionTreeRegressor,DecisionTreeClassifier\nfrom sklearn.ensemble import RandomForestRegressor, RandomForestClassifier\n\nfrom sklearn.neighbors import KNeighborsClassifier\nfrom sklearn.model_selection import cross_val_score\nfrom sklearn.datasets import make_classification\nfrom sklearn.metrics import plot_confusion_matrix\nfrom sklearn.metrics import confusion_matrix, accuracy_score, ConfusionMatrixDisplay",
   "outputs": [],
   "execution_count": null
  },
  {
   "cell_type": "markdown",
   "source": "# CARGA DATASETS",
   "metadata": {
    "tags": [],
    "is_collapsed": true,
    "cell_id": "00002-b0e5451e-4339-4d99-975a-37ddc98f6721",
    "deepnote_cell_type": "text-cell-h1"
   }
  },
  {
   "cell_type": "markdown",
   "source": "## Dataset uk_bank_holidays",
   "metadata": {
    "tags": [],
    "is_collapsed": true,
    "cell_id": "00004-aa8e3cff-d2bd-4d39-9353-9f7928f7f445",
    "deepnote_cell_type": "text-cell-h2"
   }
  },
  {
   "cell_type": "markdown",
   "source": "Además de cargar el csv con el nombre 'uk_bank_holidays' hacemos un pequeño proceso de ETL donde miramos si hay algún valor nulo, vemos cuántos valores tiene el csv y comprobamos si hay algún valor duplicado.",
   "metadata": {
    "tags": [],
    "cell_id": "00006-8dbc7a01-848f-46da-bf99-16ad6f0946fb",
    "deepnote_cell_type": "markdown"
   }
  },
  {
   "cell_type": "code",
   "metadata": {
    "tags": [],
    "cell_id": "00001-9772b88c-c0fe-4bfb-9dcb-58a435574ca2",
    "deepnote_to_be_reexecuted": false,
    "source_hash": "deddcf1",
    "execution_start": 1635604985753,
    "execution_millis": 48,
    "deepnote_cell_type": "code"
   },
   "source": "dfbank = pd.read_csv('uk_bank_holidays.csv')\ndfbank.head()",
   "outputs": [
    {
     "output_type": "execute_result",
     "execution_count": 2,
     "data": {
      "application/vnd.deepnote.dataframe.v2+json": {
       "row_count": 5,
       "column_count": 2,
       "columns": [
        {
         "name": "Bank holidays",
         "dtype": "object",
         "stats": {
          "unique_count": 5,
          "nan_count": 0,
          "categories": [
           {
            "name": "2012-12-26",
            "count": 1
           },
           {
            "name": "2012-12-25",
            "count": 1
           },
           {
            "name": "3 others",
            "count": 3
           }
          ]
         }
        },
        {
         "name": "Type",
         "dtype": "object",
         "stats": {
          "unique_count": 5,
          "nan_count": 0,
          "categories": [
           {
            "name": "Boxing Day",
            "count": 1
           },
           {
            "name": "Christmas Day",
            "count": 1
           },
           {
            "name": "3 others",
            "count": 3
           }
          ]
         }
        },
        {
         "name": "_deepnote_index_column",
         "dtype": "int64"
        }
       ],
       "rows_top": [
        {
         "Bank holidays": "2012-12-26",
         "Type": "Boxing Day",
         "_deepnote_index_column": 0
        },
        {
         "Bank holidays": "2012-12-25",
         "Type": "Christmas Day",
         "_deepnote_index_column": 1
        },
        {
         "Bank holidays": "2012-08-27",
         "Type": "Summer bank holiday",
         "_deepnote_index_column": 2
        },
        {
         "Bank holidays": "2012-05-06",
         "Type": "Queen?s Diamond Jubilee (extra bank holiday)",
         "_deepnote_index_column": 3
        },
        {
         "Bank holidays": "2012-04-06",
         "Type": "Spring bank holiday (substitute day)",
         "_deepnote_index_column": 4
        }
       ],
       "rows_bottom": null
      },
      "text/plain": "  Bank holidays                                          Type\n0    2012-12-26                                    Boxing Day\n1    2012-12-25                                 Christmas Day\n2    2012-08-27                           Summer bank holiday\n3    2012-05-06  Queen?s Diamond Jubilee (extra bank holiday)\n4    2012-04-06          Spring bank holiday (substitute day)",
      "text/html": "<div>\n<style scoped>\n    .dataframe tbody tr th:only-of-type {\n        vertical-align: middle;\n    }\n\n    .dataframe tbody tr th {\n        vertical-align: top;\n    }\n\n    .dataframe thead th {\n        text-align: right;\n    }\n</style>\n<table border=\"1\" class=\"dataframe\">\n  <thead>\n    <tr style=\"text-align: right;\">\n      <th></th>\n      <th>Bank holidays</th>\n      <th>Type</th>\n    </tr>\n  </thead>\n  <tbody>\n    <tr>\n      <th>0</th>\n      <td>2012-12-26</td>\n      <td>Boxing Day</td>\n    </tr>\n    <tr>\n      <th>1</th>\n      <td>2012-12-25</td>\n      <td>Christmas Day</td>\n    </tr>\n    <tr>\n      <th>2</th>\n      <td>2012-08-27</td>\n      <td>Summer bank holiday</td>\n    </tr>\n    <tr>\n      <th>3</th>\n      <td>2012-05-06</td>\n      <td>Queen?s Diamond Jubilee (extra bank holiday)</td>\n    </tr>\n    <tr>\n      <th>4</th>\n      <td>2012-04-06</td>\n      <td>Spring bank holiday (substitute day)</td>\n    </tr>\n  </tbody>\n</table>\n</div>"
     },
     "metadata": {}
    }
   ],
   "execution_count": null
  },
  {
   "cell_type": "code",
   "metadata": {
    "tags": [],
    "cell_id": "00004-f647371f-7388-4b8e-864f-6c7d9097144a",
    "deepnote_to_be_reexecuted": false,
    "source_hash": "184593db",
    "execution_start": 1635604985808,
    "execution_millis": 20,
    "deepnote_cell_type": "code"
   },
   "source": "dfbank.isnull().sum()",
   "outputs": [
    {
     "output_type": "execute_result",
     "execution_count": 3,
     "data": {
      "text/plain": "Bank holidays    0\nType             0\ndtype: int64"
     },
     "metadata": {}
    }
   ],
   "execution_count": null
  },
  {
   "cell_type": "code",
   "metadata": {
    "tags": [],
    "cell_id": "00006-c949d99f-93b2-4477-ad58-e6db044df930",
    "deepnote_to_be_reexecuted": false,
    "source_hash": "192fdcd2",
    "execution_start": 1635604985832,
    "execution_millis": 408052768,
    "deepnote_cell_type": "code"
   },
   "source": "\ndfbank.count()",
   "outputs": [
    {
     "output_type": "execute_result",
     "execution_count": 4,
     "data": {
      "text/plain": "Bank holidays    25\nType             25\ndtype: int64"
     },
     "metadata": {}
    }
   ],
   "execution_count": null
  },
  {
   "cell_type": "code",
   "metadata": {
    "tags": [],
    "cell_id": "00006-632f9cdf-5428-456a-9c76-0aeeae4b4d35",
    "deepnote_to_be_reexecuted": false,
    "source_hash": "a55a30c9",
    "execution_start": 1635604985895,
    "execution_millis": 408052769,
    "deepnote_cell_type": "code"
   },
   "source": "dfbank_duplicates = dfbank.drop_duplicates()\nlen(dfbank_duplicates)",
   "outputs": [
    {
     "output_type": "execute_result",
     "execution_count": 5,
     "data": {
      "text/plain": "25"
     },
     "metadata": {}
    }
   ],
   "execution_count": null
  },
  {
   "cell_type": "markdown",
   "source": "## Dataset weather_daily_darksky",
   "metadata": {
    "tags": [],
    "is_collapsed": true,
    "cell_id": "00009-cad3b580-8311-4dcc-9594-a4d6427d4e61",
    "deepnote_cell_type": "text-cell-h2"
   }
  },
  {
   "cell_type": "markdown",
   "source": "Cargamos el dataset con el nombre 'weather_laily_darksky'. Este dataset es uno de los más importantes de cara al modelo. Pese al gran número de columnas que tenía, decidimos imprimir la matriz de correlación entre las diferentes columnas para eliminar aquellas que tuvieran menos correlación. Posteriormente, revisamos los nulos y borramos la fila que tenía un valor nulo, ya que apenas iba a influir en nuestro modelo.\nTambién, comprobamos que no había valores duplicados y vimos que valores contenía la variable 'precipType'",
   "metadata": {
    "tags": [],
    "cell_id": "00012-70ce28b1-b36d-4cd2-9481-0774bd61a914",
    "deepnote_cell_type": "markdown"
   }
  },
  {
   "cell_type": "code",
   "metadata": {
    "tags": [],
    "cell_id": "00002-c93cbd18-ca7f-4ec8-90f7-65f7119d7767",
    "deepnote_to_be_reexecuted": false,
    "source_hash": "12795fcb",
    "execution_start": 1635604985895,
    "execution_millis": 220,
    "deepnote_cell_type": "code"
   },
   "source": "dfwea = pd.read_csv('weather_daily_darksky.csv', usecols = ['temperatureMax', 'icon',\n       'dewPoint', 'temperatureMinTime', 'cloudCover', 'windSpeed', 'apparentTemperatureHigh', 'precipType',\n       'visibility', 'humidity', 'temperatureMaxTime',\n       'apparentTemperatureLow', 'apparentTemperatureMax', 'uvIndex', 'time',\n       'sunsetTime', 'temperatureLow', 'temperatureMin', 'temperatureHigh',\n       'sunriseTime', 'uvIndexTime','temperatureLowTime', 'apparentTemperatureMin'])\ndfwea.head()",
   "outputs": [
    {
     "output_type": "execute_result",
     "execution_count": 6,
     "data": {
      "application/vnd.deepnote.dataframe.v2+json": {
       "row_count": 5,
       "column_count": 23,
       "columns": [
        {
         "name": "temperatureMax",
         "dtype": "float64",
         "stats": {
          "unique_count": 5,
          "nan_count": 0,
          "min": "8.07",
          "max": "11.96",
          "histogram": [
           {
            "bin_start": 8.07,
            "bin_end": 8.459,
            "count": 2
           },
           {
            "bin_start": 8.459,
            "bin_end": 8.848,
            "count": 1
           },
           {
            "bin_start": 8.848,
            "bin_end": 9.237,
            "count": 0
           },
           {
            "bin_start": 9.237,
            "bin_end": 9.626000000000001,
            "count": 0
           },
           {
            "bin_start": 9.626000000000001,
            "bin_end": 10.015,
            "count": 0
           },
           {
            "bin_start": 10.015,
            "bin_end": 10.404,
            "count": 1
           },
           {
            "bin_start": 10.404,
            "bin_end": 10.793000000000001,
            "count": 0
           },
           {
            "bin_start": 10.793000000000001,
            "bin_end": 11.182,
            "count": 0
           },
           {
            "bin_start": 11.182,
            "bin_end": 11.571000000000002,
            "count": 0
           },
           {
            "bin_start": 11.571000000000002,
            "bin_end": 11.96,
            "count": 1
           }
          ]
         }
        },
        {
         "name": "temperatureMaxTime",
         "dtype": "object",
         "stats": {
          "unique_count": 5,
          "nan_count": 0,
          "categories": [
           {
            "name": "2011-11-11 23:00:00",
            "count": 1
           },
           {
            "name": "2011-12-11 14:00:00",
            "count": 1
           },
           {
            "name": "3 others",
            "count": 3
           }
          ]
         }
        },
        {
         "name": "icon",
         "dtype": "object",
         "stats": {
          "unique_count": 4,
          "nan_count": 0,
          "categories": [
           {
            "name": "partly-cloudy-day",
            "count": 2
           },
           {
            "name": "fog",
            "count": 1
           },
           {
            "name": "2 others",
            "count": 2
           }
          ]
         }
        },
        {
         "name": "dewPoint",
         "dtype": "float64",
         "stats": {
          "unique_count": 5,
          "nan_count": 0,
          "min": "2.79",
          "max": "9.4",
          "histogram": [
           {
            "bin_start": 2.79,
            "bin_end": 3.451,
            "count": 1
           },
           {
            "bin_start": 3.451,
            "bin_end": 4.112,
            "count": 1
           },
           {
            "bin_start": 4.112,
            "bin_end": 4.773,
            "count": 1
           },
           {
            "bin_start": 4.773,
            "bin_end": 5.434,
            "count": 0
           },
           {
            "bin_start": 5.434,
            "bin_end": 6.095000000000001,
            "count": 1
           },
           {
            "bin_start": 6.095000000000001,
            "bin_end": 6.756,
            "count": 0
           },
           {
            "bin_start": 6.756,
            "bin_end": 7.417000000000001,
            "count": 0
           },
           {
            "bin_start": 7.417000000000001,
            "bin_end": 8.078,
            "count": 0
           },
           {
            "bin_start": 8.078,
            "bin_end": 8.739,
            "count": 0
           },
           {
            "bin_start": 8.739,
            "bin_end": 9.4,
            "count": 1
           }
          ]
         }
        },
        {
         "name": "temperatureMinTime",
         "dtype": "object",
         "stats": {
          "unique_count": 5,
          "nan_count": 0,
          "categories": [
           {
            "name": "2011-11-11 07:00:00",
            "count": 1
           },
           {
            "name": "2011-12-11 01:00:00",
            "count": 1
           },
           {
            "name": "3 others",
            "count": 3
           }
          ]
         }
        },
        {
         "name": "cloudCover",
         "dtype": "float64",
         "stats": {
          "unique_count": 5,
          "nan_count": 0,
          "min": "0.32",
          "max": "0.85",
          "histogram": [
           {
            "bin_start": 0.32,
            "bin_end": 0.373,
            "count": 2
           },
           {
            "bin_start": 0.373,
            "bin_end": 0.42600000000000005,
            "count": 0
           },
           {
            "bin_start": 0.42600000000000005,
            "bin_end": 0.47900000000000004,
            "count": 0
           },
           {
            "bin_start": 0.47900000000000004,
            "bin_end": 0.532,
            "count": 0
           },
           {
            "bin_start": 0.532,
            "bin_end": 0.585,
            "count": 1
           },
           {
            "bin_start": 0.585,
            "bin_end": 0.6380000000000001,
            "count": 0
           },
           {
            "bin_start": 0.6380000000000001,
            "bin_end": 0.6910000000000001,
            "count": 0
           },
           {
            "bin_start": 0.6910000000000001,
            "bin_end": 0.744,
            "count": 0
           },
           {
            "bin_start": 0.744,
            "bin_end": 0.797,
            "count": 1
           },
           {
            "bin_start": 0.797,
            "bin_end": 0.85,
            "count": 1
           }
          ]
         }
        },
        {
         "name": "windSpeed",
         "dtype": "float64",
         "stats": {
          "unique_count": 5,
          "nan_count": 0,
          "min": "3.0",
          "max": "4.46",
          "histogram": [
           {
            "bin_start": 3,
            "bin_end": 3.146,
            "count": 1
           },
           {
            "bin_start": 3.146,
            "bin_end": 3.292,
            "count": 0
           },
           {
            "bin_start": 3.292,
            "bin_end": 3.4379999999999997,
            "count": 0
           },
           {
            "bin_start": 3.4379999999999997,
            "bin_end": 3.584,
            "count": 1
           },
           {
            "bin_start": 3.584,
            "bin_end": 3.73,
            "count": 0
           },
           {
            "bin_start": 3.73,
            "bin_end": 3.876,
            "count": 0
           },
           {
            "bin_start": 3.876,
            "bin_end": 4.022,
            "count": 2
           },
           {
            "bin_start": 4.022,
            "bin_end": 4.168,
            "count": 0
           },
           {
            "bin_start": 4.168,
            "bin_end": 4.314,
            "count": 0
           },
           {
            "bin_start": 4.314,
            "bin_end": 4.46,
            "count": 1
           }
          ]
         }
        },
        {
         "name": "apparentTemperatureHigh",
         "dtype": "float64",
         "stats": {
          "unique_count": 5,
          "nan_count": 0,
          "min": "5.02",
          "max": "10.87",
          "histogram": [
           {
            "bin_start": 5.02,
            "bin_end": 5.6049999999999995,
            "count": 2
           },
           {
            "bin_start": 5.6049999999999995,
            "bin_end": 6.1899999999999995,
            "count": 1
           },
           {
            "bin_start": 6.1899999999999995,
            "bin_end": 6.7749999999999995,
            "count": 0
           },
           {
            "bin_start": 6.7749999999999995,
            "bin_end": 7.359999999999999,
            "count": 0
           },
           {
            "bin_start": 7.359999999999999,
            "bin_end": 7.944999999999999,
            "count": 0
           },
           {
            "bin_start": 7.944999999999999,
            "bin_end": 8.53,
            "count": 0
           },
           {
            "bin_start": 8.53,
            "bin_end": 9.114999999999998,
            "count": 0
           },
           {
            "bin_start": 9.114999999999998,
            "bin_end": 9.7,
            "count": 0
           },
           {
            "bin_start": 9.7,
            "bin_end": 10.285,
            "count": 0
           },
           {
            "bin_start": 10.285,
            "bin_end": 10.87,
            "count": 2
           }
          ]
         }
        },
        {
         "name": "precipType",
         "dtype": "object",
         "stats": {
          "unique_count": 1,
          "nan_count": 0,
          "categories": [
           {
            "name": "rain",
            "count": 5
           }
          ]
         }
        },
        {
         "name": "visibility",
         "dtype": "float64",
         "stats": {
          "unique_count": 5,
          "nan_count": 0,
          "min": "3.3",
          "max": "13.39",
          "histogram": [
           {
            "bin_start": 3.3,
            "bin_end": 4.308999999999999,
            "count": 1
           },
           {
            "bin_start": 4.308999999999999,
            "bin_end": 5.318,
            "count": 0
           },
           {
            "bin_start": 5.318,
            "bin_end": 6.327,
            "count": 0
           },
           {
            "bin_start": 6.327,
            "bin_end": 7.335999999999999,
            "count": 0
           },
           {
            "bin_start": 7.335999999999999,
            "bin_end": 8.344999999999999,
            "count": 0
           },
           {
            "bin_start": 8.344999999999999,
            "bin_end": 9.354,
            "count": 0
           },
           {
            "bin_start": 9.354,
            "bin_end": 10.363,
            "count": 0
           },
           {
            "bin_start": 10.363,
            "bin_end": 11.372,
            "count": 0
           },
           {
            "bin_start": 11.372,
            "bin_end": 12.381,
            "count": 2
           },
           {
            "bin_start": 12.381,
            "bin_end": 13.39,
            "count": 2
           }
          ]
         }
        },
        {
         "name": "humidity",
         "dtype": "float64",
         "stats": {
          "unique_count": 5,
          "nan_count": 0,
          "min": "0.74",
          "max": "0.95",
          "histogram": [
           {
            "bin_start": 0.74,
            "bin_end": 0.761,
            "count": 1
           },
           {
            "bin_start": 0.761,
            "bin_end": 0.782,
            "count": 0
           },
           {
            "bin_start": 0.782,
            "bin_end": 0.8029999999999999,
            "count": 1
           },
           {
            "bin_start": 0.8029999999999999,
            "bin_end": 0.824,
            "count": 0
           },
           {
            "bin_start": 0.824,
            "bin_end": 0.845,
            "count": 0
           },
           {
            "bin_start": 0.845,
            "bin_end": 0.866,
            "count": 0
           },
           {
            "bin_start": 0.866,
            "bin_end": 0.887,
            "count": 2
           },
           {
            "bin_start": 0.887,
            "bin_end": 0.9079999999999999,
            "count": 0
           },
           {
            "bin_start": 0.9079999999999999,
            "bin_end": 0.9289999999999999,
            "count": 0
           },
           {
            "bin_start": 0.9289999999999999,
            "bin_end": 0.95,
            "count": 1
           }
          ]
         }
        },
        {
         "name": "apparentTemperatureLow",
         "dtype": "float64",
         "stats": {
          "unique_count": 5,
          "nan_count": 0,
          "min": "-0.64",
          "max": "10.87",
          "histogram": [
           {
            "bin_start": -0.64,
            "bin_end": 0.511,
            "count": 1
           },
           {
            "bin_start": 0.511,
            "bin_end": 1.662,
            "count": 0
           },
           {
            "bin_start": 1.662,
            "bin_end": 2.813,
            "count": 0
           },
           {
            "bin_start": 2.813,
            "bin_end": 3.964,
            "count": 1
           },
           {
            "bin_start": 3.964,
            "bin_end": 5.115,
            "count": 1
           },
           {
            "bin_start": 5.115,
            "bin_end": 6.266000000000001,
            "count": 1
           },
           {
            "bin_start": 6.266000000000001,
            "bin_end": 7.417000000000001,
            "count": 0
           },
           {
            "bin_start": 7.417000000000001,
            "bin_end": 8.568,
            "count": 0
           },
           {
            "bin_start": 8.568,
            "bin_end": 9.719,
            "count": 0
           },
           {
            "bin_start": 9.719,
            "bin_end": 10.87,
            "count": 1
           }
          ]
         }
        },
        {
         "name": "apparentTemperatureMax",
         "dtype": "float64",
         "stats": {
          "unique_count": 5,
          "nan_count": 0,
          "min": "5.32",
          "max": "11.96",
          "histogram": [
           {
            "bin_start": 5.32,
            "bin_end": 5.984,
            "count": 3
           },
           {
            "bin_start": 5.984,
            "bin_end": 6.648000000000001,
            "count": 0
           },
           {
            "bin_start": 6.648000000000001,
            "bin_end": 7.312,
            "count": 0
           },
           {
            "bin_start": 7.312,
            "bin_end": 7.976000000000001,
            "count": 0
           },
           {
            "bin_start": 7.976000000000001,
            "bin_end": 8.64,
            "count": 0
           },
           {
            "bin_start": 8.64,
            "bin_end": 9.304,
            "count": 0
           },
           {
            "bin_start": 9.304,
            "bin_end": 9.968,
            "count": 0
           },
           {
            "bin_start": 9.968,
            "bin_end": 10.632000000000001,
            "count": 1
           },
           {
            "bin_start": 10.632000000000001,
            "bin_end": 11.296,
            "count": 0
           },
           {
            "bin_start": 11.296,
            "bin_end": 11.96,
            "count": 1
           }
          ]
         }
        },
        {
         "name": "uvIndex",
         "dtype": "float64",
         "stats": {
          "unique_count": 2,
          "nan_count": 0,
          "min": "0.0",
          "max": "1.0",
          "histogram": [
           {
            "bin_start": 0,
            "bin_end": 0.1,
            "count": 1
           },
           {
            "bin_start": 0.1,
            "bin_end": 0.2,
            "count": 0
           },
           {
            "bin_start": 0.2,
            "bin_end": 0.30000000000000004,
            "count": 0
           },
           {
            "bin_start": 0.30000000000000004,
            "bin_end": 0.4,
            "count": 0
           },
           {
            "bin_start": 0.4,
            "bin_end": 0.5,
            "count": 0
           },
           {
            "bin_start": 0.5,
            "bin_end": 0.6000000000000001,
            "count": 0
           },
           {
            "bin_start": 0.6000000000000001,
            "bin_end": 0.7000000000000001,
            "count": 0
           },
           {
            "bin_start": 0.7000000000000001,
            "bin_end": 0.8,
            "count": 0
           },
           {
            "bin_start": 0.8,
            "bin_end": 0.9,
            "count": 0
           },
           {
            "bin_start": 0.9,
            "bin_end": 1,
            "count": 4
           }
          ]
         }
        },
        {
         "name": "time",
         "dtype": "object",
         "stats": {
          "unique_count": 5,
          "nan_count": 0,
          "categories": [
           {
            "name": "2011-11-11 00:00:00",
            "count": 1
           },
           {
            "name": "2011-12-11 00:00:00",
            "count": 1
           },
           {
            "name": "3 others",
            "count": 3
           }
          ]
         }
        },
        {
         "name": "sunsetTime",
         "dtype": "object",
         "stats": {
          "unique_count": 5,
          "nan_count": 0,
          "categories": [
           {
            "name": "2011-11-11 16:19:21",
            "count": 1
           },
           {
            "name": "2011-12-11 15:52:53",
            "count": 1
           },
           {
            "name": "3 others",
            "count": 3
           }
          ]
         }
        },
        {
         "name": "temperatureLow",
         "dtype": "float64",
         "stats": {
          "unique_count": 5,
          "nan_count": 0,
          "min": "3.09",
          "max": "10.87",
          "histogram": [
           {
            "bin_start": 3.09,
            "bin_end": 3.868,
            "count": 1
           },
           {
            "bin_start": 3.868,
            "bin_end": 4.646,
            "count": 0
           },
           {
            "bin_start": 4.646,
            "bin_end": 5.4239999999999995,
            "count": 0
           },
           {
            "bin_start": 5.4239999999999995,
            "bin_end": 6.202,
            "count": 0
           },
           {
            "bin_start": 6.202,
            "bin_end": 6.9799999999999995,
            "count": 1
           },
           {
            "bin_start": 6.9799999999999995,
            "bin_end": 7.757999999999999,
            "count": 1
           },
           {
            "bin_start": 7.757999999999999,
            "bin_end": 8.536,
            "count": 1
           },
           {
            "bin_start": 8.536,
            "bin_end": 9.314,
            "count": 0
           },
           {
            "bin_start": 9.314,
            "bin_end": 10.091999999999999,
            "count": 0
           },
           {
            "bin_start": 10.091999999999999,
            "bin_end": 10.87,
            "count": 1
           }
          ]
         }
        },
        {
         "name": "temperatureMin",
         "dtype": "float64",
         "stats": {
          "unique_count": 5,
          "nan_count": 0,
          "min": "2.48",
          "max": "8.85",
          "histogram": [
           {
            "bin_start": 2.48,
            "bin_end": 3.117,
            "count": 2
           },
           {
            "bin_start": 3.117,
            "bin_end": 3.7539999999999996,
            "count": 1
           },
           {
            "bin_start": 3.7539999999999996,
            "bin_end": 4.391,
            "count": 0
           },
           {
            "bin_start": 4.391,
            "bin_end": 5.028,
            "count": 0
           },
           {
            "bin_start": 5.028,
            "bin_end": 5.664999999999999,
            "count": 0
           },
           {
            "bin_start": 5.664999999999999,
            "bin_end": 6.302,
            "count": 0
           },
           {
            "bin_start": 6.302,
            "bin_end": 6.939,
            "count": 0
           },
           {
            "bin_start": 6.939,
            "bin_end": 7.575999999999999,
            "count": 0
           },
           {
            "bin_start": 7.575999999999999,
            "bin_end": 8.213,
            "count": 1
           },
           {
            "bin_start": 8.213,
            "bin_end": 8.85,
            "count": 1
           }
          ]
         }
        },
        {
         "name": "temperatureHigh",
         "dtype": "float64",
         "stats": {
          "unique_count": 5,
          "nan_count": 0,
          "min": "7.36",
          "max": "10.87",
          "histogram": [
           {
            "bin_start": 7.36,
            "bin_end": 7.711,
            "count": 1
           },
           {
            "bin_start": 7.711,
            "bin_end": 8.062,
            "count": 1
           },
           {
            "bin_start": 8.062,
            "bin_end": 8.413,
            "count": 0
           },
           {
            "bin_start": 8.413,
            "bin_end": 8.764,
            "count": 1
           },
           {
            "bin_start": 8.764,
            "bin_end": 9.115,
            "count": 0
           },
           {
            "bin_start": 9.115,
            "bin_end": 9.466,
            "count": 0
           },
           {
            "bin_start": 9.466,
            "bin_end": 9.817,
            "count": 0
           },
           {
            "bin_start": 9.817,
            "bin_end": 10.168,
            "count": 0
           },
           {
            "bin_start": 10.168,
            "bin_end": 10.518999999999998,
            "count": 1
           },
           {
            "bin_start": 10.518999999999998,
            "bin_end": 10.87,
            "count": 1
           }
          ]
         }
        },
        {
         "name": "sunriseTime",
         "dtype": "object",
         "stats": {
          "unique_count": 5,
          "nan_count": 0,
          "categories": [
           {
            "name": "2011-11-11 07:12:14",
            "count": 1
           },
           {
            "name": "2011-12-11 07:57:02",
            "count": 1
           },
           {
            "name": "3 others",
            "count": 3
           }
          ]
         }
        },
        {
         "name": "uvIndexTime",
         "dtype": "object",
         "stats": {
          "unique_count": 5,
          "nan_count": 0,
          "categories": [
           {
            "name": "2011-11-11 11:00:00",
            "count": 1
           },
           {
            "name": "2011-12-11 12:00:00",
            "count": 1
           },
           {
            "name": "3 others",
            "count": 3
           }
          ]
         }
        },
        {
         "name": "temperatureLowTime",
         "dtype": "object",
         "stats": {
          "unique_count": 5,
          "nan_count": 0,
          "categories": [
           {
            "name": "2011-11-11 19:00:00",
            "count": 1
           },
           {
            "name": "2011-12-12 07:00:00",
            "count": 1
           },
           {
            "name": "3 others",
            "count": 3
           }
          ]
         }
        },
        {
         "name": "apparentTemperatureMin",
         "dtype": "float64",
         "stats": {
          "unique_count": 5,
          "nan_count": 0,
          "min": "-0.51",
          "max": "6.48",
          "histogram": [
           {
            "bin_start": -0.51,
            "bin_end": 0.18900000000000006,
            "count": 2
           },
           {
            "bin_start": 0.18900000000000006,
            "bin_end": 0.8880000000000001,
            "count": 1
           },
           {
            "bin_start": 0.8880000000000001,
            "bin_end": 1.5870000000000004,
            "count": 0
           },
           {
            "bin_start": 1.5870000000000004,
            "bin_end": 2.2860000000000005,
            "count": 0
           },
           {
            "bin_start": 2.2860000000000005,
            "bin_end": 2.9850000000000003,
            "count": 0
           },
           {
            "bin_start": 2.9850000000000003,
            "bin_end": 3.684000000000001,
            "count": 0
           },
           {
            "bin_start": 3.684000000000001,
            "bin_end": 4.383000000000001,
            "count": 0
           },
           {
            "bin_start": 4.383000000000001,
            "bin_end": 5.082000000000001,
            "count": 0
           },
           {
            "bin_start": 5.082000000000001,
            "bin_end": 5.781000000000001,
            "count": 1
           },
           {
            "bin_start": 5.781000000000001,
            "bin_end": 6.48,
            "count": 1
           }
          ]
         }
        },
        {
         "name": "_deepnote_index_column",
         "dtype": "int64"
        }
       ],
       "rows_top": [
        {
         "temperatureMax": 11.96,
         "temperatureMaxTime": "2011-11-11 23:00:00",
         "icon": "fog",
         "dewPoint": 9.4,
         "temperatureMinTime": "2011-11-11 07:00:00",
         "cloudCover": 0.79,
         "windSpeed": 3.88,
         "apparentTemperatureHigh": 10.87,
         "precipType": "rain",
         "visibility": 3.3,
         "humidity": 0.95,
         "apparentTemperatureLow": 10.87,
         "apparentTemperatureMax": 11.96,
         "uvIndex": 1,
         "time": "2011-11-11 00:00:00",
         "sunsetTime": "2011-11-11 16:19:21",
         "temperatureLow": 10.87,
         "temperatureMin": 8.85,
         "temperatureHigh": 10.87,
         "sunriseTime": "2011-11-11 07:12:14",
         "uvIndexTime": "2011-11-11 11:00:00",
         "temperatureLowTime": "2011-11-11 19:00:00",
         "apparentTemperatureMin": 6.48,
         "_deepnote_index_column": 0
        },
        {
         "temperatureMax": 8.59,
         "temperatureMaxTime": "2011-12-11 14:00:00",
         "icon": "partly-cloudy-day",
         "dewPoint": 4.49,
         "temperatureMinTime": "2011-12-11 01:00:00",
         "cloudCover": 0.56,
         "windSpeed": 3.94,
         "apparentTemperatureHigh": 5.62,
         "precipType": "rain",
         "visibility": 12.09,
         "humidity": 0.88,
         "apparentTemperatureLow": -0.64,
         "apparentTemperatureMax": 5.72,
         "uvIndex": 1,
         "time": "2011-12-11 00:00:00",
         "sunsetTime": "2011-12-11 15:52:53",
         "temperatureLow": 3.09,
         "temperatureMin": 2.48,
         "temperatureHigh": 8.59,
         "sunriseTime": "2011-12-11 07:57:02",
         "uvIndexTime": "2011-12-11 12:00:00",
         "temperatureLowTime": "2011-12-12 07:00:00",
         "apparentTemperatureMin": 0.11,
         "_deepnote_index_column": 1
        },
        {
         "temperatureMax": 10.33,
         "temperatureMaxTime": "2011-12-27 02:00:00",
         "icon": "partly-cloudy-day",
         "dewPoint": 5.47,
         "temperatureMinTime": "2011-12-27 23:00:00",
         "cloudCover": 0.85,
         "windSpeed": 3.54,
         "apparentTemperatureHigh": 10.33,
         "precipType": "rain",
         "visibility": 13.39,
         "humidity": 0.74,
         "apparentTemperatureLow": 5.52,
         "apparentTemperatureMax": 10.33,
         "uvIndex": 0,
         "time": "2011-12-27 00:00:00",
         "sunsetTime": "2011-12-27 15:57:56",
         "temperatureLow": 8.03,
         "temperatureMin": 8.03,
         "temperatureHigh": 10.33,
         "sunriseTime": "2011-12-27 08:07:06",
         "uvIndexTime": "2011-12-27 00:00:00",
         "temperatureLowTime": "2011-12-27 23:00:00",
         "apparentTemperatureMin": 5.59,
         "_deepnote_index_column": 2
        },
        {
         "temperatureMax": 8.07,
         "temperatureMaxTime": "2011-12-02 23:00:00",
         "icon": "wind",
         "dewPoint": 3.69,
         "temperatureMinTime": "2011-12-02 07:00:00",
         "cloudCover": 0.32,
         "windSpeed": 3,
         "apparentTemperatureHigh": 5.33,
         "precipType": "rain",
         "visibility": 11.89,
         "humidity": 0.87,
         "apparentTemperatureLow": 3.26,
         "apparentTemperatureMax": 5.33,
         "uvIndex": 1,
         "time": "2011-12-02 00:00:00",
         "sunsetTime": "2011-12-02 15:56:17",
         "temperatureLow": 6.33,
         "temperatureMin": 2.56,
         "temperatureHigh": 7.36,
         "sunriseTime": "2011-12-02 07:46:09",
         "uvIndexTime": "2011-12-02 10:00:00",
         "temperatureLowTime": "2011-12-02 19:00:00",
         "apparentTemperatureMin": 0.46,
         "_deepnote_index_column": 3
        },
        {
         "temperatureMax": 8.22,
         "temperatureMaxTime": "2011-12-24 23:00:00",
         "icon": "partly-cloudy-night",
         "dewPoint": 2.79,
         "temperatureMinTime": "2011-12-24 07:00:00",
         "cloudCover": 0.37,
         "windSpeed": 4.46,
         "apparentTemperatureHigh": 5.02,
         "precipType": "rain",
         "visibility": 13.16,
         "humidity": 0.8,
         "apparentTemperatureLow": 4.37,
         "apparentTemperatureMax": 5.32,
         "uvIndex": 1,
         "time": "2011-12-24 00:00:00",
         "sunsetTime": "2011-12-24 15:55:55",
         "temperatureLow": 7.45,
         "temperatureMin": 3.17,
         "temperatureHigh": 7.93,
         "sunriseTime": "2011-12-24 08:06:15",
         "uvIndexTime": "2011-12-24 13:00:00",
         "temperatureLowTime": "2011-12-24 19:00:00",
         "apparentTemperatureMin": -0.51,
         "_deepnote_index_column": 4
        }
       ],
       "rows_bottom": null
      },
      "text/plain": "   temperatureMax   temperatureMaxTime                 icon  dewPoint  \\\n0           11.96  2011-11-11 23:00:00                  fog      9.40   \n1            8.59  2011-12-11 14:00:00    partly-cloudy-day      4.49   \n2           10.33  2011-12-27 02:00:00    partly-cloudy-day      5.47   \n3            8.07  2011-12-02 23:00:00                 wind      3.69   \n4            8.22  2011-12-24 23:00:00  partly-cloudy-night      2.79   \n\n    temperatureMinTime  cloudCover  windSpeed  apparentTemperatureHigh  \\\n0  2011-11-11 07:00:00        0.79       3.88                    10.87   \n1  2011-12-11 01:00:00        0.56       3.94                     5.62   \n2  2011-12-27 23:00:00        0.85       3.54                    10.33   \n3  2011-12-02 07:00:00        0.32       3.00                     5.33   \n4  2011-12-24 07:00:00        0.37       4.46                     5.02   \n\n  precipType  visibility  ...  uvIndex                 time  \\\n0       rain        3.30  ...      1.0  2011-11-11 00:00:00   \n1       rain       12.09  ...      1.0  2011-12-11 00:00:00   \n2       rain       13.39  ...      0.0  2011-12-27 00:00:00   \n3       rain       11.89  ...      1.0  2011-12-02 00:00:00   \n4       rain       13.16  ...      1.0  2011-12-24 00:00:00   \n\n            sunsetTime  temperatureLow temperatureMin temperatureHigh  \\\n0  2011-11-11 16:19:21           10.87           8.85           10.87   \n1  2011-12-11 15:52:53            3.09           2.48            8.59   \n2  2011-12-27 15:57:56            8.03           8.03           10.33   \n3  2011-12-02 15:56:17            6.33           2.56            7.36   \n4  2011-12-24 15:55:55            7.45           3.17            7.93   \n\n           sunriseTime          uvIndexTime   temperatureLowTime  \\\n0  2011-11-11 07:12:14  2011-11-11 11:00:00  2011-11-11 19:00:00   \n1  2011-12-11 07:57:02  2011-12-11 12:00:00  2011-12-12 07:00:00   \n2  2011-12-27 08:07:06  2011-12-27 00:00:00  2011-12-27 23:00:00   \n3  2011-12-02 07:46:09  2011-12-02 10:00:00  2011-12-02 19:00:00   \n4  2011-12-24 08:06:15  2011-12-24 13:00:00  2011-12-24 19:00:00   \n\n  apparentTemperatureMin  \n0                   6.48  \n1                   0.11  \n2                   5.59  \n3                   0.46  \n4                  -0.51  \n\n[5 rows x 23 columns]",
      "text/html": "<div>\n<style scoped>\n    .dataframe tbody tr th:only-of-type {\n        vertical-align: middle;\n    }\n\n    .dataframe tbody tr th {\n        vertical-align: top;\n    }\n\n    .dataframe thead th {\n        text-align: right;\n    }\n</style>\n<table border=\"1\" class=\"dataframe\">\n  <thead>\n    <tr style=\"text-align: right;\">\n      <th></th>\n      <th>temperatureMax</th>\n      <th>temperatureMaxTime</th>\n      <th>icon</th>\n      <th>dewPoint</th>\n      <th>temperatureMinTime</th>\n      <th>cloudCover</th>\n      <th>windSpeed</th>\n      <th>apparentTemperatureHigh</th>\n      <th>precipType</th>\n      <th>visibility</th>\n      <th>...</th>\n      <th>uvIndex</th>\n      <th>time</th>\n      <th>sunsetTime</th>\n      <th>temperatureLow</th>\n      <th>temperatureMin</th>\n      <th>temperatureHigh</th>\n      <th>sunriseTime</th>\n      <th>uvIndexTime</th>\n      <th>temperatureLowTime</th>\n      <th>apparentTemperatureMin</th>\n    </tr>\n  </thead>\n  <tbody>\n    <tr>\n      <th>0</th>\n      <td>11.96</td>\n      <td>2011-11-11 23:00:00</td>\n      <td>fog</td>\n      <td>9.40</td>\n      <td>2011-11-11 07:00:00</td>\n      <td>0.79</td>\n      <td>3.88</td>\n      <td>10.87</td>\n      <td>rain</td>\n      <td>3.30</td>\n      <td>...</td>\n      <td>1.0</td>\n      <td>2011-11-11 00:00:00</td>\n      <td>2011-11-11 16:19:21</td>\n      <td>10.87</td>\n      <td>8.85</td>\n      <td>10.87</td>\n      <td>2011-11-11 07:12:14</td>\n      <td>2011-11-11 11:00:00</td>\n      <td>2011-11-11 19:00:00</td>\n      <td>6.48</td>\n    </tr>\n    <tr>\n      <th>1</th>\n      <td>8.59</td>\n      <td>2011-12-11 14:00:00</td>\n      <td>partly-cloudy-day</td>\n      <td>4.49</td>\n      <td>2011-12-11 01:00:00</td>\n      <td>0.56</td>\n      <td>3.94</td>\n      <td>5.62</td>\n      <td>rain</td>\n      <td>12.09</td>\n      <td>...</td>\n      <td>1.0</td>\n      <td>2011-12-11 00:00:00</td>\n      <td>2011-12-11 15:52:53</td>\n      <td>3.09</td>\n      <td>2.48</td>\n      <td>8.59</td>\n      <td>2011-12-11 07:57:02</td>\n      <td>2011-12-11 12:00:00</td>\n      <td>2011-12-12 07:00:00</td>\n      <td>0.11</td>\n    </tr>\n    <tr>\n      <th>2</th>\n      <td>10.33</td>\n      <td>2011-12-27 02:00:00</td>\n      <td>partly-cloudy-day</td>\n      <td>5.47</td>\n      <td>2011-12-27 23:00:00</td>\n      <td>0.85</td>\n      <td>3.54</td>\n      <td>10.33</td>\n      <td>rain</td>\n      <td>13.39</td>\n      <td>...</td>\n      <td>0.0</td>\n      <td>2011-12-27 00:00:00</td>\n      <td>2011-12-27 15:57:56</td>\n      <td>8.03</td>\n      <td>8.03</td>\n      <td>10.33</td>\n      <td>2011-12-27 08:07:06</td>\n      <td>2011-12-27 00:00:00</td>\n      <td>2011-12-27 23:00:00</td>\n      <td>5.59</td>\n    </tr>\n    <tr>\n      <th>3</th>\n      <td>8.07</td>\n      <td>2011-12-02 23:00:00</td>\n      <td>wind</td>\n      <td>3.69</td>\n      <td>2011-12-02 07:00:00</td>\n      <td>0.32</td>\n      <td>3.00</td>\n      <td>5.33</td>\n      <td>rain</td>\n      <td>11.89</td>\n      <td>...</td>\n      <td>1.0</td>\n      <td>2011-12-02 00:00:00</td>\n      <td>2011-12-02 15:56:17</td>\n      <td>6.33</td>\n      <td>2.56</td>\n      <td>7.36</td>\n      <td>2011-12-02 07:46:09</td>\n      <td>2011-12-02 10:00:00</td>\n      <td>2011-12-02 19:00:00</td>\n      <td>0.46</td>\n    </tr>\n    <tr>\n      <th>4</th>\n      <td>8.22</td>\n      <td>2011-12-24 23:00:00</td>\n      <td>partly-cloudy-night</td>\n      <td>2.79</td>\n      <td>2011-12-24 07:00:00</td>\n      <td>0.37</td>\n      <td>4.46</td>\n      <td>5.02</td>\n      <td>rain</td>\n      <td>13.16</td>\n      <td>...</td>\n      <td>1.0</td>\n      <td>2011-12-24 00:00:00</td>\n      <td>2011-12-24 15:55:55</td>\n      <td>7.45</td>\n      <td>3.17</td>\n      <td>7.93</td>\n      <td>2011-12-24 08:06:15</td>\n      <td>2011-12-24 13:00:00</td>\n      <td>2011-12-24 19:00:00</td>\n      <td>-0.51</td>\n    </tr>\n  </tbody>\n</table>\n<p>5 rows × 23 columns</p>\n</div>"
     },
     "metadata": {}
    }
   ],
   "execution_count": null
  },
  {
   "cell_type": "code",
   "metadata": {
    "tags": [],
    "cell_id": "00012-5946c1cd-7d1c-48e0-8a71-e654d3f3487e",
    "deepnote_to_be_reexecuted": false,
    "source_hash": "ec3bdedd",
    "execution_start": 1635604986046,
    "execution_millis": 2586,
    "deepnote_cell_type": "code"
   },
   "source": "import seaborn as sns\n\nplt.figure(figsize=(12, 9))\n\ncorrMatriz=dfwea.corr()\nsns.heatmap(corrMatriz, annot=True, square=100)\nplt.show()",
   "outputs": [
    {
     "data": {
      "text/plain": "<Figure size 864x648 with 2 Axes>",
      "image/png": "[encoded data removed]"
     },
     "metadata": {
      "needs_background": "light",
      "image/png": {
       "width": 730,
       "height": 645
      }
     },
     "output_type": "display_data"
    }
   ],
   "execution_count": null
  },
  {
   "cell_type": "code",
   "metadata": {
    "tags": [],
    "cell_id": "00009-4dcaab8e-6556-4db1-baaa-d4536410db32",
    "deepnote_to_be_reexecuted": false,
    "source_hash": "aae582d8",
    "execution_start": 1635604988640,
    "execution_millis": 0,
    "deepnote_cell_type": "code"
   },
   "source": "len(dfwea)",
   "outputs": [
    {
     "output_type": "execute_result",
     "execution_count": 8,
     "data": {
      "text/plain": "882"
     },
     "metadata": {}
    }
   ],
   "execution_count": null
  },
  {
   "cell_type": "code",
   "metadata": {
    "tags": [],
    "cell_id": "00003-7c764261-45b5-4afe-8ec4-eab172bb6b42",
    "deepnote_to_be_reexecuted": false,
    "source_hash": "d22c9573",
    "execution_start": 1635604988651,
    "execution_millis": 4,
    "is_output_hidden": true,
    "deepnote_cell_type": "code"
   },
   "source": "dfwea.isnull().sum()",
   "outputs": [
    {
     "output_type": "execute_result",
     "execution_count": 9,
     "data": {
      "text/plain": "temperatureMax             0\ntemperatureMaxTime         0\nicon                       0\ndewPoint                   0\ntemperatureMinTime         0\ncloudCover                 1\nwindSpeed                  0\napparentTemperatureHigh    0\nprecipType                 0\nvisibility                 0\nhumidity                   0\napparentTemperatureLow     0\napparentTemperatureMax     0\nuvIndex                    1\ntime                       0\nsunsetTime                 0\ntemperatureLow             0\ntemperatureMin             0\ntemperatureHigh            0\nsunriseTime                0\nuvIndexTime                1\ntemperatureLowTime         0\napparentTemperatureMin     0\ndtype: int64"
     },
     "metadata": {}
    }
   ],
   "execution_count": null
  },
  {
   "cell_type": "code",
   "metadata": {
    "tags": [],
    "cell_id": "00010-b42286ba-4ccc-4213-b61f-3da5ccc6903b",
    "deepnote_to_be_reexecuted": false,
    "source_hash": "11d020d4",
    "execution_start": 1635604988662,
    "execution_millis": 12,
    "deepnote_cell_type": "code"
   },
   "source": "dfwea = dfwea.dropna()\nlen(dfwea)",
   "outputs": [
    {
     "output_type": "execute_result",
     "execution_count": 10,
     "data": {
      "text/plain": "881"
     },
     "metadata": {}
    }
   ],
   "execution_count": null
  },
  {
   "cell_type": "code",
   "metadata": {
    "tags": [],
    "cell_id": "00014-ed6d0789-97cd-4c9a-8109-c43609ea638e",
    "deepnote_to_be_reexecuted": false,
    "source_hash": "e8250b98",
    "execution_start": 1635604988678,
    "execution_millis": 18,
    "deepnote_cell_type": "code"
   },
   "source": "dfwea_duplicates = dfwea.drop_duplicates()\nlen(dfwea_duplicates)",
   "outputs": [
    {
     "output_type": "execute_result",
     "execution_count": 11,
     "data": {
      "text/plain": "881"
     },
     "metadata": {}
    }
   ],
   "execution_count": null
  },
  {
   "cell_type": "code",
   "metadata": {
    "tags": [],
    "cell_id": "00003-42b87523-82ce-4d8e-ad5d-88a6791234bc",
    "deepnote_to_be_reexecuted": false,
    "source_hash": "24b64f8",
    "execution_start": 1635604988703,
    "execution_millis": 7,
    "deepnote_cell_type": "code"
   },
   "source": "dfwea['precipType'].unique()",
   "outputs": [
    {
     "output_type": "execute_result",
     "execution_count": 12,
     "data": {
      "text/plain": "array(['rain', 'snow'], dtype=object)"
     },
     "metadata": {}
    }
   ],
   "execution_count": null
  },
  {
   "cell_type": "markdown",
   "source": "## Dataset daily_dataset/block",
   "metadata": {
    "tags": [],
    "is_collapsed": true,
    "cell_id": "00015-cc9c94fc-d067-45ea-9cad-37bc2dd7dbc6",
    "deepnote_cell_type": "text-cell-h2"
   }
  },
  {
   "cell_type": "markdown",
   "source": "El siguiente dataset a cargar nos venía dado en formato zip y, en su interior había una serie de csv. Para cargar todos ellos, tuvimos que generar un buble. Una vez unidos todos los csv, ya estaba listo para ser ampliado con más variables.",
   "metadata": {
    "tags": [],
    "cell_id": "00021-dfa86ec1-4696-4fac-8e3e-27b4b66aa2b2",
    "deepnote_cell_type": "markdown"
   }
  },
  {
   "cell_type": "code",
   "metadata": {
    "tags": [],
    "cell_id": "00003-993d0315-e3ab-49d5-b3db-8bfe64ed4827",
    "deepnote_to_be_reexecuted": false,
    "source_hash": "173961f4",
    "execution_start": 1635604988714,
    "execution_millis": 84,
    "deepnote_cell_type": "code"
   },
   "source": "dfdaily = pd.read_csv('daily_dataset/block_0.csv')\ndfdaily.head()",
   "outputs": [
    {
     "output_type": "execute_result",
     "execution_count": 13,
     "data": {
      "application/vnd.deepnote.dataframe.v2+json": {
       "row_count": 5,
       "column_count": 9,
       "columns": [
        {
         "name": "LCLid",
         "dtype": "object",
         "stats": {
          "unique_count": 1,
          "nan_count": 0,
          "categories": [
           {
            "name": "MAC000002",
            "count": 5
           }
          ]
         }
        },
        {
         "name": "day",
         "dtype": "object",
         "stats": {
          "unique_count": 5,
          "nan_count": 0,
          "categories": [
           {
            "name": "2012-10-12",
            "count": 1
           },
           {
            "name": "2012-10-13",
            "count": 1
           },
           {
            "name": "3 others",
            "count": 3
           }
          ]
         }
        },
        {
         "name": "energy_median",
         "dtype": "float64",
         "stats": {
          "unique_count": 5,
          "nan_count": 0,
          "min": "0.131",
          "max": "0.18",
          "histogram": [
           {
            "bin_start": 0.131,
            "bin_end": 0.1359,
            "count": 1
           },
           {
            "bin_start": 0.1359,
            "bin_end": 0.1408,
            "count": 1
           },
           {
            "bin_start": 0.1408,
            "bin_end": 0.1457,
            "count": 1
           },
           {
            "bin_start": 0.1457,
            "bin_end": 0.1506,
            "count": 0
           },
           {
            "bin_start": 0.1506,
            "bin_end": 0.1555,
            "count": 0
           },
           {
            "bin_start": 0.1555,
            "bin_end": 0.1604,
            "count": 1
           },
           {
            "bin_start": 0.1604,
            "bin_end": 0.1653,
            "count": 0
           },
           {
            "bin_start": 0.1653,
            "bin_end": 0.1702,
            "count": 0
           },
           {
            "bin_start": 0.1702,
            "bin_end": 0.1751,
            "count": 0
           },
           {
            "bin_start": 0.1751,
            "bin_end": 0.18,
            "count": 1
           }
          ]
         }
        },
        {
         "name": "energy_mean",
         "dtype": "float64",
         "stats": {
          "unique_count": 5,
          "nan_count": 0,
          "min": "0.1543043478260869",
          "max": "0.2754791666666666",
          "histogram": [
           {
            "bin_start": 0.1543043478260869,
            "bin_end": 0.16642182971014488,
            "count": 1
           },
           {
            "bin_start": 0.16642182971014488,
            "bin_end": 0.17853931159420283,
            "count": 0
           },
           {
            "bin_start": 0.17853931159420283,
            "bin_end": 0.1906567934782608,
            "count": 0
           },
           {
            "bin_start": 0.1906567934782608,
            "bin_end": 0.2027742753623188,
            "count": 0
           },
           {
            "bin_start": 0.2027742753623188,
            "bin_end": 0.21489175724637677,
            "count": 2
           },
           {
            "bin_start": 0.21489175724637677,
            "bin_end": 0.22700923913043472,
            "count": 0
           },
           {
            "bin_start": 0.22700923913043472,
            "bin_end": 0.2391267210144927,
            "count": 1
           },
           {
            "bin_start": 0.2391267210144927,
            "bin_end": 0.25124420289855065,
            "count": 0
           },
           {
            "bin_start": 0.25124420289855065,
            "bin_end": 0.26336168478260863,
            "count": 0
           },
           {
            "bin_start": 0.26336168478260863,
            "bin_end": 0.2754791666666666,
            "count": 1
           }
          ]
         }
        },
        {
         "name": "energy_max",
         "dtype": "float64",
         "stats": {
          "unique_count": 5,
          "nan_count": 0,
          "min": "0.8859999999999999",
          "max": "1.164",
          "histogram": [
           {
            "bin_start": 0.8859999999999999,
            "bin_end": 0.9138,
            "count": 1
           },
           {
            "bin_start": 0.9138,
            "bin_end": 0.9415999999999999,
            "count": 1
           },
           {
            "bin_start": 0.9415999999999999,
            "bin_end": 0.9693999999999999,
            "count": 0
           },
           {
            "bin_start": 0.9693999999999999,
            "bin_end": 0.9971999999999999,
            "count": 1
           },
           {
            "bin_start": 0.9971999999999999,
            "bin_end": 1.025,
            "count": 0
           },
           {
            "bin_start": 1.025,
            "bin_end": 1.0528,
            "count": 0
           },
           {
            "bin_start": 1.0528,
            "bin_end": 1.0806,
            "count": 0
           },
           {
            "bin_start": 1.0806,
            "bin_end": 1.1083999999999998,
            "count": 1
           },
           {
            "bin_start": 1.1083999999999998,
            "bin_end": 1.1361999999999999,
            "count": 0
           },
           {
            "bin_start": 1.1361999999999999,
            "bin_end": 1.164,
            "count": 1
           }
          ]
         }
        },
        {
         "name": "energy_count",
         "dtype": "int64",
         "stats": {
          "unique_count": 2,
          "nan_count": 0,
          "min": "46",
          "max": "48",
          "histogram": [
           {
            "bin_start": 46,
            "bin_end": 46.2,
            "count": 1
           },
           {
            "bin_start": 46.2,
            "bin_end": 46.4,
            "count": 0
           },
           {
            "bin_start": 46.4,
            "bin_end": 46.6,
            "count": 0
           },
           {
            "bin_start": 46.6,
            "bin_end": 46.8,
            "count": 0
           },
           {
            "bin_start": 46.8,
            "bin_end": 47,
            "count": 0
           },
           {
            "bin_start": 47,
            "bin_end": 47.2,
            "count": 0
           },
           {
            "bin_start": 47.2,
            "bin_end": 47.4,
            "count": 0
           },
           {
            "bin_start": 47.4,
            "bin_end": 47.6,
            "count": 0
           },
           {
            "bin_start": 47.6,
            "bin_end": 47.8,
            "count": 0
           },
           {
            "bin_start": 47.8,
            "bin_end": 48,
            "count": 4
           }
          ]
         }
        },
        {
         "name": "energy_std",
         "dtype": "float64",
         "stats": {
          "unique_count": 5,
          "nan_count": 0,
          "min": "0.1841152494734004",
          "max": "0.2746472390899211",
          "histogram": [
           {
            "bin_start": 0.1841152494734004,
            "bin_end": 0.1931684484350525,
            "count": 2
           },
           {
            "bin_start": 0.1931684484350525,
            "bin_end": 0.20222164739670456,
            "count": 1
           },
           {
            "bin_start": 0.20222164739670456,
            "bin_end": 0.21127484635835664,
            "count": 0
           },
           {
            "bin_start": 0.21127484635835664,
            "bin_end": 0.2203280453200087,
            "count": 0
           },
           {
            "bin_start": 0.2203280453200087,
            "bin_end": 0.22938124428166076,
            "count": 1
           },
           {
            "bin_start": 0.22938124428166076,
            "bin_end": 0.23843444324331284,
            "count": 0
           },
           {
            "bin_start": 0.23843444324331284,
            "bin_end": 0.24748764220496489,
            "count": 0
           },
           {
            "bin_start": 0.24748764220496489,
            "bin_end": 0.25654084116661696,
            "count": 0
           },
           {
            "bin_start": 0.25654084116661696,
            "bin_end": 0.26559404012826904,
            "count": 0
           },
           {
            "bin_start": 0.26559404012826904,
            "bin_end": 0.2746472390899211,
            "count": 1
           }
          ]
         }
        },
        {
         "name": "energy_sum",
         "dtype": "float64",
         "stats": {
          "unique_count": 5,
          "nan_count": 0,
          "min": "7.098000000000001",
          "max": "13.223",
          "histogram": [
           {
            "bin_start": 7.098000000000001,
            "bin_end": 7.710500000000001,
            "count": 1
           },
           {
            "bin_start": 7.710500000000001,
            "bin_end": 8.323,
            "count": 0
           },
           {
            "bin_start": 8.323,
            "bin_end": 8.935500000000001,
            "count": 0
           },
           {
            "bin_start": 8.935500000000001,
            "bin_end": 9.548000000000002,
            "count": 0
           },
           {
            "bin_start": 9.548000000000002,
            "bin_end": 10.1605,
            "count": 1
           },
           {
            "bin_start": 10.1605,
            "bin_end": 10.773000000000001,
            "count": 1
           },
           {
            "bin_start": 10.773000000000001,
            "bin_end": 11.3855,
            "count": 1
           },
           {
            "bin_start": 11.3855,
            "bin_end": 11.998000000000001,
            "count": 0
           },
           {
            "bin_start": 11.998000000000001,
            "bin_end": 12.610500000000002,
            "count": 0
           },
           {
            "bin_start": 12.610500000000002,
            "bin_end": 13.223,
            "count": 1
           }
          ]
         }
        },
        {
         "name": "energy_min",
         "dtype": "float64",
         "stats": {
          "unique_count": 4,
          "nan_count": 0,
          "min": "0.0",
          "max": "0.087",
          "histogram": [
           {
            "bin_start": 0,
            "bin_end": 0.0087,
            "count": 1
           },
           {
            "bin_start": 0.0087,
            "bin_end": 0.0174,
            "count": 0
           },
           {
            "bin_start": 0.0174,
            "bin_end": 0.026099999999999998,
            "count": 0
           },
           {
            "bin_start": 0.026099999999999998,
            "bin_end": 0.0348,
            "count": 0
           },
           {
            "bin_start": 0.0348,
            "bin_end": 0.0435,
            "count": 0
           },
           {
            "bin_start": 0.0435,
            "bin_end": 0.052199999999999996,
            "count": 0
           },
           {
            "bin_start": 0.052199999999999996,
            "bin_end": 0.060899999999999996,
            "count": 0
           },
           {
            "bin_start": 0.060899999999999996,
            "bin_end": 0.0696,
            "count": 0
           },
           {
            "bin_start": 0.0696,
            "bin_end": 0.0783,
            "count": 3
           },
           {
            "bin_start": 0.0783,
            "bin_end": 0.087,
            "count": 1
           }
          ]
         }
        },
        {
         "name": "_deepnote_index_column",
         "dtype": "int64"
        }
       ],
       "rows_top": [
        {
         "LCLid": "MAC000002",
         "day": "2012-10-12",
         "energy_median": 0.1385,
         "energy_mean": 0.1543043478260869,
         "energy_max": 0.8859999999999999,
         "energy_count": 46,
         "energy_std": 0.1960338825095993,
         "energy_sum": 7.098000000000001,
         "energy_min": 0,
         "_deepnote_index_column": 0
        },
        {
         "LCLid": "MAC000002",
         "day": "2012-10-13",
         "energy_median": 0.18,
         "energy_mean": 0.2309791666666667,
         "energy_max": 0.933,
         "energy_count": 48,
         "energy_std": 0.1923290055224334,
         "energy_sum": 11.087000000000002,
         "energy_min": 0.076,
         "_deepnote_index_column": 1
        },
        {
         "LCLid": "MAC000002",
         "day": "2012-10-14",
         "energy_median": 0.158,
         "energy_mean": 0.2754791666666666,
         "energy_max": 1.085,
         "energy_count": 48,
         "energy_std": 0.2746472390899211,
         "energy_sum": 13.223,
         "energy_min": 0.07,
         "_deepnote_index_column": 2
        },
        {
         "LCLid": "MAC000002",
         "day": "2012-10-15",
         "energy_median": 0.131,
         "energy_mean": 0.2136875,
         "energy_max": 1.164,
         "energy_count": 48,
         "energy_std": 0.2244834407246434,
         "energy_sum": 10.257,
         "energy_min": 0.07,
         "_deepnote_index_column": 3
        },
        {
         "LCLid": "MAC000002",
         "day": "2012-10-16",
         "energy_median": 0.145,
         "energy_mean": 0.2035208333333333,
         "energy_max": 0.991,
         "energy_count": 48,
         "energy_std": 0.1841152494734004,
         "energy_sum": 9.769,
         "energy_min": 0.087,
         "_deepnote_index_column": 4
        }
       ],
       "rows_bottom": null
      },
      "text/plain": "       LCLid         day  energy_median  energy_mean  energy_max  \\\n0  MAC000002  2012-10-12         0.1385     0.154304       0.886   \n1  MAC000002  2012-10-13         0.1800     0.230979       0.933   \n2  MAC000002  2012-10-14         0.1580     0.275479       1.085   \n3  MAC000002  2012-10-15         0.1310     0.213688       1.164   \n4  MAC000002  2012-10-16         0.1450     0.203521       0.991   \n\n   energy_count  energy_std  energy_sum  energy_min  \n0            46    0.196034       7.098       0.000  \n1            48    0.192329      11.087       0.076  \n2            48    0.274647      13.223       0.070  \n3            48    0.224483      10.257       0.070  \n4            48    0.184115       9.769       0.087  ",
      "text/html": "<div>\n<style scoped>\n    .dataframe tbody tr th:only-of-type {\n        vertical-align: middle;\n    }\n\n    .dataframe tbody tr th {\n        vertical-align: top;\n    }\n\n    .dataframe thead th {\n        text-align: right;\n    }\n</style>\n<table border=\"1\" class=\"dataframe\">\n  <thead>\n    <tr style=\"text-align: right;\">\n      <th></th>\n      <th>LCLid</th>\n      <th>day</th>\n      <th>energy_median</th>\n      <th>energy_mean</th>\n      <th>energy_max</th>\n      <th>energy_count</th>\n      <th>energy_std</th>\n      <th>energy_sum</th>\n      <th>energy_min</th>\n    </tr>\n  </thead>\n  <tbody>\n    <tr>\n      <th>0</th>\n      <td>MAC000002</td>\n      <td>2012-10-12</td>\n      <td>0.1385</td>\n      <td>0.154304</td>\n      <td>0.886</td>\n      <td>46</td>\n      <td>0.196034</td>\n      <td>7.098</td>\n      <td>0.000</td>\n    </tr>\n    <tr>\n      <th>1</th>\n      <td>MAC000002</td>\n      <td>2012-10-13</td>\n      <td>0.1800</td>\n      <td>0.230979</td>\n      <td>0.933</td>\n      <td>48</td>\n      <td>0.192329</td>\n      <td>11.087</td>\n      <td>0.076</td>\n    </tr>\n    <tr>\n      <th>2</th>\n      <td>MAC000002</td>\n      <td>2012-10-14</td>\n      <td>0.1580</td>\n      <td>0.275479</td>\n      <td>1.085</td>\n      <td>48</td>\n      <td>0.274647</td>\n      <td>13.223</td>\n      <td>0.070</td>\n    </tr>\n    <tr>\n      <th>3</th>\n      <td>MAC000002</td>\n      <td>2012-10-15</td>\n      <td>0.1310</td>\n      <td>0.213688</td>\n      <td>1.164</td>\n      <td>48</td>\n      <td>0.224483</td>\n      <td>10.257</td>\n      <td>0.070</td>\n    </tr>\n    <tr>\n      <th>4</th>\n      <td>MAC000002</td>\n      <td>2012-10-16</td>\n      <td>0.1450</td>\n      <td>0.203521</td>\n      <td>0.991</td>\n      <td>48</td>\n      <td>0.184115</td>\n      <td>9.769</td>\n      <td>0.087</td>\n    </tr>\n  </tbody>\n</table>\n</div>"
     },
     "metadata": {}
    }
   ],
   "execution_count": null
  },
  {
   "cell_type": "code",
   "metadata": {
    "tags": [],
    "cell_id": "00017-f25266f2-f3aa-486a-bfa1-8960de994c11",
    "deepnote_to_be_reexecuted": false,
    "source_hash": "29d0ac42",
    "execution_start": 1635604988800,
    "execution_millis": 14,
    "deepnote_cell_type": "code"
   },
   "source": "#std supongo que será la desviación típica, sudamos por completo de la columna si eso eeee.... JAJAJAJA\ndfdaily.isnull().sum()",
   "outputs": [
    {
     "output_type": "execute_result",
     "execution_count": 14,
     "data": {
      "text/plain": "LCLid             0\nday               0\nenergy_median     0\nenergy_mean       0\nenergy_max        0\nenergy_count      0\nenergy_std       78\nenergy_sum        0\nenergy_min        0\ndtype: int64"
     },
     "metadata": {}
    }
   ],
   "execution_count": null
  },
  {
   "cell_type": "code",
   "metadata": {
    "tags": [],
    "cell_id": "00009-638e4690-f201-4a7d-ad10-132768c50783",
    "deepnote_to_be_reexecuted": false,
    "source_hash": "8012865b",
    "execution_start": 1635604988822,
    "execution_millis": 8,
    "deepnote_cell_type": "code"
   },
   "source": "dfdaily['LCLid'].unique()",
   "outputs": [
    {
     "output_type": "execute_result",
     "execution_count": 15,
     "data": {
      "text/plain": "array(['MAC000002', 'MAC000246', 'MAC000450', 'MAC001074', 'MAC003223',\n       'MAC003239', 'MAC003252', 'MAC003281', 'MAC003305', 'MAC003348',\n       'MAC003388', 'MAC003394', 'MAC003400', 'MAC003422', 'MAC003423',\n       'MAC003428', 'MAC003449', 'MAC003463', 'MAC003482', 'MAC003553',\n       'MAC003557', 'MAC003566', 'MAC003579', 'MAC003597', 'MAC003613',\n       'MAC003646', 'MAC003656', 'MAC003668', 'MAC003680', 'MAC003686',\n       'MAC003718', 'MAC003719', 'MAC003737', 'MAC003740', 'MAC003775',\n       'MAC003805', 'MAC003817', 'MAC003826', 'MAC003844', 'MAC003851',\n       'MAC003856', 'MAC003863', 'MAC003874', 'MAC004034', 'MAC004179',\n       'MAC004247', 'MAC004319', 'MAC004387', 'MAC004431', 'MAC005492'],\n      dtype=object)"
     },
     "metadata": {}
    }
   ],
   "execution_count": null
  },
  {
   "cell_type": "code",
   "metadata": {
    "tags": [],
    "cell_id": "00020-d330ad72-6d43-40dc-a558-fadafc603958",
    "deepnote_to_be_reexecuted": false,
    "source_hash": "75807418",
    "execution_start": 1635604988832,
    "execution_millis": 16,
    "deepnote_cell_type": "code"
   },
   "source": "#Hacer lo de half con daily\nrutadaily = 'daily_dataset'\ncsv_daily = os.listdir(rutadaily)\ncsv_daily\narchivos1 = []\nfor i in csv_daily:\n    direccion = \"daily_dataset/\" + i\n    archivos1.append(direccion)\narchivos1",
   "outputs": [
    {
     "output_type": "execute_result",
     "execution_count": 16,
     "data": {
      "text/plain": "['daily_dataset/block_72-20211007-165038.csv',\n 'daily_dataset/block_16.csv',\n 'daily_dataset/block_27-20211007-165038.csv',\n 'daily_dataset/block_11.csv',\n 'daily_dataset/block_39-20211007-165039.csv',\n 'daily_dataset/block_96-20211007-165041.csv',\n 'daily_dataset/block_26-20211007-165033.csv',\n 'daily_dataset/block_63.csv',\n 'daily_dataset/block_77-20211007-165040.csv',\n 'daily_dataset/block_68-20211007-165038.csv',\n 'daily_dataset/block_24-20211007-165037.csv',\n 'daily_dataset/block_64.csv',\n 'daily_dataset/block_18.csv',\n 'daily_dataset/block_74-20211007-165041.csv',\n 'daily_dataset/block_80.csv',\n 'daily_dataset/block_51.csv',\n 'daily_dataset/block_28-20211007-165041.csv',\n 'daily_dataset/block_7-20211007-165040.csv',\n 'daily_dataset/block_2-20211007-165031.csv',\n 'daily_dataset/block_63-20211007-165040.csv',\n 'daily_dataset/block_87.csv',\n 'daily_dataset/block_80-20211007-165039.csv',\n 'daily_dataset/block_56.csv',\n 'daily_dataset/block_1-20211007-165030.csv',\n 'daily_dataset/block_29-20211007-165038.csv',\n 'daily_dataset/block_104.csv',\n 'daily_dataset/block_24.csv',\n 'daily_dataset/block_89.csv',\n 'daily_dataset/block_58.csv',\n 'daily_dataset/block_102-20211007-165029.csv',\n 'daily_dataset/block_98-20211007-165041.csv',\n 'daily_dataset/block_64-20211007-165040.csv',\n 'daily_dataset/block_103.csv',\n 'daily_dataset/block_23.csv',\n 'daily_dataset/block_79-20211007-165040.csv',\n 'daily_dataset/block_106-20211007-165030.csv',\n 'daily_dataset/block_32.csv',\n 'daily_dataset/block_35.csv',\n 'daily_dataset/block_49.csv',\n 'daily_dataset/block_98.csv',\n 'daily_dataset/block_100-20211007-165032.csv',\n 'daily_dataset/block_56-20211007-165040.csv',\n 'daily_dataset/block_47.csv',\n 'daily_dataset/block_96.csv',\n 'daily_dataset/block_48-20211007-165041.csv',\n 'daily_dataset/block_40.csv',\n 'daily_dataset/block_57-20211007-165039.csv',\n 'daily_dataset/block_91.csv',\n 'daily_dataset/block_10-20211007-165032.csv',\n 'daily_dataset/block_75.csv',\n 'daily_dataset/block_12-20211007-165036.csv',\n 'daily_dataset/block_6.csv',\n 'daily_dataset/block_43-20211007-165039.csv',\n 'daily_dataset/block_59-20211007-165037.csv',\n 'daily_dataset/block_1.csv',\n 'daily_dataset/block_40-20211007-165038.csv',\n 'daily_dataset/block_72.csv',\n 'daily_dataset/block_46-20211007-165041.csv',\n 'daily_dataset/block_45-20211007-165040.csv',\n 'daily_dataset/block_8.csv',\n 'daily_dataset/block_33-20211007-165039.csv',\n 'daily_dataset/block_101-20211007-165029.csv',\n 'daily_dataset/block_102.csv',\n 'daily_dataset/block_22.csv',\n 'daily_dataset/block_61-20211007-165037.csv',\n 'daily_dataset/block_105.csv',\n 'daily_dataset/block_25.csv',\n 'daily_dataset/block_88.csv',\n 'daily_dataset/block_34-20211007-165037.csv',\n 'daily_dataset/block_59.csv',\n 'daily_dataset/block_6-20211007-165036.csv',\n 'daily_dataset/block_84-20211007-165037.csv',\n 'daily_dataset/block_86.csv',\n 'daily_dataset/block_57.csv',\n 'daily_dataset/block_81.csv',\n 'daily_dataset/block_50.csv',\n 'daily_dataset/block_83-20211007-165039.csv',\n 'daily_dataset/block_37-20211007-165038.csv',\n 'daily_dataset/block_65.csv',\n 'daily_dataset/block_95-20211007-165041.csv',\n 'daily_dataset/block_19.csv',\n 'daily_dataset/block_62.csv',\n 'daily_dataset/block_10.csv',\n 'daily_dataset/block_71-20211007-165038.csv',\n 'daily_dataset/block_69-20211007-165035.csv',\n 'daily_dataset/block_92-20211007-165041.csv',\n 'daily_dataset/block_9-20211007-165041.csv',\n 'daily_dataset/block_17.csv',\n 'daily_dataset/block_91-20211007-165040.csv',\n 'daily_dataset/block_9.csv',\n 'daily_dataset/block_14-20211007-165035.csv',\n 'daily_dataset/block_17-20211007-165033.csv',\n 'daily_dataset/block_0.csv',\n 'daily_dataset/block_73.csv',\n 'daily_dataset/block_74.csv',\n 'daily_dataset/block_7.csv',\n 'daily_dataset/block_13-20211007-165035.csv',\n 'daily_dataset/block_41.csv',\n 'daily_dataset/block_90.csv',\n 'daily_dataset/block_46.csv',\n 'daily_dataset/block_97.csv',\n 'daily_dataset/block_34.csv',\n 'daily_dataset/block_48.csv',\n 'daily_dataset/block_99.csv',\n 'daily_dataset/block_104-20211007-165032.csv',\n 'daily_dataset/block_51-20211007-165041.csv',\n 'daily_dataset/block_53-20211007-165039.csv',\n 'daily_dataset/block_33.csv',\n 'daily_dataset/block_47-20211007-165041.csv',\n 'daily_dataset/block_79.csv',\n 'daily_dataset/block_77.csv',\n 'daily_dataset/block_42-20211007-165039.csv',\n 'daily_dataset/block_4.csv',\n 'daily_dataset/block_3.csv',\n 'daily_dataset/block_41-20211007-165038.csv',\n 'daily_dataset/block_70.csv',\n 'daily_dataset/block_111-20211007-165008.csv',\n 'daily_dataset/block_39.csv',\n 'daily_dataset/block_55-20211007-165038.csv',\n 'daily_dataset/block_45.csv',\n 'daily_dataset/block_94.csv',\n 'daily_dataset/block_42.csv',\n 'daily_dataset/block_103-20211007-165031.csv',\n 'daily_dataset/block_93.csv',\n 'daily_dataset/block_107-20211007-165030.csv',\n 'daily_dataset/block_50-20211007-165040.csv',\n 'daily_dataset/block_30.csv',\n 'daily_dataset/block_110.csv',\n 'daily_dataset/block_37.csv',\n 'daily_dataset/block_105-20211007-165033.csv',\n 'daily_dataset/block_106.csv',\n 'daily_dataset/block_26.csv',\n 'daily_dataset/block_60-20211007-165036.csv',\n 'daily_dataset/block_99-20211007-165041.csv',\n 'daily_dataset/block_30-20211007-165040.csv',\n 'daily_dataset/block_86-20211007-165039.csv',\n 'daily_dataset/block_101.csv',\n 'daily_dataset/block_21.csv',\n 'daily_dataset/block_78-20211007-165040.csv',\n 'daily_dataset/block_4-20211007-165036.csv',\n 'daily_dataset/block_67-20211007-165038.csv',\n 'daily_dataset/block_82.csv',\n 'daily_dataset/block_53.csv',\n 'daily_dataset/block_32-20211007-165036.csv',\n 'daily_dataset/block_108.csv',\n 'daily_dataset/block_31-20211007-165037.csv',\n 'daily_dataset/block_66-20211007-165033.csv',\n 'daily_dataset/block_28.csv',\n 'daily_dataset/block_62-20211007-165040.csv',\n 'daily_dataset/block_85.csv',\n 'daily_dataset/block_54.csv',\n 'daily_dataset/block_88-20211007-165039.csv',\n 'daily_dataset/block_70-20211007-165037.csv',\n 'daily_dataset/block_97-20211007-165041.csv',\n 'daily_dataset/block_21-20211007-165038.csv',\n 'daily_dataset/block_61.csv',\n 'daily_dataset/block_66.csv',\n 'daily_dataset/block_20-20211007-165041.csv',\n 'daily_dataset/block_89-20211007-165040.csv',\n 'daily_dataset/block_75-20211007-165041.csv',\n 'daily_dataset/block_110-20211007-165029.csv',\n 'daily_dataset/block_68.csv',\n 'daily_dataset/block_14.csv',\n 'daily_dataset/block_13.csv',\n 'daily_dataset/block_23-20211007-165032.csv',\n 'daily_dataset/block_36.csv',\n 'daily_dataset/block_31.csv',\n 'daily_dataset/block_111.csv',\n 'daily_dataset/block_52-20211007-165039.csv',\n 'daily_dataset/block_54-20211007-165040.csv',\n 'daily_dataset/block_43.csv',\n 'daily_dataset/block_49-20211007-165040.csv',\n 'daily_dataset/block_92.csv',\n 'daily_dataset/block_18-20211007-165034.csv',\n 'daily_dataset/block_38.csv',\n 'daily_dataset/block_19-20211007-165036.csv',\n 'daily_dataset/block_44.csv',\n 'daily_dataset/block_0-20211007-165020.csv',\n 'daily_dataset/block_95.csv',\n 'daily_dataset/block_2.csv',\n 'daily_dataset/block_108-20211007-165033.csv',\n 'daily_dataset/block_109-20211007-165031.csv',\n 'daily_dataset/block_71.csv',\n 'daily_dataset/block_76.csv',\n 'daily_dataset/block_11-20211007-165033.csv',\n 'daily_dataset/block_5.csv',\n 'daily_dataset/block_78.csv',\n 'daily_dataset/block_44-20211007-165041.csv',\n 'daily_dataset/block_15-20211007-165035.csv',\n 'daily_dataset/block_58-20211007-165038.csv',\n 'daily_dataset/block_16-20211007-165033.csv',\n 'daily_dataset/block_12.csv',\n 'daily_dataset/block_93-20211007-165041.csv',\n 'daily_dataset/block_8-20211007-165041.csv',\n 'daily_dataset/block_69.csv',\n 'daily_dataset/block_15.csv',\n 'daily_dataset/block_90-20211007-165040.csv',\n 'daily_dataset/block_22-20211007-165038.csv',\n 'daily_dataset/block_67.csv',\n 'daily_dataset/block_94-20211007-165041.csv',\n 'daily_dataset/block_73-20211007-165037.csv',\n 'daily_dataset/block_60.csv',\n 'daily_dataset/block_25-20211007-165036.csv',\n 'daily_dataset/block_38-20211007-165036.csv',\n 'daily_dataset/block_76-20211007-165041.csv',\n 'daily_dataset/block_109.csv',\n 'daily_dataset/block_29.csv',\n 'daily_dataset/block_84.csv',\n 'daily_dataset/block_55.csv',\n 'daily_dataset/block_65-20211007-165034.csv',\n 'daily_dataset/block_83.csv',\n 'daily_dataset/block_52.csv',\n 'daily_dataset/block_36-20211007-165038.csv',\n 'daily_dataset/block_3-20211007-165030.csv',\n 'daily_dataset/block_100.csv',\n 'daily_dataset/block_5-20211007-165035.csv',\n 'daily_dataset/block_82-20211007-165037.csv',\n 'daily_dataset/block_20.csv',\n 'daily_dataset/block_107.csv',\n 'daily_dataset/block_85-20211007-165039.csv',\n 'daily_dataset/block_27.csv',\n 'daily_dataset/block_87-20211007-165041.csv',\n 'daily_dataset/block_35-20211007-165037.csv',\n 'daily_dataset/block_81-20211007-165036.csv']"
     },
     "metadata": {}
    }
   ],
   "execution_count": null
  },
  {
   "cell_type": "code",
   "metadata": {
    "tags": [],
    "cell_id": "00021-18f9b6c2-bf00-4373-b021-8f8dad2e2307",
    "deepnote_to_be_reexecuted": false,
    "source_hash": "3c8b9a8e",
    "execution_start": 1635604988853,
    "execution_millis": 11817,
    "deepnote_cell_type": "code"
   },
   "source": "list_data_daily = []\n  \n# Escribimos un loop que irá a través de cada uno de los nombres de archivo a través de globbing y el resultado final será la lista dataframes\n#Solo ejecuto los archivos 1-6 porque todo peta\nfor filename in archivos1:\n    data = pd.read_csv(filename, usecols = [\"LCLid\", \"day\", \"energy_mean\", \"energy_max\", \"energy_min\"])\n    #if data not in list_data_daily:\n    list_data_daily.append(data)\n#Para chequear que todo está bien, mostramos la list_data por consola\nlist_data_daily\n \npd.concat(list_data_daily,ignore_index=True)",
   "outputs": [
    {
     "output_type": "execute_result",
     "execution_count": 17,
     "data": {
      "application/vnd.deepnote.dataframe.v2+json": {
       "row_count": 7020866,
       "column_count": 5,
       "columns": [
        {
         "name": "LCLid",
         "dtype": "object"
        },
        {
         "name": "day",
         "dtype": "object"
        },
        {
         "name": "energy_mean",
         "dtype": "float64"
        },
        {
         "name": "energy_max",
         "dtype": "float64"
        },
        {
         "name": "energy_min",
         "dtype": "float64"
        },
        {
         "name": "_deepnote_index_column",
         "dtype": "int64"
        }
       ],
       "rows_top": [
        {
         "LCLid": "MAC000020",
         "day": "2011-12-07",
         "energy_mean": 0.2121724137931035,
         "energy_max": 0.62,
         "energy_min": 0.057,
         "_deepnote_index_column": 0
        },
        {
         "LCLid": "MAC000020",
         "day": "2011-12-08",
         "energy_mean": 0.1527083333333333,
         "energy_max": 0.617,
         "energy_min": 0.049,
         "_deepnote_index_column": 1
        },
        {
         "LCLid": "MAC000020",
         "day": "2011-12-09",
         "energy_mean": 0.1288333333333333,
         "energy_max": 0.2769999999999999,
         "energy_min": 0.053,
         "_deepnote_index_column": 2
        },
        {
         "LCLid": "MAC000020",
         "day": "2011-12-10",
         "energy_mean": 0.1825625,
         "energy_max": 0.773,
         "energy_min": 0.053,
         "_deepnote_index_column": 3
        },
        {
         "LCLid": "MAC000020",
         "day": "2011-12-11",
         "energy_mean": 0.2252083333333333,
         "energy_max": 1.133,
         "energy_min": 0.055,
         "_deepnote_index_column": 4
        },
        {
         "LCLid": "MAC000020",
         "day": "2011-12-12",
         "energy_mean": 0.2198125,
         "energy_max": 1.151,
         "energy_min": 0.05,
         "_deepnote_index_column": 5
        },
        {
         "LCLid": "MAC000020",
         "day": "2011-12-13",
         "energy_mean": 0.1322916666666666,
         "energy_max": 0.397,
         "energy_min": 0.05,
         "_deepnote_index_column": 6
        },
        {
         "LCLid": "MAC000020",
         "day": "2011-12-14",
         "energy_mean": 0.1714791666666666,
         "energy_max": 0.473,
         "energy_min": 0.053,
         "_deepnote_index_column": 7
        },
        {
         "LCLid": "MAC000020",
         "day": "2011-12-15",
         "energy_mean": 0.1625208333333333,
         "energy_max": 0.434,
         "energy_min": 0.053,
         "_deepnote_index_column": 8
        },
        {
         "LCLid": "MAC000020",
         "day": "2011-12-16",
         "energy_mean": 0.1881041666666667,
         "energy_max": 0.695,
         "energy_min": 0.05,
         "_deepnote_index_column": 9
        },
        {
         "LCLid": "MAC000020",
         "day": "2011-12-17",
         "energy_mean": 0.2307708333333333,
         "energy_max": 0.951,
         "energy_min": 0.054,
         "_deepnote_index_column": 10
        },
        {
         "LCLid": "MAC000020",
         "day": "2011-12-18",
         "energy_mean": 0.1598333333333333,
         "energy_max": 0.439,
         "energy_min": 0.052,
         "_deepnote_index_column": 11
        },
        {
         "LCLid": "MAC000020",
         "day": "2011-12-19",
         "energy_mean": 0.2318958333333333,
         "energy_max": 0.78,
         "energy_min": 0.054,
         "_deepnote_index_column": 12
        },
        {
         "LCLid": "MAC000020",
         "day": "2011-12-20",
         "energy_mean": 0.1927916666666666,
         "energy_max": 0.746,
         "energy_min": 0.051,
         "_deepnote_index_column": 13
        },
        {
         "LCLid": "MAC000020",
         "day": "2011-12-21",
         "energy_mean": 0.1907916666666666,
         "energy_max": 1.164,
         "energy_min": 0.054,
         "_deepnote_index_column": 14
        },
        {
         "LCLid": "MAC000020",
         "day": "2011-12-22",
         "energy_mean": 0.1520625,
         "energy_max": 0.617,
         "energy_min": 0.052,
         "_deepnote_index_column": 15
        },
        {
         "LCLid": "MAC000020",
         "day": "2011-12-23",
         "energy_mean": 0.1858124999999999,
         "energy_max": 1.12,
         "energy_min": 0.057,
         "_deepnote_index_column": 16
        },
        {
         "LCLid": "MAC000020",
         "day": "2011-12-24",
         "energy_mean": 0.1666041666666667,
         "energy_max": 0.4429999999999999,
         "energy_min": 0.052,
         "_deepnote_index_column": 17
        },
        {
         "LCLid": "MAC000020",
         "day": "2011-12-25",
         "energy_mean": 0.1056041666666666,
         "energy_max": 0.377,
         "energy_min": 0.047,
         "_deepnote_index_column": 18
        },
        {
         "LCLid": "MAC000020",
         "day": "2011-12-26",
         "energy_mean": 0.1716666666666667,
         "energy_max": 0.65,
         "energy_min": 0.055,
         "_deepnote_index_column": 19
        },
        {
         "LCLid": "MAC000020",
         "day": "2011-12-27",
         "energy_mean": 0.2336041666666666,
         "energy_max": 1.35,
         "energy_min": 0.049,
         "_deepnote_index_column": 20
        },
        {
         "LCLid": "MAC000020",
         "day": "2011-12-28",
         "energy_mean": 0.1780833354166666,
         "energy_max": 1.4170001,
         "energy_min": 0.05,
         "_deepnote_index_column": 21
        },
        {
         "LCLid": "MAC000020",
         "day": "2011-12-29",
         "energy_mean": 0.2034374999999999,
         "energy_max": 1.026,
         "energy_min": 0.053,
         "_deepnote_index_column": 22
        },
        {
         "LCLid": "MAC000020",
         "day": "2011-12-30",
         "energy_mean": 0.2152291666666666,
         "energy_max": 0.998,
         "energy_min": 0.05,
         "_deepnote_index_column": 23
        },
        {
         "LCLid": "MAC000020",
         "day": "2011-12-31",
         "energy_mean": 0.1999583333333333,
         "energy_max": 0.8540000000000001,
         "energy_min": 0.055,
         "_deepnote_index_column": 24
        },
        {
         "LCLid": "MAC000020",
         "day": "2012-01-01",
         "energy_mean": 0.3114374999999999,
         "energy_max": 1.132,
         "energy_min": 0.051,
         "_deepnote_index_column": 25
        },
        {
         "LCLid": "MAC000020",
         "day": "2012-01-02",
         "energy_mean": 0.1592291666666667,
         "energy_max": 0.825,
         "energy_min": 0.057,
         "_deepnote_index_column": 26
        },
        {
         "LCLid": "MAC000020",
         "day": "2012-01-03",
         "energy_mean": 0.1928125,
         "energy_max": 0.8390000000000001,
         "energy_min": 0.049,
         "_deepnote_index_column": 27
        },
        {
         "LCLid": "MAC000020",
         "day": "2012-01-04",
         "energy_mean": 0.1721458333333333,
         "energy_max": 0.949,
         "energy_min": 0.051,
         "_deepnote_index_column": 28
        },
        {
         "LCLid": "MAC000020",
         "day": "2012-01-05",
         "energy_mean": 0.2198541666666666,
         "energy_max": 1.182,
         "energy_min": 0.052,
         "_deepnote_index_column": 29
        },
        {
         "LCLid": "MAC000020",
         "day": "2012-01-06",
         "energy_mean": 0.1495625,
         "energy_max": 0.402,
         "energy_min": 0.047,
         "_deepnote_index_column": 30
        },
        {
         "LCLid": "MAC000020",
         "day": "2012-01-07",
         "energy_mean": 0.24058333125,
         "energy_max": 1.1059999,
         "energy_min": 0.048,
         "_deepnote_index_column": 31
        },
        {
         "LCLid": "MAC000020",
         "day": "2012-01-08",
         "energy_mean": 0.1835416666666667,
         "energy_max": 1.48,
         "energy_min": 0.047,
         "_deepnote_index_column": 32
        },
        {
         "LCLid": "MAC000020",
         "day": "2012-01-09",
         "energy_mean": 0.1611874999999999,
         "energy_max": 1.011,
         "energy_min": 0.05,
         "_deepnote_index_column": 33
        },
        {
         "LCLid": "MAC000020",
         "day": "2012-01-10",
         "energy_mean": 0.1272291666666667,
         "energy_max": 0.352,
         "energy_min": 0.047,
         "_deepnote_index_column": 34
        },
        {
         "LCLid": "MAC000020",
         "day": "2012-01-11",
         "energy_mean": 0.1191666666666666,
         "energy_max": 0.3289999999999999,
         "energy_min": 0.048,
         "_deepnote_index_column": 35
        },
        {
         "LCLid": "MAC000020",
         "day": "2012-01-12",
         "energy_mean": 0.1543333333333333,
         "energy_max": 0.4579999999999999,
         "energy_min": 0.047,
         "_deepnote_index_column": 36
        },
        {
         "LCLid": "MAC000020",
         "day": "2012-01-13",
         "energy_mean": 0.2038333333333333,
         "energy_max": 0.852,
         "energy_min": 0.045,
         "_deepnote_index_column": 37
        },
        {
         "LCLid": "MAC000020",
         "day": "2012-01-14",
         "energy_mean": 0.1809166666666667,
         "energy_max": 0.8109999999999999,
         "energy_min": 0.045,
         "_deepnote_index_column": 38
        },
        {
         "LCLid": "MAC000020",
         "day": "2012-01-15",
         "energy_mean": 0.1949583333333334,
         "energy_max": 1.073,
         "energy_min": 0.044,
         "_deepnote_index_column": 39
        },
        {
         "LCLid": "MAC000020",
         "day": "2012-01-16",
         "energy_mean": 0.1745208333333333,
         "energy_max": 1.206,
         "energy_min": 0.042,
         "_deepnote_index_column": 40
        },
        {
         "LCLid": "MAC000020",
         "day": "2012-01-17",
         "energy_mean": 0.1519791666666667,
         "energy_max": 0.802,
         "energy_min": 0.0409999999999999,
         "_deepnote_index_column": 41
        },
        {
         "LCLid": "MAC000020",
         "day": "2012-01-18",
         "energy_mean": 0.2079791645833333,
         "energy_max": 1.0779999,
         "energy_min": 0.044,
         "_deepnote_index_column": 42
        },
        {
         "LCLid": "MAC000020",
         "day": "2012-01-19",
         "energy_mean": 0.1419791666666667,
         "energy_max": 0.55,
         "energy_min": 0.046,
         "_deepnote_index_column": 43
        },
        {
         "LCLid": "MAC000020",
         "day": "2012-01-20",
         "energy_mean": 0.1576666666666666,
         "energy_max": 0.6759999999999999,
         "energy_min": 0.046,
         "_deepnote_index_column": 44
        },
        {
         "LCLid": "MAC000020",
         "day": "2012-01-21",
         "energy_mean": 0.1574375,
         "energy_max": 1.053,
         "energy_min": 0.051,
         "_deepnote_index_column": 45
        },
        {
         "LCLid": "MAC000020",
         "day": "2012-01-22",
         "energy_mean": 0.1574166666666666,
         "energy_max": 0.605,
         "energy_min": 0.043,
         "_deepnote_index_column": 46
        },
        {
         "LCLid": "MAC000020",
         "day": "2012-01-23",
         "energy_mean": 0.1915625,
         "energy_max": 1.006,
         "energy_min": 0.044,
         "_deepnote_index_column": 47
        },
        {
         "LCLid": "MAC000020",
         "day": "2012-01-24",
         "energy_mean": 0.1522291666666667,
         "energy_max": 0.586,
         "energy_min": 0.048,
         "_deepnote_index_column": 48
        },
        {
         "LCLid": "MAC000020",
         "day": "2012-01-25",
         "energy_mean": 0.1889583333333333,
         "energy_max": 0.7090000000000001,
         "energy_min": 0.045,
         "_deepnote_index_column": 49
        },
        {
         "LCLid": "MAC000020",
         "day": "2012-01-26",
         "energy_mean": 0.1455416666666666,
         "energy_max": 0.515,
         "energy_min": 0.046,
         "_deepnote_index_column": 50
        },
        {
         "LCLid": "MAC000020",
         "day": "2012-01-27",
         "energy_mean": 0.1583541666666666,
         "energy_max": 0.657,
         "energy_min": 0.048,
         "_deepnote_index_column": 51
        },
        {
         "LCLid": "MAC000020",
         "day": "2012-01-28",
         "energy_mean": 0.1880416666666667,
         "energy_max": 0.941,
         "energy_min": 0.046,
         "_deepnote_index_column": 52
        },
        {
         "LCLid": "MAC000020",
         "day": "2012-01-29",
         "energy_mean": 0.2115208333333333,
         "energy_max": 0.953,
         "energy_min": 0.045,
         "_deepnote_index_column": 53
        },
        {
         "LCLid": "MAC000020",
         "day": "2012-01-30",
         "energy_mean": 0.1662083333333333,
         "energy_max": 0.7440000000000001,
         "energy_min": 0.049,
         "_deepnote_index_column": 54
        },
        {
         "LCLid": "MAC000020",
         "day": "2012-01-31",
         "energy_mean": 0.1590833333333333,
         "energy_max": 0.357,
         "energy_min": 0.045,
         "_deepnote_index_column": 55
        },
        {
         "LCLid": "MAC000020",
         "day": "2012-02-01",
         "energy_mean": 0.1863333333333333,
         "energy_max": 0.6859999999999999,
         "energy_min": 0.047,
         "_deepnote_index_column": 56
        },
        {
         "LCLid": "MAC000020",
         "day": "2012-02-02",
         "energy_mean": 0.2070625,
         "energy_max": 1.374,
         "energy_min": 0.044,
         "_deepnote_index_column": 57
        },
        {
         "LCLid": "MAC000020",
         "day": "2012-02-03",
         "energy_mean": 0.1474791666666667,
         "energy_max": 0.439,
         "energy_min": 0.043,
         "_deepnote_index_column": 58
        },
        {
         "LCLid": "MAC000020",
         "day": "2012-02-04",
         "energy_mean": 0.17575,
         "energy_max": 0.529,
         "energy_min": 0.044,
         "_deepnote_index_column": 59
        },
        {
         "LCLid": "MAC000020",
         "day": "2012-02-05",
         "energy_mean": 0.2000416666666667,
         "energy_max": 1.112,
         "energy_min": 0.043,
         "_deepnote_index_column": 60
        },
        {
         "LCLid": "MAC000020",
         "day": "2012-02-06",
         "energy_mean": 0.18675,
         "energy_max": 0.708,
         "energy_min": 0.049,
         "_deepnote_index_column": 61
        },
        {
         "LCLid": "MAC000020",
         "day": "2012-02-07",
         "energy_mean": 0.17925,
         "energy_max": 0.741,
         "energy_min": 0.044,
         "_deepnote_index_column": 62
        },
        {
         "LCLid": "MAC000020",
         "day": "2012-02-08",
         "energy_mean": 0.2335208333333333,
         "energy_max": 0.8690000000000001,
         "energy_min": 0.0409999999999999,
         "_deepnote_index_column": 63
        },
        {
         "LCLid": "MAC000020",
         "day": "2012-02-09",
         "energy_mean": 0.1712708333333333,
         "energy_max": 0.8809999999999999,
         "energy_min": 0.047,
         "_deepnote_index_column": 64
        },
        {
         "LCLid": "MAC000020",
         "day": "2012-02-10",
         "energy_mean": 0.1840208333333333,
         "energy_max": 1.038,
         "energy_min": 0.046,
         "_deepnote_index_column": 65
        },
        {
         "LCLid": "MAC000020",
         "day": "2012-02-11",
         "energy_mean": 0.2371875,
         "energy_max": 1.048,
         "energy_min": 0.044,
         "_deepnote_index_column": 66
        },
        {
         "LCLid": "MAC000020",
         "day": "2012-02-12",
         "energy_mean": 0.1195416666666667,
         "energy_max": 0.643,
         "energy_min": 0.043,
         "_deepnote_index_column": 67
        },
        {
         "LCLid": "MAC000020",
         "day": "2012-02-13",
         "energy_mean": 0.2214791666666666,
         "energy_max": 0.7609999999999999,
         "energy_min": 0.045,
         "_deepnote_index_column": 68
        },
        {
         "LCLid": "MAC000020",
         "day": "2012-02-14",
         "energy_mean": 0.2430833333333334,
         "energy_max": 1.164,
         "energy_min": 0.043,
         "_deepnote_index_column": 69
        },
        {
         "LCLid": "MAC000020",
         "day": "2012-02-15",
         "energy_mean": 0.13425,
         "energy_max": 0.3379999999999999,
         "energy_min": 0.048,
         "_deepnote_index_column": 70
        },
        {
         "LCLid": "MAC000020",
         "day": "2012-02-16",
         "energy_mean": 0.1338958333333333,
         "energy_max": 0.336,
         "energy_min": 0.045,
         "_deepnote_index_column": 71
        },
        {
         "LCLid": "MAC000020",
         "day": "2012-02-17",
         "energy_mean": 0.1361249999999999,
         "energy_max": 0.565,
         "energy_min": 0.043,
         "_deepnote_index_column": 72
        },
        {
         "LCLid": "MAC000020",
         "day": "2012-02-18",
         "energy_mean": 0.2556875,
         "energy_max": 0.949,
         "energy_min": 0.046,
         "_deepnote_index_column": 73
        },
        {
         "LCLid": "MAC000020",
         "day": "2012-02-19",
         "energy_mean": 0.1829166666666666,
         "energy_max": 0.979,
         "energy_min": 0.05,
         "_deepnote_index_column": 74
        },
        {
         "LCLid": "MAC000020",
         "day": "2012-02-20",
         "energy_mean": 0.1268125,
         "energy_max": 0.298,
         "energy_min": 0.047,
         "_deepnote_index_column": 75
        },
        {
         "LCLid": "MAC000020",
         "day": "2012-02-21",
         "energy_mean": 0.2092916666666667,
         "energy_max": 1.295,
         "energy_min": 0.045,
         "_deepnote_index_column": 76
        },
        {
         "LCLid": "MAC000020",
         "day": "2012-02-22",
         "energy_mean": 0.2476666666666666,
         "energy_max": 1.29,
         "energy_min": 0.048,
         "_deepnote_index_column": 77
        },
        {
         "LCLid": "MAC000020",
         "day": "2012-02-23",
         "energy_mean": 0.1579375,
         "energy_max": 0.623,
         "energy_min": 0.048,
         "_deepnote_index_column": 78
        },
        {
         "LCLid": "MAC000020",
         "day": "2012-02-24",
         "energy_mean": 0.1243125,
         "energy_max": 0.321,
         "energy_min": 0.046,
         "_deepnote_index_column": 79
        },
        {
         "LCLid": "MAC000020",
         "day": "2012-02-25",
         "energy_mean": 0.1709166666666667,
         "energy_max": 0.6409999999999999,
         "energy_min": 0.048,
         "_deepnote_index_column": 80
        },
        {
         "LCLid": "MAC000020",
         "day": "2012-02-26",
         "energy_mean": 0.1104791666666667,
         "energy_max": 1.244,
         "energy_min": 0.045,
         "_deepnote_index_column": 81
        },
        {
         "LCLid": "MAC000020",
         "day": "2012-02-27",
         "energy_mean": 0.0698958333333333,
         "energy_max": 0.104,
         "energy_min": 0.047,
         "_deepnote_index_column": 82
        },
        {
         "LCLid": "MAC000020",
         "day": "2012-02-28",
         "energy_mean": 0.0681458333333333,
         "energy_max": 0.11,
         "energy_min": 0.047,
         "_deepnote_index_column": 83
        },
        {
         "LCLid": "MAC000020",
         "day": "2012-02-29",
         "energy_mean": 0.0664375,
         "energy_max": 0.103,
         "energy_min": 0.046,
         "_deepnote_index_column": 84
        },
        {
         "LCLid": "MAC000020",
         "day": "2012-03-01",
         "energy_mean": 0.0683958333333333,
         "energy_max": 0.103,
         "energy_min": 0.047,
         "_deepnote_index_column": 85
        },
        {
         "LCLid": "MAC000020",
         "day": "2012-03-02",
         "energy_mean": 0.0703958333333333,
         "energy_max": 0.098,
         "energy_min": 0.047,
         "_deepnote_index_column": 86
        },
        {
         "LCLid": "MAC000020",
         "day": "2012-03-03",
         "energy_mean": 0.0699791666666666,
         "energy_max": 0.106,
         "energy_min": 0.047,
         "_deepnote_index_column": 87
        },
        {
         "LCLid": "MAC000020",
         "day": "2012-03-04",
         "energy_mean": 0.094375,
         "energy_max": 0.3939999999999999,
         "energy_min": 0.048,
         "_deepnote_index_column": 88
        },
        {
         "LCLid": "MAC000020",
         "day": "2012-03-05",
         "energy_mean": 0.2123125000000001,
         "energy_max": 0.695,
         "energy_min": 0.049,
         "_deepnote_index_column": 89
        },
        {
         "LCLid": "MAC000020",
         "day": "2012-03-06",
         "energy_mean": 0.1194166666666666,
         "energy_max": 0.327,
         "energy_min": 0.048,
         "_deepnote_index_column": 90
        },
        {
         "LCLid": "MAC000020",
         "day": "2012-03-07",
         "energy_mean": 0.1703958333333333,
         "energy_max": 0.877,
         "energy_min": 0.046,
         "_deepnote_index_column": 91
        },
        {
         "LCLid": "MAC000020",
         "day": "2012-03-08",
         "energy_mean": 0.2016875,
         "energy_max": 0.517,
         "energy_min": 0.048,
         "_deepnote_index_column": 92
        },
        {
         "LCLid": "MAC000020",
         "day": "2012-03-09",
         "energy_mean": 0.1222083333333333,
         "energy_max": 0.3379999999999999,
         "energy_min": 0.045,
         "_deepnote_index_column": 93
        },
        {
         "LCLid": "MAC000020",
         "day": "2012-03-10",
         "energy_mean": 0.1581666666666667,
         "energy_max": 0.95,
         "energy_min": 0.05,
         "_deepnote_index_column": 94
        },
        {
         "LCLid": "MAC000020",
         "day": "2012-03-11",
         "energy_mean": 0.0859375,
         "energy_max": 0.226,
         "energy_min": 0.048,
         "_deepnote_index_column": 95
        },
        {
         "LCLid": "MAC000020",
         "day": "2012-03-12",
         "energy_mean": 0.1662291666666666,
         "energy_max": 1.038,
         "energy_min": 0.048,
         "_deepnote_index_column": 96
        },
        {
         "LCLid": "MAC000020",
         "day": "2012-03-13",
         "energy_mean": 0.1082083333333333,
         "energy_max": 0.2739999999999999,
         "energy_min": 0.048,
         "_deepnote_index_column": 97
        },
        {
         "LCLid": "MAC000020",
         "day": "2012-03-14",
         "energy_mean": 0.1948333333333333,
         "energy_max": 0.944,
         "energy_min": 0.047,
         "_deepnote_index_column": 98
        },
        {
         "LCLid": "MAC000020",
         "day": "2012-03-15",
         "energy_mean": 0.1120625,
         "energy_max": 0.324,
         "energy_min": 0.049,
         "_deepnote_index_column": 99
        }
       ],
       "rows_bottom": [
        {
         "LCLid": "MAC004821",
         "day": "2013-11-21",
         "energy_mean": 0.0294374999999999,
         "energy_max": 0.06,
         "energy_min": 0.011,
         "_deepnote_index_column": 7020766
        },
        {
         "LCLid": "MAC004821",
         "day": "2013-11-22",
         "energy_mean": 0.0294166666666666,
         "energy_max": 0.065,
         "energy_min": 0.012,
         "_deepnote_index_column": 7020767
        },
        {
         "LCLid": "MAC004821",
         "day": "2013-11-23",
         "energy_mean": 0.0300625,
         "energy_max": 0.096,
         "energy_min": 0.012,
         "_deepnote_index_column": 7020768
        },
        {
         "LCLid": "MAC004821",
         "day": "2013-11-24",
         "energy_mean": 0.0311458333333333,
         "energy_max": 0.094,
         "energy_min": 0.012,
         "_deepnote_index_column": 7020769
        },
        {
         "LCLid": "MAC004821",
         "day": "2013-11-25",
         "energy_mean": 0.0284583333333333,
         "energy_max": 0.077,
         "energy_min": 0.012,
         "_deepnote_index_column": 7020770
        },
        {
         "LCLid": "MAC004821",
         "day": "2013-11-26",
         "energy_mean": 0.0294791666666666,
         "energy_max": 0.095,
         "energy_min": 0.012,
         "_deepnote_index_column": 7020771
        },
        {
         "LCLid": "MAC004821",
         "day": "2013-11-27",
         "energy_mean": 0.0287499999999999,
         "energy_max": 0.061,
         "energy_min": 0.012,
         "_deepnote_index_column": 7020772
        },
        {
         "LCLid": "MAC004821",
         "day": "2013-11-28",
         "energy_mean": 0.0272083333333333,
         "energy_max": 0.084,
         "energy_min": 0.012,
         "_deepnote_index_column": 7020773
        },
        {
         "LCLid": "MAC004821",
         "day": "2013-11-29",
         "energy_mean": 0.0353333333333333,
         "energy_max": 0.1939999999999999,
         "energy_min": 0.012,
         "_deepnote_index_column": 7020774
        },
        {
         "LCLid": "MAC004821",
         "day": "2013-11-30",
         "energy_mean": 0.013,
         "energy_max": 0.046,
         "energy_min": 0.005,
         "_deepnote_index_column": 7020775
        },
        {
         "LCLid": "MAC004821",
         "day": "2013-12-01",
         "energy_mean": 0.0088541666666666,
         "energy_max": 0.049,
         "energy_min": 0,
         "_deepnote_index_column": 7020776
        },
        {
         "LCLid": "MAC004821",
         "day": "2013-12-02",
         "energy_mean": 0.0047291666666666,
         "energy_max": 0.043,
         "energy_min": 0,
         "_deepnote_index_column": 7020777
        },
        {
         "LCLid": "MAC004821",
         "day": "2013-12-03",
         "energy_mean": 0.0054583333333333,
         "energy_max": 0.042,
         "energy_min": 0,
         "_deepnote_index_column": 7020778
        },
        {
         "LCLid": "MAC004821",
         "day": "2013-12-04",
         "energy_mean": 0.0081041666666666,
         "energy_max": 0.068,
         "energy_min": 0,
         "_deepnote_index_column": 7020779
        },
        {
         "LCLid": "MAC004821",
         "day": "2013-12-05",
         "energy_mean": 0.0145208333333333,
         "energy_max": 0.047,
         "energy_min": 0.009,
         "_deepnote_index_column": 7020780
        },
        {
         "LCLid": "MAC004821",
         "day": "2013-12-06",
         "energy_mean": 0.0152083333333333,
         "energy_max": 0.05,
         "energy_min": 0.009,
         "_deepnote_index_column": 7020781
        },
        {
         "LCLid": "MAC004821",
         "day": "2013-12-07",
         "energy_mean": 0.0135208333333333,
         "energy_max": 0.0409999999999999,
         "energy_min": 0.008,
         "_deepnote_index_column": 7020782
        },
        {
         "LCLid": "MAC004821",
         "day": "2013-12-08",
         "energy_mean": 0.0115833333333333,
         "energy_max": 0.05,
         "energy_min": 0,
         "_deepnote_index_column": 7020783
        },
        {
         "LCLid": "MAC004821",
         "day": "2013-12-09",
         "energy_mean": 0.0066666666666666,
         "energy_max": 0.045,
         "energy_min": 0,
         "_deepnote_index_column": 7020784
        },
        {
         "LCLid": "MAC004821",
         "day": "2013-12-10",
         "energy_mean": 0.0090416666666666,
         "energy_max": 0.055,
         "energy_min": 0,
         "_deepnote_index_column": 7020785
        },
        {
         "LCLid": "MAC004821",
         "day": "2013-12-11",
         "energy_mean": 0.01575,
         "energy_max": 0.049,
         "energy_min": 0.009,
         "_deepnote_index_column": 7020786
        },
        {
         "LCLid": "MAC004821",
         "day": "2013-12-12",
         "energy_mean": 0.01525,
         "energy_max": 0.049,
         "energy_min": 0.009,
         "_deepnote_index_column": 7020787
        },
        {
         "LCLid": "MAC004821",
         "day": "2013-12-13",
         "energy_mean": 0.0136041666666666,
         "energy_max": 0.04,
         "energy_min": 0.009,
         "_deepnote_index_column": 7020788
        },
        {
         "LCLid": "MAC004821",
         "day": "2013-12-14",
         "energy_mean": 0.0136875,
         "energy_max": 0.044,
         "energy_min": 0.009,
         "_deepnote_index_column": 7020789
        },
        {
         "LCLid": "MAC004821",
         "day": "2013-12-15",
         "energy_mean": 0.0120625,
         "energy_max": 0.044,
         "energy_min": 0.009,
         "_deepnote_index_column": 7020790
        },
        {
         "LCLid": "MAC004821",
         "day": "2013-12-16",
         "energy_mean": 0.0118333333333333,
         "energy_max": 0.037,
         "energy_min": 0.009,
         "_deepnote_index_column": 7020791
        },
        {
         "LCLid": "MAC004821",
         "day": "2013-12-17",
         "energy_mean": 0.0139375,
         "energy_max": 0.049,
         "energy_min": 0.009,
         "_deepnote_index_column": 7020792
        },
        {
         "LCLid": "MAC004821",
         "day": "2013-12-18",
         "energy_mean": 0.0132708333333333,
         "energy_max": 0.042,
         "energy_min": 0.009,
         "_deepnote_index_column": 7020793
        },
        {
         "LCLid": "MAC004821",
         "day": "2013-12-19",
         "energy_mean": 0.0140416666666666,
         "energy_max": 0.049,
         "energy_min": 0.009,
         "_deepnote_index_column": 7020794
        },
        {
         "LCLid": "MAC004821",
         "day": "2013-12-20",
         "energy_mean": 0.01475,
         "energy_max": 0.052,
         "energy_min": 0.009,
         "_deepnote_index_column": 7020795
        },
        {
         "LCLid": "MAC004821",
         "day": "2013-12-21",
         "energy_mean": 0.0137083333333333,
         "energy_max": 0.039,
         "energy_min": 0.008,
         "_deepnote_index_column": 7020796
        },
        {
         "LCLid": "MAC004821",
         "day": "2013-12-22",
         "energy_mean": 0.01325,
         "energy_max": 0.04,
         "energy_min": 0.009,
         "_deepnote_index_column": 7020797
        },
        {
         "LCLid": "MAC004821",
         "day": "2013-12-23",
         "energy_mean": 0.012375,
         "energy_max": 0.048,
         "energy_min": 0.009,
         "_deepnote_index_column": 7020798
        },
        {
         "LCLid": "MAC004821",
         "day": "2013-12-24",
         "energy_mean": 0.01275,
         "energy_max": 0.0409999999999999,
         "energy_min": 0.009,
         "_deepnote_index_column": 7020799
        },
        {
         "LCLid": "MAC004821",
         "day": "2013-12-25",
         "energy_mean": 0.014625,
         "energy_max": 0.049,
         "energy_min": 0.009,
         "_deepnote_index_column": 7020800
        },
        {
         "LCLid": "MAC004821",
         "day": "2013-12-26",
         "energy_mean": 0.0153125,
         "energy_max": 0.054,
         "energy_min": 0.009,
         "_deepnote_index_column": 7020801
        },
        {
         "LCLid": "MAC004821",
         "day": "2013-12-27",
         "energy_mean": 0.0139583333333333,
         "energy_max": 0.044,
         "energy_min": 0.009,
         "_deepnote_index_column": 7020802
        },
        {
         "LCLid": "MAC004821",
         "day": "2013-12-28",
         "energy_mean": 0.0147083333333333,
         "energy_max": 0.046,
         "energy_min": 0.009,
         "_deepnote_index_column": 7020803
        },
        {
         "LCLid": "MAC004821",
         "day": "2013-12-29",
         "energy_mean": 0.0152083333333333,
         "energy_max": 0.052,
         "energy_min": 0.009,
         "_deepnote_index_column": 7020804
        },
        {
         "LCLid": "MAC004821",
         "day": "2013-12-30",
         "energy_mean": 0.0132916666666666,
         "energy_max": 0.043,
         "energy_min": 0.009,
         "_deepnote_index_column": 7020805
        },
        {
         "LCLid": "MAC004821",
         "day": "2013-12-31",
         "energy_mean": 0.0090833333333333,
         "energy_max": 0.036,
         "energy_min": 0,
         "_deepnote_index_column": 7020806
        },
        {
         "LCLid": "MAC004821",
         "day": "2014-01-01",
         "energy_mean": 0.0037083333333333,
         "energy_max": 0.031,
         "energy_min": 0,
         "_deepnote_index_column": 7020807
        },
        {
         "LCLid": "MAC004821",
         "day": "2014-01-02",
         "energy_mean": 0.0101875,
         "energy_max": 0.107,
         "energy_min": 0,
         "_deepnote_index_column": 7020808
        },
        {
         "LCLid": "MAC004821",
         "day": "2014-01-03",
         "energy_mean": 0.0073125,
         "energy_max": 0.063,
         "energy_min": 0,
         "_deepnote_index_column": 7020809
        },
        {
         "LCLid": "MAC004821",
         "day": "2014-01-04",
         "energy_mean": 0.0712291666666666,
         "energy_max": 0.498,
         "energy_min": 0,
         "_deepnote_index_column": 7020810
        },
        {
         "LCLid": "MAC004821",
         "day": "2014-01-05",
         "energy_mean": 0.0169583333333333,
         "energy_max": 0.057,
         "energy_min": 0.009,
         "_deepnote_index_column": 7020811
        },
        {
         "LCLid": "MAC004821",
         "day": "2014-01-06",
         "energy_mean": 0.0131041666666666,
         "energy_max": 0.05,
         "energy_min": 0.008,
         "_deepnote_index_column": 7020812
        },
        {
         "LCLid": "MAC004821",
         "day": "2014-01-07",
         "energy_mean": 0.0146041666666666,
         "energy_max": 0.047,
         "energy_min": 0.009,
         "_deepnote_index_column": 7020813
        },
        {
         "LCLid": "MAC004821",
         "day": "2014-01-08",
         "energy_mean": 0.0146666666666666,
         "energy_max": 0.049,
         "energy_min": 0.009,
         "_deepnote_index_column": 7020814
        },
        {
         "LCLid": "MAC004821",
         "day": "2014-01-09",
         "energy_mean": 0.0221458333333333,
         "energy_max": 0.188,
         "energy_min": 0.009,
         "_deepnote_index_column": 7020815
        },
        {
         "LCLid": "MAC004821",
         "day": "2014-01-10",
         "energy_mean": 0.0164375,
         "energy_max": 0.051,
         "energy_min": 0.009,
         "_deepnote_index_column": 7020816
        },
        {
         "LCLid": "MAC004821",
         "day": "2014-01-11",
         "energy_mean": 0.0288958333333333,
         "energy_max": 0.192,
         "energy_min": 0.009,
         "_deepnote_index_column": 7020817
        },
        {
         "LCLid": "MAC004821",
         "day": "2014-01-12",
         "energy_mean": 0.0178541666666666,
         "energy_max": 0.057,
         "energy_min": 0.009,
         "_deepnote_index_column": 7020818
        },
        {
         "LCLid": "MAC004821",
         "day": "2014-01-13",
         "energy_mean": 0.0159375,
         "energy_max": 0.052,
         "energy_min": 0.009,
         "_deepnote_index_column": 7020819
        },
        {
         "LCLid": "MAC004821",
         "day": "2014-01-14",
         "energy_mean": 0.0163125,
         "energy_max": 0.05,
         "energy_min": 0.009,
         "_deepnote_index_column": 7020820
        },
        {
         "LCLid": "MAC004821",
         "day": "2014-01-15",
         "energy_mean": 0.014375,
         "energy_max": 0.05,
         "energy_min": 0.008,
         "_deepnote_index_column": 7020821
        },
        {
         "LCLid": "MAC004821",
         "day": "2014-01-16",
         "energy_mean": 0.0139583333333333,
         "energy_max": 0.049,
         "energy_min": 0.008,
         "_deepnote_index_column": 7020822
        },
        {
         "LCLid": "MAC004821",
         "day": "2014-01-17",
         "energy_mean": 0.0245625,
         "energy_max": 0.385,
         "energy_min": 0.009,
         "_deepnote_index_column": 7020823
        },
        {
         "LCLid": "MAC004821",
         "day": "2014-01-18",
         "energy_mean": 0.0150208333333333,
         "energy_max": 0.052,
         "energy_min": 0.009,
         "_deepnote_index_column": 7020824
        },
        {
         "LCLid": "MAC004821",
         "day": "2014-01-19",
         "energy_mean": 0.0149791666666666,
         "energy_max": 0.052,
         "energy_min": 0.009,
         "_deepnote_index_column": 7020825
        },
        {
         "LCLid": "MAC004821",
         "day": "2014-01-20",
         "energy_mean": 0.0138125,
         "energy_max": 0.05,
         "energy_min": 0,
         "_deepnote_index_column": 7020826
        },
        {
         "LCLid": "MAC004821",
         "day": "2014-01-21",
         "energy_mean": 0.0097708333333333,
         "energy_max": 0.042,
         "energy_min": 0,
         "_deepnote_index_column": 7020827
        },
        {
         "LCLid": "MAC004821",
         "day": "2014-01-22",
         "energy_mean": 0.0106041666666666,
         "energy_max": 0.049,
         "energy_min": 0,
         "_deepnote_index_column": 7020828
        },
        {
         "LCLid": "MAC004821",
         "day": "2014-01-23",
         "energy_mean": 0.015375,
         "energy_max": 0.0559999999999999,
         "energy_min": 0.008,
         "_deepnote_index_column": 7020829
        },
        {
         "LCLid": "MAC004821",
         "day": "2014-01-24",
         "energy_mean": 0.016875,
         "energy_max": 0.087,
         "energy_min": 0.009,
         "_deepnote_index_column": 7020830
        },
        {
         "LCLid": "MAC004821",
         "day": "2014-01-25",
         "energy_mean": 0.014,
         "energy_max": 0.044,
         "energy_min": 0.008,
         "_deepnote_index_column": 7020831
        },
        {
         "LCLid": "MAC004821",
         "day": "2014-01-26",
         "energy_mean": 0.0145625,
         "energy_max": 0.052,
         "energy_min": 0.009,
         "_deepnote_index_column": 7020832
        },
        {
         "LCLid": "MAC004821",
         "day": "2014-01-27",
         "energy_mean": 0.0153333333333333,
         "energy_max": 0.054,
         "energy_min": 0.009,
         "_deepnote_index_column": 7020833
        },
        {
         "LCLid": "MAC004821",
         "day": "2014-01-28",
         "energy_mean": 0.0151666666666666,
         "energy_max": 0.052,
         "energy_min": 0.008,
         "_deepnote_index_column": 7020834
        },
        {
         "LCLid": "MAC004821",
         "day": "2014-01-29",
         "energy_mean": 0.0105,
         "energy_max": 0.045,
         "energy_min": 0,
         "_deepnote_index_column": 7020835
        },
        {
         "LCLid": "MAC004821",
         "day": "2014-01-30",
         "energy_mean": 0.0080625,
         "energy_max": 0.046,
         "energy_min": 0,
         "_deepnote_index_column": 7020836
        },
        {
         "LCLid": "MAC004821",
         "day": "2014-01-31",
         "energy_mean": 0.00725,
         "energy_max": 0.047,
         "energy_min": 0,
         "_deepnote_index_column": 7020837
        },
        {
         "LCLid": "MAC004821",
         "day": "2014-02-01",
         "energy_mean": 0.0068125,
         "energy_max": 0.039,
         "energy_min": 0,
         "_deepnote_index_column": 7020838
        },
        {
         "LCLid": "MAC004821",
         "day": "2014-02-02",
         "energy_mean": 0.0060833333333333,
         "energy_max": 0.047,
         "energy_min": 0,
         "_deepnote_index_column": 7020839
        },
        {
         "LCLid": "MAC004821",
         "day": "2014-02-03",
         "energy_mean": 0.0069166666666666,
         "energy_max": 0.045,
         "energy_min": 0,
         "_deepnote_index_column": 7020840
        },
        {
         "LCLid": "MAC004821",
         "day": "2014-02-04",
         "energy_mean": 0.0067083333333333,
         "energy_max": 0.042,
         "energy_min": 0,
         "_deepnote_index_column": 7020841
        },
        {
         "LCLid": "MAC004821",
         "day": "2014-02-05",
         "energy_mean": 0.0059791666666666,
         "energy_max": 0.042,
         "energy_min": 0,
         "_deepnote_index_column": 7020842
        },
        {
         "LCLid": "MAC004821",
         "day": "2014-02-06",
         "energy_mean": 0.0061666666666666,
         "energy_max": 0.046,
         "energy_min": 0,
         "_deepnote_index_column": 7020843
        },
        {
         "LCLid": "MAC004821",
         "day": "2014-02-07",
         "energy_mean": 0.0058333333333333,
         "energy_max": 0.042,
         "energy_min": 0,
         "_deepnote_index_column": 7020844
        },
        {
         "LCLid": "MAC004821",
         "day": "2014-02-08",
         "energy_mean": 0.0054166666666666,
         "energy_max": 0.033,
         "energy_min": 0,
         "_deepnote_index_column": 7020845
        },
        {
         "LCLid": "MAC004821",
         "day": "2014-02-09",
         "energy_mean": 0.0059166666666666,
         "energy_max": 0.046,
         "energy_min": 0,
         "_deepnote_index_column": 7020846
        },
        {
         "LCLid": "MAC004821",
         "day": "2014-02-10",
         "energy_mean": 0.0062916666666666,
         "energy_max": 0.047,
         "energy_min": 0,
         "_deepnote_index_column": 7020847
        },
        {
         "LCLid": "MAC004821",
         "day": "2014-02-11",
         "energy_mean": 0.00725,
         "energy_max": 0.043,
         "energy_min": 0,
         "_deepnote_index_column": 7020848
        },
        {
         "LCLid": "MAC004821",
         "day": "2014-02-12",
         "energy_mean": 0.0075416666666666,
         "energy_max": 0.045,
         "energy_min": 0,
         "_deepnote_index_column": 7020849
        },
        {
         "LCLid": "MAC004821",
         "day": "2014-02-13",
         "energy_mean": 0.0070833333333333,
         "energy_max": 0.043,
         "energy_min": 0,
         "_deepnote_index_column": 7020850
        },
        {
         "LCLid": "MAC004821",
         "day": "2014-02-14",
         "energy_mean": 0.0067708333333333,
         "energy_max": 0.046,
         "energy_min": 0,
         "_deepnote_index_column": 7020851
        },
        {
         "LCLid": "MAC004821",
         "day": "2014-02-15",
         "energy_mean": 0.0062916666666666,
         "energy_max": 0.042,
         "energy_min": 0,
         "_deepnote_index_column": 7020852
        },
        {
         "LCLid": "MAC004821",
         "day": "2014-02-16",
         "energy_mean": 0.006125,
         "energy_max": 0.044,
         "energy_min": 0,
         "_deepnote_index_column": 7020853
        },
        {
         "LCLid": "MAC004821",
         "day": "2014-02-17",
         "energy_mean": 0.0059166666666666,
         "energy_max": 0.044,
         "energy_min": 0,
         "_deepnote_index_column": 7020854
        },
        {
         "LCLid": "MAC004821",
         "day": "2014-02-18",
         "energy_mean": 0.005375,
         "energy_max": 0.035,
         "energy_min": 0,
         "_deepnote_index_column": 7020855
        },
        {
         "LCLid": "MAC004821",
         "day": "2014-02-19",
         "energy_mean": 0.0149583333333333,
         "energy_max": 0.201,
         "energy_min": 0,
         "_deepnote_index_column": 7020856
        },
        {
         "LCLid": "MAC004821",
         "day": "2014-02-20",
         "energy_mean": 0.00375,
         "energy_max": 0.0289999999999999,
         "energy_min": 0,
         "_deepnote_index_column": 7020857
        },
        {
         "LCLid": "MAC004821",
         "day": "2014-02-21",
         "energy_mean": 0.0056041666666666,
         "energy_max": 0.038,
         "energy_min": 0,
         "_deepnote_index_column": 7020858
        },
        {
         "LCLid": "MAC004821",
         "day": "2014-02-22",
         "energy_mean": 0.0143125,
         "energy_max": 0.113,
         "energy_min": 0,
         "_deepnote_index_column": 7020859
        },
        {
         "LCLid": "MAC004821",
         "day": "2014-02-23",
         "energy_mean": 0.0228749999999999,
         "energy_max": 0.156,
         "energy_min": 0,
         "_deepnote_index_column": 7020860
        },
        {
         "LCLid": "MAC004821",
         "day": "2014-02-24",
         "energy_mean": 0.0059166666666666,
         "energy_max": 0.044,
         "energy_min": 0,
         "_deepnote_index_column": 7020861
        },
        {
         "LCLid": "MAC004821",
         "day": "2014-02-25",
         "energy_mean": 0.0103541666666666,
         "energy_max": 0.096,
         "energy_min": 0,
         "_deepnote_index_column": 7020862
        },
        {
         "LCLid": "MAC004821",
         "day": "2014-02-26",
         "energy_mean": 0.0042291666666666,
         "energy_max": 0.07,
         "energy_min": 0,
         "_deepnote_index_column": 7020863
        },
        {
         "LCLid": "MAC004821",
         "day": "2014-02-27",
         "energy_mean": 0.0110625,
         "energy_max": 0.086,
         "energy_min": 0,
         "_deepnote_index_column": 7020864
        },
        {
         "LCLid": "MAC004821",
         "day": "2014-02-28",
         "energy_mean": 0.0279999999999999,
         "energy_max": 0.0279999999999999,
         "energy_min": 0.0279999999999999,
         "_deepnote_index_column": 7020865
        }
       ]
      },
      "text/plain": "             LCLid         day  energy_mean  energy_max  energy_min\n0        MAC000020  2011-12-07     0.212172       0.620       0.057\n1        MAC000020  2011-12-08     0.152708       0.617       0.049\n2        MAC000020  2011-12-09     0.128833       0.277       0.053\n3        MAC000020  2011-12-10     0.182562       0.773       0.053\n4        MAC000020  2011-12-11     0.225208       1.133       0.055\n...            ...         ...          ...         ...         ...\n7020861  MAC004821  2014-02-24     0.005917       0.044       0.000\n7020862  MAC004821  2014-02-25     0.010354       0.096       0.000\n7020863  MAC004821  2014-02-26     0.004229       0.070       0.000\n7020864  MAC004821  2014-02-27     0.011062       0.086       0.000\n7020865  MAC004821  2014-02-28     0.028000       0.028       0.028\n\n[7020866 rows x 5 columns]",
      "text/html": "<div>\n<style scoped>\n    .dataframe tbody tr th:only-of-type {\n        vertical-align: middle;\n    }\n\n    .dataframe tbody tr th {\n        vertical-align: top;\n    }\n\n    .dataframe thead th {\n        text-align: right;\n    }\n</style>\n<table border=\"1\" class=\"dataframe\">\n  <thead>\n    <tr style=\"text-align: right;\">\n      <th></th>\n      <th>LCLid</th>\n      <th>day</th>\n      <th>energy_mean</th>\n      <th>energy_max</th>\n      <th>energy_min</th>\n    </tr>\n  </thead>\n  <tbody>\n    <tr>\n      <th>0</th>\n      <td>MAC000020</td>\n      <td>2011-12-07</td>\n      <td>0.212172</td>\n      <td>0.620</td>\n      <td>0.057</td>\n    </tr>\n    <tr>\n      <th>1</th>\n      <td>MAC000020</td>\n      <td>2011-12-08</td>\n      <td>0.152708</td>\n      <td>0.617</td>\n      <td>0.049</td>\n    </tr>\n    <tr>\n      <th>2</th>\n      <td>MAC000020</td>\n      <td>2011-12-09</td>\n      <td>0.128833</td>\n      <td>0.277</td>\n      <td>0.053</td>\n    </tr>\n    <tr>\n      <th>3</th>\n      <td>MAC000020</td>\n      <td>2011-12-10</td>\n      <td>0.182562</td>\n      <td>0.773</td>\n      <td>0.053</td>\n    </tr>\n    <tr>\n      <th>4</th>\n      <td>MAC000020</td>\n      <td>2011-12-11</td>\n      <td>0.225208</td>\n      <td>1.133</td>\n      <td>0.055</td>\n    </tr>\n    <tr>\n      <th>...</th>\n      <td>...</td>\n      <td>...</td>\n      <td>...</td>\n      <td>...</td>\n      <td>...</td>\n    </tr>\n    <tr>\n      <th>7020861</th>\n      <td>MAC004821</td>\n      <td>2014-02-24</td>\n      <td>0.005917</td>\n      <td>0.044</td>\n      <td>0.000</td>\n    </tr>\n    <tr>\n      <th>7020862</th>\n      <td>MAC004821</td>\n      <td>2014-02-25</td>\n      <td>0.010354</td>\n      <td>0.096</td>\n      <td>0.000</td>\n    </tr>\n    <tr>\n      <th>7020863</th>\n      <td>MAC004821</td>\n      <td>2014-02-26</td>\n      <td>0.004229</td>\n      <td>0.070</td>\n      <td>0.000</td>\n    </tr>\n    <tr>\n      <th>7020864</th>\n      <td>MAC004821</td>\n      <td>2014-02-27</td>\n      <td>0.011062</td>\n      <td>0.086</td>\n      <td>0.000</td>\n    </tr>\n    <tr>\n      <th>7020865</th>\n      <td>MAC004821</td>\n      <td>2014-02-28</td>\n      <td>0.028000</td>\n      <td>0.028</td>\n      <td>0.028</td>\n    </tr>\n  </tbody>\n</table>\n<p>7020866 rows × 5 columns</p>\n</div>"
     },
     "metadata": {}
    }
   ],
   "execution_count": null
  },
  {
   "cell_type": "code",
   "metadata": {
    "tags": [],
    "cell_id": "00023-9da788da-ead4-4f68-9e05-c608fa6467c4",
    "deepnote_to_be_reexecuted": false,
    "source_hash": "2b22378c",
    "execution_start": 1635605000671,
    "execution_millis": 192,
    "deepnote_cell_type": "code"
   },
   "source": "#creamos el DATAFRAME OBJETIVO\ndf_daily = pd.concat(list_data_daily, ignore_index=True)\nlen(df_daily)\n",
   "outputs": [
    {
     "output_type": "execute_result",
     "execution_count": 18,
     "data": {
      "text/plain": "7020866"
     },
     "metadata": {}
    }
   ],
   "execution_count": null
  },
  {
   "cell_type": "code",
   "metadata": {
    "tags": [],
    "cell_id": "00024-546256c0-f637-4daf-83ff-b2be9866fbe5",
    "deepnote_to_be_reexecuted": false,
    "source_hash": "56e0f15a",
    "execution_start": 1635605000873,
    "execution_millis": 4,
    "deepnote_cell_type": "code"
   },
   "source": "df_daily.drop_duplicates\nlen(df_daily)",
   "outputs": [
    {
     "output_type": "execute_result",
     "execution_count": 19,
     "data": {
      "text/plain": "7020866"
     },
     "metadata": {}
    }
   ],
   "execution_count": null
  },
  {
   "cell_type": "code",
   "metadata": {
    "tags": [],
    "cell_id": "00025-e0a54ace-8eac-4c0f-8057-6d697c71403e",
    "deepnote_to_be_reexecuted": false,
    "source_hash": "8d301e61",
    "execution_start": 1635605000883,
    "execution_millis": 30,
    "deepnote_cell_type": "code"
   },
   "source": "df_daily.head()",
   "outputs": [
    {
     "output_type": "execute_result",
     "execution_count": 20,
     "data": {
      "application/vnd.deepnote.dataframe.v2+json": {
       "row_count": 5,
       "column_count": 5,
       "columns": [
        {
         "name": "LCLid",
         "dtype": "object",
         "stats": {
          "unique_count": 1,
          "nan_count": 0,
          "categories": [
           {
            "name": "MAC000020",
            "count": 5
           }
          ]
         }
        },
        {
         "name": "day",
         "dtype": "object",
         "stats": {
          "unique_count": 5,
          "nan_count": 0,
          "categories": [
           {
            "name": "2011-12-07",
            "count": 1
           },
           {
            "name": "2011-12-08",
            "count": 1
           },
           {
            "name": "3 others",
            "count": 3
           }
          ]
         }
        },
        {
         "name": "energy_mean",
         "dtype": "float64",
         "stats": {
          "unique_count": 5,
          "nan_count": 0,
          "min": "0.1288333333333333",
          "max": "0.2252083333333333",
          "histogram": [
           {
            "bin_start": 0.1288333333333333,
            "bin_end": 0.1384708333333333,
            "count": 1
           },
           {
            "bin_start": 0.1384708333333333,
            "bin_end": 0.1481083333333333,
            "count": 0
           },
           {
            "bin_start": 0.1481083333333333,
            "bin_end": 0.1577458333333333,
            "count": 1
           },
           {
            "bin_start": 0.1577458333333333,
            "bin_end": 0.1673833333333333,
            "count": 0
           },
           {
            "bin_start": 0.1673833333333333,
            "bin_end": 0.1770208333333333,
            "count": 0
           },
           {
            "bin_start": 0.1770208333333333,
            "bin_end": 0.1866583333333333,
            "count": 1
           },
           {
            "bin_start": 0.1866583333333333,
            "bin_end": 0.19629583333333328,
            "count": 0
           },
           {
            "bin_start": 0.19629583333333328,
            "bin_end": 0.2059333333333333,
            "count": 0
           },
           {
            "bin_start": 0.2059333333333333,
            "bin_end": 0.21557083333333327,
            "count": 1
           },
           {
            "bin_start": 0.21557083333333327,
            "bin_end": 0.2252083333333333,
            "count": 1
           }
          ]
         }
        },
        {
         "name": "energy_max",
         "dtype": "float64",
         "stats": {
          "unique_count": 5,
          "nan_count": 0,
          "min": "0.2769999999999999",
          "max": "1.133",
          "histogram": [
           {
            "bin_start": 0.2769999999999999,
            "bin_end": 0.3625999999999999,
            "count": 1
           },
           {
            "bin_start": 0.3625999999999999,
            "bin_end": 0.44819999999999993,
            "count": 0
           },
           {
            "bin_start": 0.44819999999999993,
            "bin_end": 0.5337999999999999,
            "count": 0
           },
           {
            "bin_start": 0.5337999999999999,
            "bin_end": 0.6194,
            "count": 1
           },
           {
            "bin_start": 0.6194,
            "bin_end": 0.705,
            "count": 1
           },
           {
            "bin_start": 0.705,
            "bin_end": 0.7906,
            "count": 1
           },
           {
            "bin_start": 0.7906,
            "bin_end": 0.8762,
            "count": 0
           },
           {
            "bin_start": 0.8762,
            "bin_end": 0.9618,
            "count": 0
           },
           {
            "bin_start": 0.9618,
            "bin_end": 1.0474,
            "count": 0
           },
           {
            "bin_start": 1.0474,
            "bin_end": 1.133,
            "count": 1
           }
          ]
         }
        },
        {
         "name": "energy_min",
         "dtype": "float64",
         "stats": {
          "unique_count": 4,
          "nan_count": 0,
          "min": "0.049",
          "max": "0.057",
          "histogram": [
           {
            "bin_start": 0.049,
            "bin_end": 0.049800000000000004,
            "count": 1
           },
           {
            "bin_start": 0.049800000000000004,
            "bin_end": 0.0506,
            "count": 0
           },
           {
            "bin_start": 0.0506,
            "bin_end": 0.0514,
            "count": 0
           },
           {
            "bin_start": 0.0514,
            "bin_end": 0.0522,
            "count": 0
           },
           {
            "bin_start": 0.0522,
            "bin_end": 0.053000000000000005,
            "count": 2
           },
           {
            "bin_start": 0.053000000000000005,
            "bin_end": 0.0538,
            "count": 0
           },
           {
            "bin_start": 0.0538,
            "bin_end": 0.0546,
            "count": 0
           },
           {
            "bin_start": 0.0546,
            "bin_end": 0.055400000000000005,
            "count": 1
           },
           {
            "bin_start": 0.055400000000000005,
            "bin_end": 0.0562,
            "count": 0
           },
           {
            "bin_start": 0.0562,
            "bin_end": 0.057,
            "count": 1
           }
          ]
         }
        },
        {
         "name": "_deepnote_index_column",
         "dtype": "int64"
        }
       ],
       "rows_top": [
        {
         "LCLid": "MAC000020",
         "day": "2011-12-07",
         "energy_mean": 0.2121724137931035,
         "energy_max": 0.62,
         "energy_min": 0.057,
         "_deepnote_index_column": 0
        },
        {
         "LCLid": "MAC000020",
         "day": "2011-12-08",
         "energy_mean": 0.1527083333333333,
         "energy_max": 0.617,
         "energy_min": 0.049,
         "_deepnote_index_column": 1
        },
        {
         "LCLid": "MAC000020",
         "day": "2011-12-09",
         "energy_mean": 0.1288333333333333,
         "energy_max": 0.2769999999999999,
         "energy_min": 0.053,
         "_deepnote_index_column": 2
        },
        {
         "LCLid": "MAC000020",
         "day": "2011-12-10",
         "energy_mean": 0.1825625,
         "energy_max": 0.773,
         "energy_min": 0.053,
         "_deepnote_index_column": 3
        },
        {
         "LCLid": "MAC000020",
         "day": "2011-12-11",
         "energy_mean": 0.2252083333333333,
         "energy_max": 1.133,
         "energy_min": 0.055,
         "_deepnote_index_column": 4
        }
       ],
       "rows_bottom": null
      },
      "text/plain": "       LCLid         day  energy_mean  energy_max  energy_min\n0  MAC000020  2011-12-07     0.212172       0.620       0.057\n1  MAC000020  2011-12-08     0.152708       0.617       0.049\n2  MAC000020  2011-12-09     0.128833       0.277       0.053\n3  MAC000020  2011-12-10     0.182562       0.773       0.053\n4  MAC000020  2011-12-11     0.225208       1.133       0.055",
      "text/html": "<div>\n<style scoped>\n    .dataframe tbody tr th:only-of-type {\n        vertical-align: middle;\n    }\n\n    .dataframe tbody tr th {\n        vertical-align: top;\n    }\n\n    .dataframe thead th {\n        text-align: right;\n    }\n</style>\n<table border=\"1\" class=\"dataframe\">\n  <thead>\n    <tr style=\"text-align: right;\">\n      <th></th>\n      <th>LCLid</th>\n      <th>day</th>\n      <th>energy_mean</th>\n      <th>energy_max</th>\n      <th>energy_min</th>\n    </tr>\n  </thead>\n  <tbody>\n    <tr>\n      <th>0</th>\n      <td>MAC000020</td>\n      <td>2011-12-07</td>\n      <td>0.212172</td>\n      <td>0.620</td>\n      <td>0.057</td>\n    </tr>\n    <tr>\n      <th>1</th>\n      <td>MAC000020</td>\n      <td>2011-12-08</td>\n      <td>0.152708</td>\n      <td>0.617</td>\n      <td>0.049</td>\n    </tr>\n    <tr>\n      <th>2</th>\n      <td>MAC000020</td>\n      <td>2011-12-09</td>\n      <td>0.128833</td>\n      <td>0.277</td>\n      <td>0.053</td>\n    </tr>\n    <tr>\n      <th>3</th>\n      <td>MAC000020</td>\n      <td>2011-12-10</td>\n      <td>0.182562</td>\n      <td>0.773</td>\n      <td>0.053</td>\n    </tr>\n    <tr>\n      <th>4</th>\n      <td>MAC000020</td>\n      <td>2011-12-11</td>\n      <td>0.225208</td>\n      <td>1.133</td>\n      <td>0.055</td>\n    </tr>\n  </tbody>\n</table>\n</div>"
     },
     "metadata": {}
    }
   ],
   "execution_count": null
  },
  {
   "cell_type": "markdown",
   "source": "## Dataset halfhourly_dataset/block_0 ",
   "metadata": {
    "tags": [],
    "is_collapsed": true,
    "cell_id": "00030-14d7c7ff-3095-4146-83a3-57d1ff0bc535",
    "deepnote_cell_type": "text-cell-h2"
   }
  },
  {
   "cell_type": "markdown",
   "source": "El siguiente dataset proporcionado tenía el nombre de 'halfhourly_dataset' y tenía el mismo formato que el zip explicado anteriormente. En este caso, únicamente cargamos un csv de todos para ver sus variables y si tenía algún valor nulo.",
   "metadata": {
    "tags": [],
    "cell_id": "00031-678c1094-019f-4055-afee-818d642b5d86",
    "deepnote_cell_type": "markdown"
   }
  },
  {
   "cell_type": "code",
   "metadata": {
    "tags": [],
    "cell_id": "00031-5b6e715b-b0d7-45e5-8afc-15a20f93dd7c",
    "deepnote_to_be_reexecuted": false,
    "source_hash": "c83035bb",
    "execution_start": 1635605000919,
    "execution_millis": 1024,
    "deepnote_cell_type": "code"
   },
   "source": "dfhalf = pd.read_csv('halfhourly_dataset/block_0.csv')\ndfhalf.head()",
   "outputs": [
    {
     "output_type": "execute_result",
     "execution_count": 21,
     "data": {
      "application/vnd.deepnote.dataframe.v2+json": {
       "row_count": 5,
       "column_count": 3,
       "columns": [
        {
         "name": "LCLid",
         "dtype": "object",
         "stats": {
          "unique_count": 1,
          "nan_count": 0,
          "categories": [
           {
            "name": "MAC000002",
            "count": 5
           }
          ]
         }
        },
        {
         "name": "tstp",
         "dtype": "object",
         "stats": {
          "unique_count": 5,
          "nan_count": 0,
          "categories": [
           {
            "name": "2012-10-12 00:30:00.0000000",
            "count": 1
           },
           {
            "name": "2012-10-12 01:00:00.0000000",
            "count": 1
           },
           {
            "name": "3 others",
            "count": 3
           }
          ]
         }
        },
        {
         "name": "energy(kWh/hh)",
         "dtype": "object",
         "stats": {
          "unique_count": 1,
          "nan_count": 0,
          "categories": [
           {
            "name": " 0 ",
            "count": 5
           }
          ]
         }
        },
        {
         "name": "_deepnote_index_column",
         "dtype": "int64"
        }
       ],
       "rows_top": [
        {
         "LCLid": "MAC000002",
         "tstp": "2012-10-12 00:30:00.0000000",
         "energy(kWh/hh)": " 0 ",
         "_deepnote_index_column": 0
        },
        {
         "LCLid": "MAC000002",
         "tstp": "2012-10-12 01:00:00.0000000",
         "energy(kWh/hh)": " 0 ",
         "_deepnote_index_column": 1
        },
        {
         "LCLid": "MAC000002",
         "tstp": "2012-10-12 01:30:00.0000000",
         "energy(kWh/hh)": " 0 ",
         "_deepnote_index_column": 2
        },
        {
         "LCLid": "MAC000002",
         "tstp": "2012-10-12 02:00:00.0000000",
         "energy(kWh/hh)": " 0 ",
         "_deepnote_index_column": 3
        },
        {
         "LCLid": "MAC000002",
         "tstp": "2012-10-12 02:30:00.0000000",
         "energy(kWh/hh)": " 0 ",
         "_deepnote_index_column": 4
        }
       ],
       "rows_bottom": null
      },
      "text/plain": "       LCLid                         tstp energy(kWh/hh)\n0  MAC000002  2012-10-12 00:30:00.0000000             0 \n1  MAC000002  2012-10-12 01:00:00.0000000             0 \n2  MAC000002  2012-10-12 01:30:00.0000000             0 \n3  MAC000002  2012-10-12 02:00:00.0000000             0 \n4  MAC000002  2012-10-12 02:30:00.0000000             0 ",
      "text/html": "<div>\n<style scoped>\n    .dataframe tbody tr th:only-of-type {\n        vertical-align: middle;\n    }\n\n    .dataframe tbody tr th {\n        vertical-align: top;\n    }\n\n    .dataframe thead th {\n        text-align: right;\n    }\n</style>\n<table border=\"1\" class=\"dataframe\">\n  <thead>\n    <tr style=\"text-align: right;\">\n      <th></th>\n      <th>LCLid</th>\n      <th>tstp</th>\n      <th>energy(kWh/hh)</th>\n    </tr>\n  </thead>\n  <tbody>\n    <tr>\n      <th>0</th>\n      <td>MAC000002</td>\n      <td>2012-10-12 00:30:00.0000000</td>\n      <td>0</td>\n    </tr>\n    <tr>\n      <th>1</th>\n      <td>MAC000002</td>\n      <td>2012-10-12 01:00:00.0000000</td>\n      <td>0</td>\n    </tr>\n    <tr>\n      <th>2</th>\n      <td>MAC000002</td>\n      <td>2012-10-12 01:30:00.0000000</td>\n      <td>0</td>\n    </tr>\n    <tr>\n      <th>3</th>\n      <td>MAC000002</td>\n      <td>2012-10-12 02:00:00.0000000</td>\n      <td>0</td>\n    </tr>\n    <tr>\n      <th>4</th>\n      <td>MAC000002</td>\n      <td>2012-10-12 02:30:00.0000000</td>\n      <td>0</td>\n    </tr>\n  </tbody>\n</table>\n</div>"
     },
     "metadata": {}
    }
   ],
   "execution_count": null
  },
  {
   "cell_type": "code",
   "metadata": {
    "tags": [],
    "cell_id": "00032-0df40655-9f78-4bed-aac7-c02ad5bee80a",
    "deepnote_to_be_reexecuted": false,
    "source_hash": "76ed47b0",
    "execution_start": 1635605002121,
    "execution_millis": 13,
    "deepnote_cell_type": "code"
   },
   "source": "dfhalf.isnull().sum()",
   "outputs": [
    {
     "output_type": "execute_result",
     "execution_count": 22,
     "data": {
      "text/plain": "LCLid             0\ntstp              0\nenergy(kWh/hh)    0\ndtype: int64"
     },
     "metadata": {}
    }
   ],
   "execution_count": null
  },
  {
   "cell_type": "markdown",
   "source": "# MERGE",
   "metadata": {
    "tags": [],
    "is_collapsed": true,
    "cell_id": "00031-09555d9c-1732-4d16-b3d5-0c0342cd1923",
    "deepnote_cell_type": "text-cell-h1"
   }
  },
  {
   "cell_type": "markdown",
   "source": "En este apartado, procedemos a unir el dataset de daily_dataset y el weather_daily_darksky. Para ello, usamos el método merge, el cual mediante una columna en común (fecha) une ambos datasets. Además, es importante tener en cuenta que para poder aplicar el método fue necesario combertir ambas fechas previamente en el mismo formato.",
   "metadata": {
    "tags": [],
    "cell_id": "00035-25d9feb2-7997-4292-91c1-61ea5d068ea1",
    "deepnote_cell_type": "markdown"
   }
  },
  {
   "cell_type": "code",
   "metadata": {
    "tags": [],
    "cell_id": "00026-3813bb6c-6ce8-43c8-af6c-7d66fb218cb7",
    "deepnote_to_be_reexecuted": false,
    "source_hash": "8d13cfed",
    "execution_start": 1635605002140,
    "execution_millis": 4,
    "deepnote_cell_type": "code"
   },
   "source": "df_daily.columns",
   "outputs": [
    {
     "output_type": "execute_result",
     "execution_count": 23,
     "data": {
      "text/plain": "Index(['LCLid', 'day', 'energy_mean', 'energy_max', 'energy_min'], dtype='object')"
     },
     "metadata": {}
    }
   ],
   "execution_count": null
  },
  {
   "cell_type": "code",
   "metadata": {
    "tags": [],
    "cell_id": "00027-7dc38c12-214f-4350-aabd-bf9c100f5984",
    "deepnote_to_be_reexecuted": false,
    "source_hash": "c3bf380b",
    "execution_start": 1635605002152,
    "execution_millis": 4,
    "deepnote_cell_type": "code"
   },
   "source": "dfwea.columns",
   "outputs": [
    {
     "output_type": "execute_result",
     "execution_count": 24,
     "data": {
      "text/plain": "Index(['temperatureMax', 'temperatureMaxTime', 'icon', 'dewPoint',\n       'temperatureMinTime', 'cloudCover', 'windSpeed',\n       'apparentTemperatureHigh', 'precipType', 'visibility', 'humidity',\n       'apparentTemperatureLow', 'apparentTemperatureMax', 'uvIndex', 'time',\n       'sunsetTime', 'temperatureLow', 'temperatureMin', 'temperatureHigh',\n       'sunriseTime', 'uvIndexTime', 'temperatureLowTime',\n       'apparentTemperatureMin'],\n      dtype='object')"
     },
     "metadata": {}
    }
   ],
   "execution_count": null
  },
  {
   "cell_type": "code",
   "metadata": {
    "tags": [],
    "cell_id": "00028-458b2a78-63f9-47a2-81d8-6d885f3eb941",
    "deepnote_to_be_reexecuted": false,
    "source_hash": "b68754aa",
    "execution_start": 1635605002162,
    "execution_millis": 8,
    "deepnote_cell_type": "code"
   },
   "source": "df_daily['day'].describe",
   "outputs": [
    {
     "output_type": "execute_result",
     "execution_count": 25,
     "data": {
      "text/plain": "<bound method NDFrame.describe of 0          2011-12-07\n1          2011-12-08\n2          2011-12-09\n3          2011-12-10\n4          2011-12-11\n              ...    \n7020861    2014-02-24\n7020862    2014-02-25\n7020863    2014-02-26\n7020864    2014-02-27\n7020865    2014-02-28\nName: day, Length: 7020866, dtype: object>"
     },
     "metadata": {}
    }
   ],
   "execution_count": null
  },
  {
   "cell_type": "code",
   "metadata": {
    "tags": [],
    "cell_id": "00028-29659fbf-68b3-4250-b10c-5f049af3ad68",
    "deepnote_to_be_reexecuted": false,
    "source_hash": "4e6401f9",
    "execution_start": 1635605002174,
    "execution_millis": 11,
    "deepnote_cell_type": "code"
   },
   "source": "dfwea['time'].describe",
   "outputs": [
    {
     "output_type": "execute_result",
     "execution_count": 26,
     "data": {
      "text/plain": "<bound method NDFrame.describe of 0      2011-11-11 00:00:00\n1      2011-12-11 00:00:00\n2      2011-12-27 00:00:00\n3      2011-12-02 00:00:00\n4      2011-12-24 00:00:00\n              ...         \n877    2014-01-26 00:00:00\n878    2014-02-27 00:00:00\n879    2014-03-09 00:00:00\n880    2014-02-12 00:00:00\n881    2014-02-15 00:00:00\nName: time, Length: 881, dtype: object>"
     },
     "metadata": {}
    }
   ],
   "execution_count": null
  },
  {
   "cell_type": "code",
   "metadata": {
    "tags": [],
    "cell_id": "00030-2174f538-d007-4e0d-ba02-5e27928a02a8",
    "deepnote_to_be_reexecuted": false,
    "source_hash": "f29a189",
    "execution_start": 1635605003552,
    "execution_millis": 71,
    "deepnote_cell_type": "code"
   },
   "source": "dfwea['time'] = pd.to_datetime(dfwea['time'])\ndf_daily['day'] = pd.to_datetime(df_daily['day'])",
   "outputs": [],
   "execution_count": null
  },
  {
   "cell_type": "code",
   "metadata": {
    "tags": [],
    "cell_id": "00026-91e61dc6-2929-4620-8244-758cd8660a7f",
    "deepnote_to_be_reexecuted": false,
    "source_hash": "43c4b8a0",
    "execution_start": 1635605003636,
    "execution_millis": 7996,
    "deepnote_cell_type": "code"
   },
   "source": "DFOBJETIVO = pd.merge(df_daily, dfwea, left_on='day', right_on='time')\nDFOBJETIVO",
   "outputs": [
    {
     "output_type": "execute_result",
     "execution_count": 28,
     "data": {
      "application/vnd.deepnote.dataframe.v2+json": {
       "row_count": 3083704,
       "column_count": 28,
       "columns": [
        {
         "name": "LCLid",
         "dtype": "object"
        },
        {
         "name": "day",
         "dtype": "datetime64[ns]"
        },
        {
         "name": "energy_mean",
         "dtype": "float64"
        },
        {
         "name": "energy_max",
         "dtype": "float64"
        },
        {
         "name": "energy_min",
         "dtype": "float64"
        },
        {
         "name": "temperatureMax",
         "dtype": "float64"
        },
        {
         "name": "temperatureMaxTime",
         "dtype": "object"
        },
        {
         "name": "icon",
         "dtype": "object"
        },
        {
         "name": "dewPoint",
         "dtype": "float64"
        },
        {
         "name": "temperatureMinTime",
         "dtype": "object"
        },
        {
         "name": "cloudCover",
         "dtype": "float64"
        },
        {
         "name": "windSpeed",
         "dtype": "float64"
        },
        {
         "name": "apparentTemperatureHigh",
         "dtype": "float64"
        },
        {
         "name": "precipType",
         "dtype": "object"
        },
        {
         "name": "visibility",
         "dtype": "float64"
        },
        {
         "name": "humidity",
         "dtype": "float64"
        },
        {
         "name": "apparentTemperatureLow",
         "dtype": "float64"
        },
        {
         "name": "apparentTemperatureMax",
         "dtype": "float64"
        },
        {
         "name": "uvIndex",
         "dtype": "float64"
        },
        {
         "name": "time",
         "dtype": "datetime64[ns]"
        },
        {
         "name": "sunsetTime",
         "dtype": "object"
        },
        {
         "name": "temperatureLow",
         "dtype": "float64"
        },
        {
         "name": "temperatureMin",
         "dtype": "float64"
        },
        {
         "name": "temperatureHigh",
         "dtype": "float64"
        },
        {
         "name": "sunriseTime",
         "dtype": "object"
        },
        {
         "name": "uvIndexTime",
         "dtype": "object"
        },
        {
         "name": "temperatureLowTime",
         "dtype": "object"
        },
        {
         "name": "apparentTemperatureMin",
         "dtype": "float64"
        },
        {
         "name": "_deepnote_index_column",
         "dtype": "int64"
        }
       ],
       "rows_top": [
        {
         "LCLid": "MAC000020",
         "day": "2011-12-07T00:00:00.000000",
         "energy_mean": 0.2121724137931035,
         "energy_max": 0.62,
         "energy_min": 0.057,
         "temperatureMax": 9.02,
         "temperatureMaxTime": "2011-12-07 12:00:00",
         "icon": "wind",
         "dewPoint": 1.79,
         "temperatureMinTime": "2011-12-07 23:00:00",
         "cloudCover": 0.29,
         "windSpeed": 7.06,
         "apparentTemperatureHigh": 4.98,
         "precipType": "rain",
         "visibility": 13.12,
         "humidity": 0.68,
         "apparentTemperatureLow": 0.63,
         "apparentTemperatureMax": 5.14,
         "uvIndex": 1,
         "time": "2011-12-07T00:00:00.000000",
         "sunsetTime": "2011-12-07 15:53:51",
         "temperatureLow": 4.27,
         "temperatureMin": 4.91,
         "temperatureHigh": 9.02,
         "sunriseTime": "2011-12-07 07:52:35",
         "uvIndexTime": "2011-12-07 10:00:00",
         "temperatureLowTime": "2011-12-08 02:00:00",
         "apparentTemperatureMin": 0.94,
         "_deepnote_index_column": 0
        },
        {
         "LCLid": "MAC000155",
         "day": "2011-12-07T00:00:00.000000",
         "energy_mean": 0.2543749999999999,
         "energy_max": 0.939,
         "energy_min": 0.0819999999999999,
         "temperatureMax": 9.02,
         "temperatureMaxTime": "2011-12-07 12:00:00",
         "icon": "wind",
         "dewPoint": 1.79,
         "temperatureMinTime": "2011-12-07 23:00:00",
         "cloudCover": 0.29,
         "windSpeed": 7.06,
         "apparentTemperatureHigh": 4.98,
         "precipType": "rain",
         "visibility": 13.12,
         "humidity": 0.68,
         "apparentTemperatureLow": 0.63,
         "apparentTemperatureMax": 5.14,
         "uvIndex": 1,
         "time": "2011-12-07T00:00:00.000000",
         "sunsetTime": "2011-12-07 15:53:51",
         "temperatureLow": 4.27,
         "temperatureMin": 4.91,
         "temperatureHigh": 9.02,
         "sunriseTime": "2011-12-07 07:52:35",
         "uvIndexTime": "2011-12-07 10:00:00",
         "temperatureLowTime": "2011-12-08 02:00:00",
         "apparentTemperatureMin": 0.94,
         "_deepnote_index_column": 1
        },
        {
         "LCLid": "MAC000259",
         "day": "2011-12-07T00:00:00.000000",
         "energy_mean": 0.2658958333333333,
         "energy_max": 0.887,
         "energy_min": 0.036,
         "temperatureMax": 9.02,
         "temperatureMaxTime": "2011-12-07 12:00:00",
         "icon": "wind",
         "dewPoint": 1.79,
         "temperatureMinTime": "2011-12-07 23:00:00",
         "cloudCover": 0.29,
         "windSpeed": 7.06,
         "apparentTemperatureHigh": 4.98,
         "precipType": "rain",
         "visibility": 13.12,
         "humidity": 0.68,
         "apparentTemperatureLow": 0.63,
         "apparentTemperatureMax": 5.14,
         "uvIndex": 1,
         "time": "2011-12-07T00:00:00.000000",
         "sunsetTime": "2011-12-07 15:53:51",
         "temperatureLow": 4.27,
         "temperatureMin": 4.91,
         "temperatureHigh": 9.02,
         "sunriseTime": "2011-12-07 07:52:35",
         "uvIndexTime": "2011-12-07 10:00:00",
         "temperatureLowTime": "2011-12-08 02:00:00",
         "apparentTemperatureMin": 0.94,
         "_deepnote_index_column": 2
        },
        {
         "LCLid": "MAC000239",
         "day": "2011-12-07T00:00:00.000000",
         "energy_mean": 0.1579166666666666,
         "energy_max": 0.545,
         "energy_min": 0.019,
         "temperatureMax": 9.02,
         "temperatureMaxTime": "2011-12-07 12:00:00",
         "icon": "wind",
         "dewPoint": 1.79,
         "temperatureMinTime": "2011-12-07 23:00:00",
         "cloudCover": 0.29,
         "windSpeed": 7.06,
         "apparentTemperatureHigh": 4.98,
         "precipType": "rain",
         "visibility": 13.12,
         "humidity": 0.68,
         "apparentTemperatureLow": 0.63,
         "apparentTemperatureMax": 5.14,
         "uvIndex": 1,
         "time": "2011-12-07T00:00:00.000000",
         "sunsetTime": "2011-12-07 15:53:51",
         "temperatureLow": 4.27,
         "temperatureMin": 4.91,
         "temperatureHigh": 9.02,
         "sunriseTime": "2011-12-07 07:52:35",
         "uvIndexTime": "2011-12-07 10:00:00",
         "temperatureLowTime": "2011-12-08 02:00:00",
         "apparentTemperatureMin": 0.94,
         "_deepnote_index_column": 3
        },
        {
         "LCLid": "MAC000251",
         "day": "2011-12-07T00:00:00.000000",
         "energy_mean": 0.2334375020833334,
         "energy_max": 1.1390001,
         "energy_min": 0.055,
         "temperatureMax": 9.02,
         "temperatureMaxTime": "2011-12-07 12:00:00",
         "icon": "wind",
         "dewPoint": 1.79,
         "temperatureMinTime": "2011-12-07 23:00:00",
         "cloudCover": 0.29,
         "windSpeed": 7.06,
         "apparentTemperatureHigh": 4.98,
         "precipType": "rain",
         "visibility": 13.12,
         "humidity": 0.68,
         "apparentTemperatureLow": 0.63,
         "apparentTemperatureMax": 5.14,
         "uvIndex": 1,
         "time": "2011-12-07T00:00:00.000000",
         "sunsetTime": "2011-12-07 15:53:51",
         "temperatureLow": 4.27,
         "temperatureMin": 4.91,
         "temperatureHigh": 9.02,
         "sunriseTime": "2011-12-07 07:52:35",
         "uvIndexTime": "2011-12-07 10:00:00",
         "temperatureLowTime": "2011-12-08 02:00:00",
         "apparentTemperatureMin": 0.94,
         "_deepnote_index_column": 4
        },
        {
         "LCLid": "MAC000254",
         "day": "2011-12-07T00:00:00.000000",
         "energy_mean": 0.2088125020833333,
         "energy_max": 1.2690001,
         "energy_min": 0.022,
         "temperatureMax": 9.02,
         "temperatureMaxTime": "2011-12-07 12:00:00",
         "icon": "wind",
         "dewPoint": 1.79,
         "temperatureMinTime": "2011-12-07 23:00:00",
         "cloudCover": 0.29,
         "windSpeed": 7.06,
         "apparentTemperatureHigh": 4.98,
         "precipType": "rain",
         "visibility": 13.12,
         "humidity": 0.68,
         "apparentTemperatureLow": 0.63,
         "apparentTemperatureMax": 5.14,
         "uvIndex": 1,
         "time": "2011-12-07T00:00:00.000000",
         "sunsetTime": "2011-12-07 15:53:51",
         "temperatureLow": 4.27,
         "temperatureMin": 4.91,
         "temperatureHigh": 9.02,
         "sunriseTime": "2011-12-07 07:52:35",
         "uvIndexTime": "2011-12-07 10:00:00",
         "temperatureLowTime": "2011-12-08 02:00:00",
         "apparentTemperatureMin": 0.94,
         "_deepnote_index_column": 5
        },
        {
         "LCLid": "MAC000152",
         "day": "2011-12-07T00:00:00.000000",
         "energy_mean": 0.1774791666666667,
         "energy_max": 0.628,
         "energy_min": 0.031,
         "temperatureMax": 9.02,
         "temperatureMaxTime": "2011-12-07 12:00:00",
         "icon": "wind",
         "dewPoint": 1.79,
         "temperatureMinTime": "2011-12-07 23:00:00",
         "cloudCover": 0.29,
         "windSpeed": 7.06,
         "apparentTemperatureHigh": 4.98,
         "precipType": "rain",
         "visibility": 13.12,
         "humidity": 0.68,
         "apparentTemperatureLow": 0.63,
         "apparentTemperatureMax": 5.14,
         "uvIndex": 1,
         "time": "2011-12-07T00:00:00.000000",
         "sunsetTime": "2011-12-07 15:53:51",
         "temperatureLow": 4.27,
         "temperatureMin": 4.91,
         "temperatureHigh": 9.02,
         "sunriseTime": "2011-12-07 07:52:35",
         "uvIndexTime": "2011-12-07 10:00:00",
         "temperatureLowTime": "2011-12-08 02:00:00",
         "apparentTemperatureMin": 0.94,
         "_deepnote_index_column": 6
        },
        {
         "LCLid": "MAC000153",
         "day": "2011-12-07T00:00:00.000000",
         "energy_mean": 0.72118750625,
         "energy_max": 2.3280001,
         "energy_min": 0.185,
         "temperatureMax": 9.02,
         "temperatureMaxTime": "2011-12-07 12:00:00",
         "icon": "wind",
         "dewPoint": 1.79,
         "temperatureMinTime": "2011-12-07 23:00:00",
         "cloudCover": 0.29,
         "windSpeed": 7.06,
         "apparentTemperatureHigh": 4.98,
         "precipType": "rain",
         "visibility": 13.12,
         "humidity": 0.68,
         "apparentTemperatureLow": 0.63,
         "apparentTemperatureMax": 5.14,
         "uvIndex": 1,
         "time": "2011-12-07T00:00:00.000000",
         "sunsetTime": "2011-12-07 15:53:51",
         "temperatureLow": 4.27,
         "temperatureMin": 4.91,
         "temperatureHigh": 9.02,
         "sunriseTime": "2011-12-07 07:52:35",
         "uvIndexTime": "2011-12-07 10:00:00",
         "temperatureLowTime": "2011-12-08 02:00:00",
         "apparentTemperatureMin": 0.94,
         "_deepnote_index_column": 7
        },
        {
         "LCLid": "MAC000159",
         "day": "2011-12-07T00:00:00.000000",
         "energy_mean": 0.364125,
         "energy_max": 1.113,
         "energy_min": 0.103,
         "temperatureMax": 9.02,
         "temperatureMaxTime": "2011-12-07 12:00:00",
         "icon": "wind",
         "dewPoint": 1.79,
         "temperatureMinTime": "2011-12-07 23:00:00",
         "cloudCover": 0.29,
         "windSpeed": 7.06,
         "apparentTemperatureHigh": 4.98,
         "precipType": "rain",
         "visibility": 13.12,
         "humidity": 0.68,
         "apparentTemperatureLow": 0.63,
         "apparentTemperatureMax": 5.14,
         "uvIndex": 1,
         "time": "2011-12-07T00:00:00.000000",
         "sunsetTime": "2011-12-07 15:53:51",
         "temperatureLow": 4.27,
         "temperatureMin": 4.91,
         "temperatureHigh": 9.02,
         "sunriseTime": "2011-12-07 07:52:35",
         "uvIndexTime": "2011-12-07 10:00:00",
         "temperatureLowTime": "2011-12-08 02:00:00",
         "apparentTemperatureMin": 0.94,
         "_deepnote_index_column": 8
        },
        {
         "LCLid": "MAC000161",
         "day": "2011-12-07T00:00:00.000000",
         "energy_mean": 0.2400416666666666,
         "energy_max": 0.428,
         "energy_min": 0.127,
         "temperatureMax": 9.02,
         "temperatureMaxTime": "2011-12-07 12:00:00",
         "icon": "wind",
         "dewPoint": 1.79,
         "temperatureMinTime": "2011-12-07 23:00:00",
         "cloudCover": 0.29,
         "windSpeed": 7.06,
         "apparentTemperatureHigh": 4.98,
         "precipType": "rain",
         "visibility": 13.12,
         "humidity": 0.68,
         "apparentTemperatureLow": 0.63,
         "apparentTemperatureMax": 5.14,
         "uvIndex": 1,
         "time": "2011-12-07T00:00:00.000000",
         "sunsetTime": "2011-12-07 15:53:51",
         "temperatureLow": 4.27,
         "temperatureMin": 4.91,
         "temperatureHigh": 9.02,
         "sunriseTime": "2011-12-07 07:52:35",
         "uvIndexTime": "2011-12-07 10:00:00",
         "temperatureLowTime": "2011-12-08 02:00:00",
         "apparentTemperatureMin": 0.94,
         "_deepnote_index_column": 9
        },
        {
         "LCLid": "MAC000189",
         "day": "2011-12-07T00:00:00.000000",
         "energy_mean": 0.5472916708333334,
         "energy_max": 1.5420001,
         "energy_min": 0.262,
         "temperatureMax": 9.02,
         "temperatureMaxTime": "2011-12-07 12:00:00",
         "icon": "wind",
         "dewPoint": 1.79,
         "temperatureMinTime": "2011-12-07 23:00:00",
         "cloudCover": 0.29,
         "windSpeed": 7.06,
         "apparentTemperatureHigh": 4.98,
         "precipType": "rain",
         "visibility": 13.12,
         "humidity": 0.68,
         "apparentTemperatureLow": 0.63,
         "apparentTemperatureMax": 5.14,
         "uvIndex": 1,
         "time": "2011-12-07T00:00:00.000000",
         "sunsetTime": "2011-12-07 15:53:51",
         "temperatureLow": 4.27,
         "temperatureMin": 4.91,
         "temperatureHigh": 9.02,
         "sunriseTime": "2011-12-07 07:52:35",
         "uvIndexTime": "2011-12-07 10:00:00",
         "temperatureLowTime": "2011-12-08 02:00:00",
         "apparentTemperatureMin": 0.94,
         "_deepnote_index_column": 10
        },
        {
         "LCLid": "MAC000191",
         "day": "2011-12-07T00:00:00.000000",
         "energy_mean": 0.5270624979166668,
         "energy_max": 1.51,
         "energy_min": 0.065,
         "temperatureMax": 9.02,
         "temperatureMaxTime": "2011-12-07 12:00:00",
         "icon": "wind",
         "dewPoint": 1.79,
         "temperatureMinTime": "2011-12-07 23:00:00",
         "cloudCover": 0.29,
         "windSpeed": 7.06,
         "apparentTemperatureHigh": 4.98,
         "precipType": "rain",
         "visibility": 13.12,
         "humidity": 0.68,
         "apparentTemperatureLow": 0.63,
         "apparentTemperatureMax": 5.14,
         "uvIndex": 1,
         "time": "2011-12-07T00:00:00.000000",
         "sunsetTime": "2011-12-07 15:53:51",
         "temperatureLow": 4.27,
         "temperatureMin": 4.91,
         "temperatureHigh": 9.02,
         "sunriseTime": "2011-12-07 07:52:35",
         "uvIndexTime": "2011-12-07 10:00:00",
         "temperatureLowTime": "2011-12-08 02:00:00",
         "apparentTemperatureMin": 0.94,
         "_deepnote_index_column": 11
        },
        {
         "LCLid": "MAC000237",
         "day": "2011-12-07T00:00:00.000000",
         "energy_mean": 0.67416666875,
         "energy_max": 3.8710001,
         "energy_min": 0.292,
         "temperatureMax": 9.02,
         "temperatureMaxTime": "2011-12-07 12:00:00",
         "icon": "wind",
         "dewPoint": 1.79,
         "temperatureMinTime": "2011-12-07 23:00:00",
         "cloudCover": 0.29,
         "windSpeed": 7.06,
         "apparentTemperatureHigh": 4.98,
         "precipType": "rain",
         "visibility": 13.12,
         "humidity": 0.68,
         "apparentTemperatureLow": 0.63,
         "apparentTemperatureMax": 5.14,
         "uvIndex": 1,
         "time": "2011-12-07T00:00:00.000000",
         "sunsetTime": "2011-12-07 15:53:51",
         "temperatureLow": 4.27,
         "temperatureMin": 4.91,
         "temperatureHigh": 9.02,
         "sunriseTime": "2011-12-07 07:52:35",
         "uvIndexTime": "2011-12-07 10:00:00",
         "temperatureLowTime": "2011-12-08 02:00:00",
         "apparentTemperatureMin": 0.94,
         "_deepnote_index_column": 12
        },
        {
         "LCLid": "MAC000158",
         "day": "2011-12-07T00:00:00.000000",
         "energy_mean": 0.0726458333333333,
         "energy_max": 0.607,
         "energy_min": 0.02,
         "temperatureMax": 9.02,
         "temperatureMaxTime": "2011-12-07 12:00:00",
         "icon": "wind",
         "dewPoint": 1.79,
         "temperatureMinTime": "2011-12-07 23:00:00",
         "cloudCover": 0.29,
         "windSpeed": 7.06,
         "apparentTemperatureHigh": 4.98,
         "precipType": "rain",
         "visibility": 13.12,
         "humidity": 0.68,
         "apparentTemperatureLow": 0.63,
         "apparentTemperatureMax": 5.14,
         "uvIndex": 1,
         "time": "2011-12-07T00:00:00.000000",
         "sunsetTime": "2011-12-07 15:53:51",
         "temperatureLow": 4.27,
         "temperatureMin": 4.91,
         "temperatureHigh": 9.02,
         "sunriseTime": "2011-12-07 07:52:35",
         "uvIndexTime": "2011-12-07 10:00:00",
         "temperatureLowTime": "2011-12-08 02:00:00",
         "apparentTemperatureMin": 0.94,
         "_deepnote_index_column": 13
        },
        {
         "LCLid": "MAC000202",
         "day": "2011-12-07T00:00:00.000000",
         "energy_mean": 0.4638125020833334,
         "energy_max": 2.197,
         "energy_min": 0.072,
         "temperatureMax": 9.02,
         "temperatureMaxTime": "2011-12-07 12:00:00",
         "icon": "wind",
         "dewPoint": 1.79,
         "temperatureMinTime": "2011-12-07 23:00:00",
         "cloudCover": 0.29,
         "windSpeed": 7.06,
         "apparentTemperatureHigh": 4.98,
         "precipType": "rain",
         "visibility": 13.12,
         "humidity": 0.68,
         "apparentTemperatureLow": 0.63,
         "apparentTemperatureMax": 5.14,
         "uvIndex": 1,
         "time": "2011-12-07T00:00:00.000000",
         "sunsetTime": "2011-12-07 15:53:51",
         "temperatureLow": 4.27,
         "temperatureMin": 4.91,
         "temperatureHigh": 9.02,
         "sunriseTime": "2011-12-07 07:52:35",
         "uvIndexTime": "2011-12-07 10:00:00",
         "temperatureLowTime": "2011-12-08 02:00:00",
         "apparentTemperatureMin": 0.94,
         "_deepnote_index_column": 14
        },
        {
         "LCLid": "MAC000255",
         "day": "2011-12-07T00:00:00.000000",
         "energy_mean": 0.4221874999999999,
         "energy_max": 1.774,
         "energy_min": 0.1369999999999999,
         "temperatureMax": 9.02,
         "temperatureMaxTime": "2011-12-07 12:00:00",
         "icon": "wind",
         "dewPoint": 1.79,
         "temperatureMinTime": "2011-12-07 23:00:00",
         "cloudCover": 0.29,
         "windSpeed": 7.06,
         "apparentTemperatureHigh": 4.98,
         "precipType": "rain",
         "visibility": 13.12,
         "humidity": 0.68,
         "apparentTemperatureLow": 0.63,
         "apparentTemperatureMax": 5.14,
         "uvIndex": 1,
         "time": "2011-12-07T00:00:00.000000",
         "sunsetTime": "2011-12-07 15:53:51",
         "temperatureLow": 4.27,
         "temperatureMin": 4.91,
         "temperatureHigh": 9.02,
         "sunriseTime": "2011-12-07 07:52:35",
         "uvIndexTime": "2011-12-07 10:00:00",
         "temperatureLowTime": "2011-12-08 02:00:00",
         "apparentTemperatureMin": 0.94,
         "_deepnote_index_column": 15
        },
        {
         "LCLid": "MAC000258",
         "day": "2011-12-07T00:00:00.000000",
         "energy_mean": 0.2114374999999999,
         "energy_max": 1.551,
         "energy_min": 0.027,
         "temperatureMax": 9.02,
         "temperatureMaxTime": "2011-12-07 12:00:00",
         "icon": "wind",
         "dewPoint": 1.79,
         "temperatureMinTime": "2011-12-07 23:00:00",
         "cloudCover": 0.29,
         "windSpeed": 7.06,
         "apparentTemperatureHigh": 4.98,
         "precipType": "rain",
         "visibility": 13.12,
         "humidity": 0.68,
         "apparentTemperatureLow": 0.63,
         "apparentTemperatureMax": 5.14,
         "uvIndex": 1,
         "time": "2011-12-07T00:00:00.000000",
         "sunsetTime": "2011-12-07 15:53:51",
         "temperatureLow": 4.27,
         "temperatureMin": 4.91,
         "temperatureHigh": 9.02,
         "sunriseTime": "2011-12-07 07:52:35",
         "uvIndexTime": "2011-12-07 10:00:00",
         "temperatureLowTime": "2011-12-08 02:00:00",
         "apparentTemperatureMin": 0.94,
         "_deepnote_index_column": 16
        }
       ],
       "rows_bottom": [
        {
         "LCLid": "MAC000172",
         "day": "2011-12-06T00:00:00.000000",
         "energy_mean": 0.1279791666666667,
         "energy_max": 0.439,
         "energy_min": 0.0139999999999999,
         "temperatureMax": 6.91,
         "temperatureMaxTime": "2011-12-06 14:00:00",
         "icon": "partly-cloudy-day",
         "dewPoint": 2.15,
         "temperatureMinTime": "2011-12-06 01:00:00",
         "cloudCover": 0.34,
         "windSpeed": 4.79,
         "apparentTemperatureHigh": 3.77,
         "precipType": "rain",
         "visibility": 13.15,
         "humidity": 0.83,
         "apparentTemperatureLow": 1.9,
         "apparentTemperatureMax": 3.77,
         "uvIndex": 1,
         "time": "2011-12-06T00:00:00.000000",
         "sunsetTime": "2011-12-06 15:54:14",
         "temperatureLow": 5.16,
         "temperatureMin": 2.68,
         "temperatureHigh": 6.91,
         "sunriseTime": "2011-12-06 07:51:22",
         "uvIndexTime": "2011-12-06 11:00:00",
         "temperatureLowTime": "2011-12-06 22:00:00",
         "apparentTemperatureMin": -1.61,
         "_deepnote_index_column": 3083686
        },
        {
         "LCLid": "MAC000175",
         "day": "2011-12-06T00:00:00.000000",
         "energy_mean": 0.1594375,
         "energy_max": 0.285,
         "energy_min": 0.07,
         "temperatureMax": 6.91,
         "temperatureMaxTime": "2011-12-06 14:00:00",
         "icon": "partly-cloudy-day",
         "dewPoint": 2.15,
         "temperatureMinTime": "2011-12-06 01:00:00",
         "cloudCover": 0.34,
         "windSpeed": 4.79,
         "apparentTemperatureHigh": 3.77,
         "precipType": "rain",
         "visibility": 13.15,
         "humidity": 0.83,
         "apparentTemperatureLow": 1.9,
         "apparentTemperatureMax": 3.77,
         "uvIndex": 1,
         "time": "2011-12-06T00:00:00.000000",
         "sunsetTime": "2011-12-06 15:54:14",
         "temperatureLow": 5.16,
         "temperatureMin": 2.68,
         "temperatureHigh": 6.91,
         "sunriseTime": "2011-12-06 07:51:22",
         "uvIndexTime": "2011-12-06 11:00:00",
         "temperatureLowTime": "2011-12-06 22:00:00",
         "apparentTemperatureMin": -1.61,
         "_deepnote_index_column": 3083687
        },
        {
         "LCLid": "MAC000176",
         "day": "2011-12-06T00:00:00.000000",
         "energy_mean": 0.2453125,
         "energy_max": 0.417,
         "energy_min": 0.17,
         "temperatureMax": 6.91,
         "temperatureMaxTime": "2011-12-06 14:00:00",
         "icon": "partly-cloudy-day",
         "dewPoint": 2.15,
         "temperatureMinTime": "2011-12-06 01:00:00",
         "cloudCover": 0.34,
         "windSpeed": 4.79,
         "apparentTemperatureHigh": 3.77,
         "precipType": "rain",
         "visibility": 13.15,
         "humidity": 0.83,
         "apparentTemperatureLow": 1.9,
         "apparentTemperatureMax": 3.77,
         "uvIndex": 1,
         "time": "2011-12-06T00:00:00.000000",
         "sunsetTime": "2011-12-06 15:54:14",
         "temperatureLow": 5.16,
         "temperatureMin": 2.68,
         "temperatureHigh": 6.91,
         "sunriseTime": "2011-12-06 07:51:22",
         "uvIndexTime": "2011-12-06 11:00:00",
         "temperatureLowTime": "2011-12-06 22:00:00",
         "apparentTemperatureMin": -1.61,
         "_deepnote_index_column": 3083688
        },
        {
         "LCLid": "MAC000179",
         "day": "2011-12-06T00:00:00.000000",
         "energy_mean": 0.1986666666666666,
         "energy_max": 0.635,
         "energy_min": 0.115,
         "temperatureMax": 6.91,
         "temperatureMaxTime": "2011-12-06 14:00:00",
         "icon": "partly-cloudy-day",
         "dewPoint": 2.15,
         "temperatureMinTime": "2011-12-06 01:00:00",
         "cloudCover": 0.34,
         "windSpeed": 4.79,
         "apparentTemperatureHigh": 3.77,
         "precipType": "rain",
         "visibility": 13.15,
         "humidity": 0.83,
         "apparentTemperatureLow": 1.9,
         "apparentTemperatureMax": 3.77,
         "uvIndex": 1,
         "time": "2011-12-06T00:00:00.000000",
         "sunsetTime": "2011-12-06 15:54:14",
         "temperatureLow": 5.16,
         "temperatureMin": 2.68,
         "temperatureHigh": 6.91,
         "sunriseTime": "2011-12-06 07:51:22",
         "uvIndexTime": "2011-12-06 11:00:00",
         "temperatureLowTime": "2011-12-06 22:00:00",
         "apparentTemperatureMin": -1.61,
         "_deepnote_index_column": 3083689
        },
        {
         "LCLid": "MAC000181",
         "day": "2011-12-06T00:00:00.000000",
         "energy_mean": 0.1655208333333333,
         "energy_max": 0.345,
         "energy_min": 0.079,
         "temperatureMax": 6.91,
         "temperatureMaxTime": "2011-12-06 14:00:00",
         "icon": "partly-cloudy-day",
         "dewPoint": 2.15,
         "temperatureMinTime": "2011-12-06 01:00:00",
         "cloudCover": 0.34,
         "windSpeed": 4.79,
         "apparentTemperatureHigh": 3.77,
         "precipType": "rain",
         "visibility": 13.15,
         "humidity": 0.83,
         "apparentTemperatureLow": 1.9,
         "apparentTemperatureMax": 3.77,
         "uvIndex": 1,
         "time": "2011-12-06T00:00:00.000000",
         "sunsetTime": "2011-12-06 15:54:14",
         "temperatureLow": 5.16,
         "temperatureMin": 2.68,
         "temperatureHigh": 6.91,
         "sunriseTime": "2011-12-06 07:51:22",
         "uvIndexTime": "2011-12-06 11:00:00",
         "temperatureLowTime": "2011-12-06 22:00:00",
         "apparentTemperatureMin": -1.61,
         "_deepnote_index_column": 3083690
        },
        {
         "LCLid": "MAC000182",
         "day": "2011-12-06T00:00:00.000000",
         "energy_mean": 0.0741041666666666,
         "energy_max": 0.306,
         "energy_min": 0.05,
         "temperatureMax": 6.91,
         "temperatureMaxTime": "2011-12-06 14:00:00",
         "icon": "partly-cloudy-day",
         "dewPoint": 2.15,
         "temperatureMinTime": "2011-12-06 01:00:00",
         "cloudCover": 0.34,
         "windSpeed": 4.79,
         "apparentTemperatureHigh": 3.77,
         "precipType": "rain",
         "visibility": 13.15,
         "humidity": 0.83,
         "apparentTemperatureLow": 1.9,
         "apparentTemperatureMax": 3.77,
         "uvIndex": 1,
         "time": "2011-12-06T00:00:00.000000",
         "sunsetTime": "2011-12-06 15:54:14",
         "temperatureLow": 5.16,
         "temperatureMin": 2.68,
         "temperatureHigh": 6.91,
         "sunriseTime": "2011-12-06 07:51:22",
         "uvIndexTime": "2011-12-06 11:00:00",
         "temperatureLowTime": "2011-12-06 22:00:00",
         "apparentTemperatureMin": -1.61,
         "_deepnote_index_column": 3083691
        },
        {
         "LCLid": "MAC000230",
         "day": "2011-12-06T00:00:00.000000",
         "energy_mean": 0.1994583312499999,
         "energy_max": 1.0369999,
         "energy_min": 0.035,
         "temperatureMax": 6.91,
         "temperatureMaxTime": "2011-12-06 14:00:00",
         "icon": "partly-cloudy-day",
         "dewPoint": 2.15,
         "temperatureMinTime": "2011-12-06 01:00:00",
         "cloudCover": 0.34,
         "windSpeed": 4.79,
         "apparentTemperatureHigh": 3.77,
         "precipType": "rain",
         "visibility": 13.15,
         "humidity": 0.83,
         "apparentTemperatureLow": 1.9,
         "apparentTemperatureMax": 3.77,
         "uvIndex": 1,
         "time": "2011-12-06T00:00:00.000000",
         "sunsetTime": "2011-12-06 15:54:14",
         "temperatureLow": 5.16,
         "temperatureMin": 2.68,
         "temperatureHigh": 6.91,
         "sunriseTime": "2011-12-06 07:51:22",
         "uvIndexTime": "2011-12-06 11:00:00",
         "temperatureLowTime": "2011-12-06 22:00:00",
         "apparentTemperatureMin": -1.61,
         "_deepnote_index_column": 3083692
        },
        {
         "LCLid": "MAC000236",
         "day": "2011-12-06T00:00:00.000000",
         "energy_mean": 0.104875,
         "energy_max": 0.422,
         "energy_min": 0.026,
         "temperatureMax": 6.91,
         "temperatureMaxTime": "2011-12-06 14:00:00",
         "icon": "partly-cloudy-day",
         "dewPoint": 2.15,
         "temperatureMinTime": "2011-12-06 01:00:00",
         "cloudCover": 0.34,
         "windSpeed": 4.79,
         "apparentTemperatureHigh": 3.77,
         "precipType": "rain",
         "visibility": 13.15,
         "humidity": 0.83,
         "apparentTemperatureLow": 1.9,
         "apparentTemperatureMax": 3.77,
         "uvIndex": 1,
         "time": "2011-12-06T00:00:00.000000",
         "sunsetTime": "2011-12-06 15:54:14",
         "temperatureLow": 5.16,
         "temperatureMin": 2.68,
         "temperatureHigh": 6.91,
         "sunriseTime": "2011-12-06 07:51:22",
         "uvIndexTime": "2011-12-06 11:00:00",
         "temperatureLowTime": "2011-12-06 22:00:00",
         "apparentTemperatureMin": -1.61,
         "_deepnote_index_column": 3083693
        },
        {
         "LCLid": "MAC000242",
         "day": "2011-12-06T00:00:00.000000",
         "energy_mean": 0.0858541666666666,
         "energy_max": 0.919,
         "energy_min": 0,
         "temperatureMax": 6.91,
         "temperatureMaxTime": "2011-12-06 14:00:00",
         "icon": "partly-cloudy-day",
         "dewPoint": 2.15,
         "temperatureMinTime": "2011-12-06 01:00:00",
         "cloudCover": 0.34,
         "windSpeed": 4.79,
         "apparentTemperatureHigh": 3.77,
         "precipType": "rain",
         "visibility": 13.15,
         "humidity": 0.83,
         "apparentTemperatureLow": 1.9,
         "apparentTemperatureMax": 3.77,
         "uvIndex": 1,
         "time": "2011-12-06T00:00:00.000000",
         "sunsetTime": "2011-12-06 15:54:14",
         "temperatureLow": 5.16,
         "temperatureMin": 2.68,
         "temperatureHigh": 6.91,
         "sunriseTime": "2011-12-06 07:51:22",
         "uvIndexTime": "2011-12-06 11:00:00",
         "temperatureLowTime": "2011-12-06 22:00:00",
         "apparentTemperatureMin": -1.61,
         "_deepnote_index_column": 3083694
        },
        {
         "LCLid": "MAC000253",
         "day": "2011-12-06T00:00:00.000000",
         "energy_mean": 0.2280416666666666,
         "energy_max": 0.606,
         "energy_min": 0.0279999999999999,
         "temperatureMax": 6.91,
         "temperatureMaxTime": "2011-12-06 14:00:00",
         "icon": "partly-cloudy-day",
         "dewPoint": 2.15,
         "temperatureMinTime": "2011-12-06 01:00:00",
         "cloudCover": 0.34,
         "windSpeed": 4.79,
         "apparentTemperatureHigh": 3.77,
         "precipType": "rain",
         "visibility": 13.15,
         "humidity": 0.83,
         "apparentTemperatureLow": 1.9,
         "apparentTemperatureMax": 3.77,
         "uvIndex": 1,
         "time": "2011-12-06T00:00:00.000000",
         "sunsetTime": "2011-12-06 15:54:14",
         "temperatureLow": 5.16,
         "temperatureMin": 2.68,
         "temperatureHigh": 6.91,
         "sunriseTime": "2011-12-06 07:51:22",
         "uvIndexTime": "2011-12-06 11:00:00",
         "temperatureLowTime": "2011-12-06 22:00:00",
         "apparentTemperatureMin": -1.61,
         "_deepnote_index_column": 3083695
        },
        {
         "LCLid": "MAC000273",
         "day": "2011-12-06T00:00:00.000000",
         "energy_mean": 0.4252068965517241,
         "energy_max": 1.431,
         "energy_min": 0.006,
         "temperatureMax": 6.91,
         "temperatureMaxTime": "2011-12-06 14:00:00",
         "icon": "partly-cloudy-day",
         "dewPoint": 2.15,
         "temperatureMinTime": "2011-12-06 01:00:00",
         "cloudCover": 0.34,
         "windSpeed": 4.79,
         "apparentTemperatureHigh": 3.77,
         "precipType": "rain",
         "visibility": 13.15,
         "humidity": 0.83,
         "apparentTemperatureLow": 1.9,
         "apparentTemperatureMax": 3.77,
         "uvIndex": 1,
         "time": "2011-12-06T00:00:00.000000",
         "sunsetTime": "2011-12-06 15:54:14",
         "temperatureLow": 5.16,
         "temperatureMin": 2.68,
         "temperatureHigh": 6.91,
         "sunriseTime": "2011-12-06 07:51:22",
         "uvIndexTime": "2011-12-06 11:00:00",
         "temperatureLowTime": "2011-12-06 22:00:00",
         "apparentTemperatureMin": -1.61,
         "_deepnote_index_column": 3083696
        },
        {
         "LCLid": "MAC000199",
         "day": "2011-12-06T00:00:00.000000",
         "energy_mean": 0.1595625,
         "energy_max": 0.644,
         "energy_min": 0.038,
         "temperatureMax": 6.91,
         "temperatureMaxTime": "2011-12-06 14:00:00",
         "icon": "partly-cloudy-day",
         "dewPoint": 2.15,
         "temperatureMinTime": "2011-12-06 01:00:00",
         "cloudCover": 0.34,
         "windSpeed": 4.79,
         "apparentTemperatureHigh": 3.77,
         "precipType": "rain",
         "visibility": 13.15,
         "humidity": 0.83,
         "apparentTemperatureLow": 1.9,
         "apparentTemperatureMax": 3.77,
         "uvIndex": 1,
         "time": "2011-12-06T00:00:00.000000",
         "sunsetTime": "2011-12-06 15:54:14",
         "temperatureLow": 5.16,
         "temperatureMin": 2.68,
         "temperatureHigh": 6.91,
         "sunriseTime": "2011-12-06 07:51:22",
         "uvIndexTime": "2011-12-06 11:00:00",
         "temperatureLowTime": "2011-12-06 22:00:00",
         "apparentTemperatureMin": -1.61,
         "_deepnote_index_column": 3083697
        },
        {
         "LCLid": "MAC000170",
         "day": "2011-12-06T00:00:00.000000",
         "energy_mean": 0.2926875,
         "energy_max": 1.003,
         "energy_min": 0.115,
         "temperatureMax": 6.91,
         "temperatureMaxTime": "2011-12-06 14:00:00",
         "icon": "partly-cloudy-day",
         "dewPoint": 2.15,
         "temperatureMinTime": "2011-12-06 01:00:00",
         "cloudCover": 0.34,
         "windSpeed": 4.79,
         "apparentTemperatureHigh": 3.77,
         "precipType": "rain",
         "visibility": 13.15,
         "humidity": 0.83,
         "apparentTemperatureLow": 1.9,
         "apparentTemperatureMax": 3.77,
         "uvIndex": 1,
         "time": "2011-12-06T00:00:00.000000",
         "sunsetTime": "2011-12-06 15:54:14",
         "temperatureLow": 5.16,
         "temperatureMin": 2.68,
         "temperatureHigh": 6.91,
         "sunriseTime": "2011-12-06 07:51:22",
         "uvIndexTime": "2011-12-06 11:00:00",
         "temperatureLowTime": "2011-12-06 22:00:00",
         "apparentTemperatureMin": -1.61,
         "_deepnote_index_column": 3083698
        },
        {
         "LCLid": "MAC000017",
         "day": "2011-12-06T00:00:00.000000",
         "energy_mean": 0.1938235294117647,
         "energy_max": 0.359,
         "energy_min": 0.062,
         "temperatureMax": 6.91,
         "temperatureMaxTime": "2011-12-06 14:00:00",
         "icon": "partly-cloudy-day",
         "dewPoint": 2.15,
         "temperatureMinTime": "2011-12-06 01:00:00",
         "cloudCover": 0.34,
         "windSpeed": 4.79,
         "apparentTemperatureHigh": 3.77,
         "precipType": "rain",
         "visibility": 13.15,
         "humidity": 0.83,
         "apparentTemperatureLow": 1.9,
         "apparentTemperatureMax": 3.77,
         "uvIndex": 1,
         "time": "2011-12-06T00:00:00.000000",
         "sunsetTime": "2011-12-06 15:54:14",
         "temperatureLow": 5.16,
         "temperatureMin": 2.68,
         "temperatureHigh": 6.91,
         "sunriseTime": "2011-12-06 07:51:22",
         "uvIndexTime": "2011-12-06 11:00:00",
         "temperatureLowTime": "2011-12-06 22:00:00",
         "apparentTemperatureMin": -1.61,
         "_deepnote_index_column": 3083699
        },
        {
         "LCLid": "MAC000245",
         "day": "2011-12-06T00:00:00.000000",
         "energy_mean": 0.4097916666666665,
         "energy_max": 2.155,
         "energy_min": 0.105,
         "temperatureMax": 6.91,
         "temperatureMaxTime": "2011-12-06 14:00:00",
         "icon": "partly-cloudy-day",
         "dewPoint": 2.15,
         "temperatureMinTime": "2011-12-06 01:00:00",
         "cloudCover": 0.34,
         "windSpeed": 4.79,
         "apparentTemperatureHigh": 3.77,
         "precipType": "rain",
         "visibility": 13.15,
         "humidity": 0.83,
         "apparentTemperatureLow": 1.9,
         "apparentTemperatureMax": 3.77,
         "uvIndex": 1,
         "time": "2011-12-06T00:00:00.000000",
         "sunsetTime": "2011-12-06 15:54:14",
         "temperatureLow": 5.16,
         "temperatureMin": 2.68,
         "temperatureHigh": 6.91,
         "sunriseTime": "2011-12-06 07:51:22",
         "uvIndexTime": "2011-12-06 11:00:00",
         "temperatureLowTime": "2011-12-06 22:00:00",
         "apparentTemperatureMin": -1.61,
         "_deepnote_index_column": 3083700
        },
        {
         "LCLid": "MAC000165",
         "day": "2011-12-06T00:00:00.000000",
         "energy_mean": 0.2100833333333333,
         "energy_max": 0.813,
         "energy_min": 0.0579999999999999,
         "temperatureMax": 6.91,
         "temperatureMaxTime": "2011-12-06 14:00:00",
         "icon": "partly-cloudy-day",
         "dewPoint": 2.15,
         "temperatureMinTime": "2011-12-06 01:00:00",
         "cloudCover": 0.34,
         "windSpeed": 4.79,
         "apparentTemperatureHigh": 3.77,
         "precipType": "rain",
         "visibility": 13.15,
         "humidity": 0.83,
         "apparentTemperatureLow": 1.9,
         "apparentTemperatureMax": 3.77,
         "uvIndex": 1,
         "time": "2011-12-06T00:00:00.000000",
         "sunsetTime": "2011-12-06 15:54:14",
         "temperatureLow": 5.16,
         "temperatureMin": 2.68,
         "temperatureHigh": 6.91,
         "sunriseTime": "2011-12-06 07:51:22",
         "uvIndexTime": "2011-12-06 11:00:00",
         "temperatureLowTime": "2011-12-06 22:00:00",
         "apparentTemperatureMin": -1.61,
         "_deepnote_index_column": 3083701
        },
        {
         "LCLid": "MAC000173",
         "day": "2011-12-06T00:00:00.000000",
         "energy_mean": 0.1635416666666666,
         "energy_max": 0.6890000000000001,
         "energy_min": 0.036,
         "temperatureMax": 6.91,
         "temperatureMaxTime": "2011-12-06 14:00:00",
         "icon": "partly-cloudy-day",
         "dewPoint": 2.15,
         "temperatureMinTime": "2011-12-06 01:00:00",
         "cloudCover": 0.34,
         "windSpeed": 4.79,
         "apparentTemperatureHigh": 3.77,
         "precipType": "rain",
         "visibility": 13.15,
         "humidity": 0.83,
         "apparentTemperatureLow": 1.9,
         "apparentTemperatureMax": 3.77,
         "uvIndex": 1,
         "time": "2011-12-06T00:00:00.000000",
         "sunsetTime": "2011-12-06 15:54:14",
         "temperatureLow": 5.16,
         "temperatureMin": 2.68,
         "temperatureHigh": 6.91,
         "sunriseTime": "2011-12-06 07:51:22",
         "uvIndexTime": "2011-12-06 11:00:00",
         "temperatureLowTime": "2011-12-06 22:00:00",
         "apparentTemperatureMin": -1.61,
         "_deepnote_index_column": 3083702
        },
        {
         "LCLid": "MAC000256",
         "day": "2011-12-06T00:00:00.000000",
         "energy_mean": 0.5136666666666667,
         "energy_max": 0.939,
         "energy_min": 0.3989999999999999,
         "temperatureMax": 6.91,
         "temperatureMaxTime": "2011-12-06 14:00:00",
         "icon": "partly-cloudy-day",
         "dewPoint": 2.15,
         "temperatureMinTime": "2011-12-06 01:00:00",
         "cloudCover": 0.34,
         "windSpeed": 4.79,
         "apparentTemperatureHigh": 3.77,
         "precipType": "rain",
         "visibility": 13.15,
         "humidity": 0.83,
         "apparentTemperatureLow": 1.9,
         "apparentTemperatureMax": 3.77,
         "uvIndex": 1,
         "time": "2011-12-06T00:00:00.000000",
         "sunsetTime": "2011-12-06 15:54:14",
         "temperatureLow": 5.16,
         "temperatureMin": 2.68,
         "temperatureHigh": 6.91,
         "sunriseTime": "2011-12-06 07:51:22",
         "uvIndexTime": "2011-12-06 11:00:00",
         "temperatureLowTime": "2011-12-06 22:00:00",
         "apparentTemperatureMin": -1.61,
         "_deepnote_index_column": 3083703
        }
       ]
      },
      "text/plain": "             LCLid        day  energy_mean  energy_max  energy_min  \\\n0        MAC000020 2011-12-07     0.212172       0.620       0.057   \n1        MAC000155 2011-12-07     0.254375       0.939       0.082   \n2        MAC000259 2011-12-07     0.265896       0.887       0.036   \n3        MAC000239 2011-12-07     0.157917       0.545       0.019   \n4        MAC000251 2011-12-07     0.233438       1.139       0.055   \n...            ...        ...          ...         ...         ...   \n3083699  MAC000017 2011-12-06     0.193824       0.359       0.062   \n3083700  MAC000245 2011-12-06     0.409792       2.155       0.105   \n3083701  MAC000165 2011-12-06     0.210083       0.813       0.058   \n3083702  MAC000173 2011-12-06     0.163542       0.689       0.036   \n3083703  MAC000256 2011-12-06     0.513667       0.939       0.399   \n\n         temperatureMax   temperatureMaxTime               icon  dewPoint  \\\n0                  9.02  2011-12-07 12:00:00               wind      1.79   \n1                  9.02  2011-12-07 12:00:00               wind      1.79   \n2                  9.02  2011-12-07 12:00:00               wind      1.79   \n3                  9.02  2011-12-07 12:00:00               wind      1.79   \n4                  9.02  2011-12-07 12:00:00               wind      1.79   \n...                 ...                  ...                ...       ...   \n3083699            6.91  2011-12-06 14:00:00  partly-cloudy-day      2.15   \n3083700            6.91  2011-12-06 14:00:00  partly-cloudy-day      2.15   \n3083701            6.91  2011-12-06 14:00:00  partly-cloudy-day      2.15   \n3083702            6.91  2011-12-06 14:00:00  partly-cloudy-day      2.15   \n3083703            6.91  2011-12-06 14:00:00  partly-cloudy-day      2.15   \n\n          temperatureMinTime  ...  uvIndex       time           sunsetTime  \\\n0        2011-12-07 23:00:00  ...      1.0 2011-12-07  2011-12-07 15:53:51   \n1        2011-12-07 23:00:00  ...      1.0 2011-12-07  2011-12-07 15:53:51   \n2        2011-12-07 23:00:00  ...      1.0 2011-12-07  2011-12-07 15:53:51   \n3        2011-12-07 23:00:00  ...      1.0 2011-12-07  2011-12-07 15:53:51   \n4        2011-12-07 23:00:00  ...      1.0 2011-12-07  2011-12-07 15:53:51   \n...                      ...  ...      ...        ...                  ...   \n3083699  2011-12-06 01:00:00  ...      1.0 2011-12-06  2011-12-06 15:54:14   \n3083700  2011-12-06 01:00:00  ...      1.0 2011-12-06  2011-12-06 15:54:14   \n3083701  2011-12-06 01:00:00  ...      1.0 2011-12-06  2011-12-06 15:54:14   \n3083702  2011-12-06 01:00:00  ...      1.0 2011-12-06  2011-12-06 15:54:14   \n3083703  2011-12-06 01:00:00  ...      1.0 2011-12-06  2011-12-06 15:54:14   \n\n        temperatureLow  temperatureMin  temperatureHigh          sunriseTime  \\\n0                 4.27            4.91             9.02  2011-12-07 07:52:35   \n1                 4.27            4.91             9.02  2011-12-07 07:52:35   \n2                 4.27            4.91             9.02  2011-12-07 07:52:35   \n3                 4.27            4.91             9.02  2011-12-07 07:52:35   \n4                 4.27            4.91             9.02  2011-12-07 07:52:35   \n...                ...             ...              ...                  ...   \n3083699           5.16            2.68             6.91  2011-12-06 07:51:22   \n3083700           5.16            2.68             6.91  2011-12-06 07:51:22   \n3083701           5.16            2.68             6.91  2011-12-06 07:51:22   \n3083702           5.16            2.68             6.91  2011-12-06 07:51:22   \n3083703           5.16            2.68             6.91  2011-12-06 07:51:22   \n\n                 uvIndexTime   temperatureLowTime apparentTemperatureMin  \n0        2011-12-07 10:00:00  2011-12-08 02:00:00                   0.94  \n1        2011-12-07 10:00:00  2011-12-08 02:00:00                   0.94  \n2        2011-12-07 10:00:00  2011-12-08 02:00:00                   0.94  \n3        2011-12-07 10:00:00  2011-12-08 02:00:00                   0.94  \n4        2011-12-07 10:00:00  2011-12-08 02:00:00                   0.94  \n...                      ...                  ...                    ...  \n3083699  2011-12-06 11:00:00  2011-12-06 22:00:00                  -1.61  \n3083700  2011-12-06 11:00:00  2011-12-06 22:00:00                  -1.61  \n3083701  2011-12-06 11:00:00  2011-12-06 22:00:00                  -1.61  \n3083702  2011-12-06 11:00:00  2011-12-06 22:00:00                  -1.61  \n3083703  2011-12-06 11:00:00  2011-12-06 22:00:00                  -1.61  \n\n[3083704 rows x 28 columns]",
      "text/html": "<div>\n<style scoped>\n    .dataframe tbody tr th:only-of-type {\n        vertical-align: middle;\n    }\n\n    .dataframe tbody tr th {\n        vertical-align: top;\n    }\n\n    .dataframe thead th {\n        text-align: right;\n    }\n</style>\n<table border=\"1\" class=\"dataframe\">\n  <thead>\n    <tr style=\"text-align: right;\">\n      <th></th>\n      <th>LCLid</th>\n      <th>day</th>\n      <th>energy_mean</th>\n      <th>energy_max</th>\n      <th>energy_min</th>\n      <th>temperatureMax</th>\n      <th>temperatureMaxTime</th>\n      <th>icon</th>\n      <th>dewPoint</th>\n      <th>temperatureMinTime</th>\n      <th>...</th>\n      <th>uvIndex</th>\n      <th>time</th>\n      <th>sunsetTime</th>\n      <th>temperatureLow</th>\n      <th>temperatureMin</th>\n      <th>temperatureHigh</th>\n      <th>sunriseTime</th>\n      <th>uvIndexTime</th>\n      <th>temperatureLowTime</th>\n      <th>apparentTemperatureMin</th>\n    </tr>\n  </thead>\n  <tbody>\n    <tr>\n      <th>0</th>\n      <td>MAC000020</td>\n      <td>2011-12-07</td>\n      <td>0.212172</td>\n      <td>0.620</td>\n      <td>0.057</td>\n      <td>9.02</td>\n      <td>2011-12-07 12:00:00</td>\n      <td>wind</td>\n      <td>1.79</td>\n      <td>2011-12-07 23:00:00</td>\n      <td>...</td>\n      <td>1.0</td>\n      <td>2011-12-07</td>\n      <td>2011-12-07 15:53:51</td>\n      <td>4.27</td>\n      <td>4.91</td>\n      <td>9.02</td>\n      <td>2011-12-07 07:52:35</td>\n      <td>2011-12-07 10:00:00</td>\n      <td>2011-12-08 02:00:00</td>\n      <td>0.94</td>\n    </tr>\n    <tr>\n      <th>1</th>\n      <td>MAC000155</td>\n      <td>2011-12-07</td>\n      <td>0.254375</td>\n      <td>0.939</td>\n      <td>0.082</td>\n      <td>9.02</td>\n      <td>2011-12-07 12:00:00</td>\n      <td>wind</td>\n      <td>1.79</td>\n      <td>2011-12-07 23:00:00</td>\n      <td>...</td>\n      <td>1.0</td>\n      <td>2011-12-07</td>\n      <td>2011-12-07 15:53:51</td>\n      <td>4.27</td>\n      <td>4.91</td>\n      <td>9.02</td>\n      <td>2011-12-07 07:52:35</td>\n      <td>2011-12-07 10:00:00</td>\n      <td>2011-12-08 02:00:00</td>\n      <td>0.94</td>\n    </tr>\n    <tr>\n      <th>2</th>\n      <td>MAC000259</td>\n      <td>2011-12-07</td>\n      <td>0.265896</td>\n      <td>0.887</td>\n      <td>0.036</td>\n      <td>9.02</td>\n      <td>2011-12-07 12:00:00</td>\n      <td>wind</td>\n      <td>1.79</td>\n      <td>2011-12-07 23:00:00</td>\n      <td>...</td>\n      <td>1.0</td>\n      <td>2011-12-07</td>\n      <td>2011-12-07 15:53:51</td>\n      <td>4.27</td>\n      <td>4.91</td>\n      <td>9.02</td>\n      <td>2011-12-07 07:52:35</td>\n      <td>2011-12-07 10:00:00</td>\n      <td>2011-12-08 02:00:00</td>\n      <td>0.94</td>\n    </tr>\n    <tr>\n      <th>3</th>\n      <td>MAC000239</td>\n      <td>2011-12-07</td>\n      <td>0.157917</td>\n      <td>0.545</td>\n      <td>0.019</td>\n      <td>9.02</td>\n      <td>2011-12-07 12:00:00</td>\n      <td>wind</td>\n      <td>1.79</td>\n      <td>2011-12-07 23:00:00</td>\n      <td>...</td>\n      <td>1.0</td>\n      <td>2011-12-07</td>\n      <td>2011-12-07 15:53:51</td>\n      <td>4.27</td>\n      <td>4.91</td>\n      <td>9.02</td>\n      <td>2011-12-07 07:52:35</td>\n      <td>2011-12-07 10:00:00</td>\n      <td>2011-12-08 02:00:00</td>\n      <td>0.94</td>\n    </tr>\n    <tr>\n      <th>4</th>\n      <td>MAC000251</td>\n      <td>2011-12-07</td>\n      <td>0.233438</td>\n      <td>1.139</td>\n      <td>0.055</td>\n      <td>9.02</td>\n      <td>2011-12-07 12:00:00</td>\n      <td>wind</td>\n      <td>1.79</td>\n      <td>2011-12-07 23:00:00</td>\n      <td>...</td>\n      <td>1.0</td>\n      <td>2011-12-07</td>\n      <td>2011-12-07 15:53:51</td>\n      <td>4.27</td>\n      <td>4.91</td>\n      <td>9.02</td>\n      <td>2011-12-07 07:52:35</td>\n      <td>2011-12-07 10:00:00</td>\n      <td>2011-12-08 02:00:00</td>\n      <td>0.94</td>\n    </tr>\n    <tr>\n      <th>...</th>\n      <td>...</td>\n      <td>...</td>\n      <td>...</td>\n      <td>...</td>\n      <td>...</td>\n      <td>...</td>\n      <td>...</td>\n      <td>...</td>\n      <td>...</td>\n      <td>...</td>\n      <td>...</td>\n      <td>...</td>\n      <td>...</td>\n      <td>...</td>\n      <td>...</td>\n      <td>...</td>\n      <td>...</td>\n      <td>...</td>\n      <td>...</td>\n      <td>...</td>\n      <td>...</td>\n    </tr>\n    <tr>\n      <th>3083699</th>\n      <td>MAC000017</td>\n      <td>2011-12-06</td>\n      <td>0.193824</td>\n      <td>0.359</td>\n      <td>0.062</td>\n      <td>6.91</td>\n      <td>2011-12-06 14:00:00</td>\n      <td>partly-cloudy-day</td>\n      <td>2.15</td>\n      <td>2011-12-06 01:00:00</td>\n      <td>...</td>\n      <td>1.0</td>\n      <td>2011-12-06</td>\n      <td>2011-12-06 15:54:14</td>\n      <td>5.16</td>\n      <td>2.68</td>\n      <td>6.91</td>\n      <td>2011-12-06 07:51:22</td>\n      <td>2011-12-06 11:00:00</td>\n      <td>2011-12-06 22:00:00</td>\n      <td>-1.61</td>\n    </tr>\n    <tr>\n      <th>3083700</th>\n      <td>MAC000245</td>\n      <td>2011-12-06</td>\n      <td>0.409792</td>\n      <td>2.155</td>\n      <td>0.105</td>\n      <td>6.91</td>\n      <td>2011-12-06 14:00:00</td>\n      <td>partly-cloudy-day</td>\n      <td>2.15</td>\n      <td>2011-12-06 01:00:00</td>\n      <td>...</td>\n      <td>1.0</td>\n      <td>2011-12-06</td>\n      <td>2011-12-06 15:54:14</td>\n      <td>5.16</td>\n      <td>2.68</td>\n      <td>6.91</td>\n      <td>2011-12-06 07:51:22</td>\n      <td>2011-12-06 11:00:00</td>\n      <td>2011-12-06 22:00:00</td>\n      <td>-1.61</td>\n    </tr>\n    <tr>\n      <th>3083701</th>\n      <td>MAC000165</td>\n      <td>2011-12-06</td>\n      <td>0.210083</td>\n      <td>0.813</td>\n      <td>0.058</td>\n      <td>6.91</td>\n      <td>2011-12-06 14:00:00</td>\n      <td>partly-cloudy-day</td>\n      <td>2.15</td>\n      <td>2011-12-06 01:00:00</td>\n      <td>...</td>\n      <td>1.0</td>\n      <td>2011-12-06</td>\n      <td>2011-12-06 15:54:14</td>\n      <td>5.16</td>\n      <td>2.68</td>\n      <td>6.91</td>\n      <td>2011-12-06 07:51:22</td>\n      <td>2011-12-06 11:00:00</td>\n      <td>2011-12-06 22:00:00</td>\n      <td>-1.61</td>\n    </tr>\n    <tr>\n      <th>3083702</th>\n      <td>MAC000173</td>\n      <td>2011-12-06</td>\n      <td>0.163542</td>\n      <td>0.689</td>\n      <td>0.036</td>\n      <td>6.91</td>\n      <td>2011-12-06 14:00:00</td>\n      <td>partly-cloudy-day</td>\n      <td>2.15</td>\n      <td>2011-12-06 01:00:00</td>\n      <td>...</td>\n      <td>1.0</td>\n      <td>2011-12-06</td>\n      <td>2011-12-06 15:54:14</td>\n      <td>5.16</td>\n      <td>2.68</td>\n      <td>6.91</td>\n      <td>2011-12-06 07:51:22</td>\n      <td>2011-12-06 11:00:00</td>\n      <td>2011-12-06 22:00:00</td>\n      <td>-1.61</td>\n    </tr>\n    <tr>\n      <th>3083703</th>\n      <td>MAC000256</td>\n      <td>2011-12-06</td>\n      <td>0.513667</td>\n      <td>0.939</td>\n      <td>0.399</td>\n      <td>6.91</td>\n      <td>2011-12-06 14:00:00</td>\n      <td>partly-cloudy-day</td>\n      <td>2.15</td>\n      <td>2011-12-06 01:00:00</td>\n      <td>...</td>\n      <td>1.0</td>\n      <td>2011-12-06</td>\n      <td>2011-12-06 15:54:14</td>\n      <td>5.16</td>\n      <td>2.68</td>\n      <td>6.91</td>\n      <td>2011-12-06 07:51:22</td>\n      <td>2011-12-06 11:00:00</td>\n      <td>2011-12-06 22:00:00</td>\n      <td>-1.61</td>\n    </tr>\n  </tbody>\n</table>\n<p>3083704 rows × 28 columns</p>\n</div>"
     },
     "metadata": {}
    }
   ],
   "execution_count": null
  },
  {
   "cell_type": "markdown",
   "source": "# MODELO",
   "metadata": {
    "tags": [],
    "is_collapsed": true,
    "cell_id": "00049-1dfe0519-590f-4924-a93f-b20425ed2cda",
    "deepnote_cell_type": "text-cell-h1"
   }
  },
  {
   "cell_type": "markdown",
   "source": "Una vez que tenemos el dataset con el que vamos a apicar el modelo, procedimos a realizar las últimas consultas de variables y a descargarnos el csv para aplicar el modelo en un notebook nuevo",
   "metadata": {
    "tags": [],
    "cell_id": "00059-a114e1b1-05e6-4311-822a-3465f363f266",
    "deepnote_cell_type": "markdown"
   }
  },
  {
   "cell_type": "code",
   "metadata": {
    "tags": [],
    "cell_id": "00050-2fbd04c0-8fe7-4170-bb56-10c199cecca4",
    "deepnote_to_be_reexecuted": false,
    "source_hash": "a6d5db99",
    "execution_start": 1635605011637,
    "execution_millis": 3945,
    "deepnote_cell_type": "code"
   },
   "source": "DFOBJETIVO",
   "outputs": [
    {
     "output_type": "execute_result",
     "execution_count": 29,
     "data": {
      "application/vnd.deepnote.dataframe.v2+json": {
       "row_count": 3083704,
       "column_count": 28,
       "columns": [
        {
         "name": "LCLid",
         "dtype": "object"
        },
        {
         "name": "day",
         "dtype": "datetime64[ns]"
        },
        {
         "name": "energy_mean",
         "dtype": "float64"
        },
        {
         "name": "energy_max",
         "dtype": "float64"
        },
        {
         "name": "energy_min",
         "dtype": "float64"
        },
        {
         "name": "temperatureMax",
         "dtype": "float64"
        },
        {
         "name": "temperatureMaxTime",
         "dtype": "object"
        },
        {
         "name": "icon",
         "dtype": "object"
        },
        {
         "name": "dewPoint",
         "dtype": "float64"
        },
        {
         "name": "temperatureMinTime",
         "dtype": "object"
        },
        {
         "name": "cloudCover",
         "dtype": "float64"
        },
        {
         "name": "windSpeed",
         "dtype": "float64"
        },
        {
         "name": "apparentTemperatureHigh",
         "dtype": "float64"
        },
        {
         "name": "precipType",
         "dtype": "object"
        },
        {
         "name": "visibility",
         "dtype": "float64"
        },
        {
         "name": "humidity",
         "dtype": "float64"
        },
        {
         "name": "apparentTemperatureLow",
         "dtype": "float64"
        },
        {
         "name": "apparentTemperatureMax",
         "dtype": "float64"
        },
        {
         "name": "uvIndex",
         "dtype": "float64"
        },
        {
         "name": "time",
         "dtype": "datetime64[ns]"
        },
        {
         "name": "sunsetTime",
         "dtype": "object"
        },
        {
         "name": "temperatureLow",
         "dtype": "float64"
        },
        {
         "name": "temperatureMin",
         "dtype": "float64"
        },
        {
         "name": "temperatureHigh",
         "dtype": "float64"
        },
        {
         "name": "sunriseTime",
         "dtype": "object"
        },
        {
         "name": "uvIndexTime",
         "dtype": "object"
        },
        {
         "name": "temperatureLowTime",
         "dtype": "object"
        },
        {
         "name": "apparentTemperatureMin",
         "dtype": "float64"
        },
        {
         "name": "_deepnote_index_column",
         "dtype": "int64"
        }
       ],
       "rows_top": [
        {
         "LCLid": "MAC000020",
         "day": "2011-12-07T00:00:00.000000",
         "energy_mean": 0.2121724137931035,
         "energy_max": 0.62,
         "energy_min": 0.057,
         "temperatureMax": 9.02,
         "temperatureMaxTime": "2011-12-07 12:00:00",
         "icon": "wind",
         "dewPoint": 1.79,
         "temperatureMinTime": "2011-12-07 23:00:00",
         "cloudCover": 0.29,
         "windSpeed": 7.06,
         "apparentTemperatureHigh": 4.98,
         "precipType": "rain",
         "visibility": 13.12,
         "humidity": 0.68,
         "apparentTemperatureLow": 0.63,
         "apparentTemperatureMax": 5.14,
         "uvIndex": 1,
         "time": "2011-12-07T00:00:00.000000",
         "sunsetTime": "2011-12-07 15:53:51",
         "temperatureLow": 4.27,
         "temperatureMin": 4.91,
         "temperatureHigh": 9.02,
         "sunriseTime": "2011-12-07 07:52:35",
         "uvIndexTime": "2011-12-07 10:00:00",
         "temperatureLowTime": "2011-12-08 02:00:00",
         "apparentTemperatureMin": 0.94,
         "_deepnote_index_column": 0
        },
        {
         "LCLid": "MAC000155",
         "day": "2011-12-07T00:00:00.000000",
         "energy_mean": 0.2543749999999999,
         "energy_max": 0.939,
         "energy_min": 0.0819999999999999,
         "temperatureMax": 9.02,
         "temperatureMaxTime": "2011-12-07 12:00:00",
         "icon": "wind",
         "dewPoint": 1.79,
         "temperatureMinTime": "2011-12-07 23:00:00",
         "cloudCover": 0.29,
         "windSpeed": 7.06,
         "apparentTemperatureHigh": 4.98,
         "precipType": "rain",
         "visibility": 13.12,
         "humidity": 0.68,
         "apparentTemperatureLow": 0.63,
         "apparentTemperatureMax": 5.14,
         "uvIndex": 1,
         "time": "2011-12-07T00:00:00.000000",
         "sunsetTime": "2011-12-07 15:53:51",
         "temperatureLow": 4.27,
         "temperatureMin": 4.91,
         "temperatureHigh": 9.02,
         "sunriseTime": "2011-12-07 07:52:35",
         "uvIndexTime": "2011-12-07 10:00:00",
         "temperatureLowTime": "2011-12-08 02:00:00",
         "apparentTemperatureMin": 0.94,
         "_deepnote_index_column": 1
        },
        {
         "LCLid": "MAC000259",
         "day": "2011-12-07T00:00:00.000000",
         "energy_mean": 0.2658958333333333,
         "energy_max": 0.887,
         "energy_min": 0.036,
         "temperatureMax": 9.02,
         "temperatureMaxTime": "2011-12-07 12:00:00",
         "icon": "wind",
         "dewPoint": 1.79,
         "temperatureMinTime": "2011-12-07 23:00:00",
         "cloudCover": 0.29,
         "windSpeed": 7.06,
         "apparentTemperatureHigh": 4.98,
         "precipType": "rain",
         "visibility": 13.12,
         "humidity": 0.68,
         "apparentTemperatureLow": 0.63,
         "apparentTemperatureMax": 5.14,
         "uvIndex": 1,
         "time": "2011-12-07T00:00:00.000000",
         "sunsetTime": "2011-12-07 15:53:51",
         "temperatureLow": 4.27,
         "temperatureMin": 4.91,
         "temperatureHigh": 9.02,
         "sunriseTime": "2011-12-07 07:52:35",
         "uvIndexTime": "2011-12-07 10:00:00",
         "temperatureLowTime": "2011-12-08 02:00:00",
         "apparentTemperatureMin": 0.94,
         "_deepnote_index_column": 2
        },
        {
         "LCLid": "MAC000239",
         "day": "2011-12-07T00:00:00.000000",
         "energy_mean": 0.1579166666666666,
         "energy_max": 0.545,
         "energy_min": 0.019,
         "temperatureMax": 9.02,
         "temperatureMaxTime": "2011-12-07 12:00:00",
         "icon": "wind",
         "dewPoint": 1.79,
         "temperatureMinTime": "2011-12-07 23:00:00",
         "cloudCover": 0.29,
         "windSpeed": 7.06,
         "apparentTemperatureHigh": 4.98,
         "precipType": "rain",
         "visibility": 13.12,
         "humidity": 0.68,
         "apparentTemperatureLow": 0.63,
         "apparentTemperatureMax": 5.14,
         "uvIndex": 1,
         "time": "2011-12-07T00:00:00.000000",
         "sunsetTime": "2011-12-07 15:53:51",
         "temperatureLow": 4.27,
         "temperatureMin": 4.91,
         "temperatureHigh": 9.02,
         "sunriseTime": "2011-12-07 07:52:35",
         "uvIndexTime": "2011-12-07 10:00:00",
         "temperatureLowTime": "2011-12-08 02:00:00",
         "apparentTemperatureMin": 0.94,
         "_deepnote_index_column": 3
        },
        {
         "LCLid": "MAC000251",
         "day": "2011-12-07T00:00:00.000000",
         "energy_mean": 0.2334375020833334,
         "energy_max": 1.1390001,
         "energy_min": 0.055,
         "temperatureMax": 9.02,
         "temperatureMaxTime": "2011-12-07 12:00:00",
         "icon": "wind",
         "dewPoint": 1.79,
         "temperatureMinTime": "2011-12-07 23:00:00",
         "cloudCover": 0.29,
         "windSpeed": 7.06,
         "apparentTemperatureHigh": 4.98,
         "precipType": "rain",
         "visibility": 13.12,
         "humidity": 0.68,
         "apparentTemperatureLow": 0.63,
         "apparentTemperatureMax": 5.14,
         "uvIndex": 1,
         "time": "2011-12-07T00:00:00.000000",
         "sunsetTime": "2011-12-07 15:53:51",
         "temperatureLow": 4.27,
         "temperatureMin": 4.91,
         "temperatureHigh": 9.02,
         "sunriseTime": "2011-12-07 07:52:35",
         "uvIndexTime": "2011-12-07 10:00:00",
         "temperatureLowTime": "2011-12-08 02:00:00",
         "apparentTemperatureMin": 0.94,
         "_deepnote_index_column": 4
        },
        {
         "LCLid": "MAC000254",
         "day": "2011-12-07T00:00:00.000000",
         "energy_mean": 0.2088125020833333,
         "energy_max": 1.2690001,
         "energy_min": 0.022,
         "temperatureMax": 9.02,
         "temperatureMaxTime": "2011-12-07 12:00:00",
         "icon": "wind",
         "dewPoint": 1.79,
         "temperatureMinTime": "2011-12-07 23:00:00",
         "cloudCover": 0.29,
         "windSpeed": 7.06,
         "apparentTemperatureHigh": 4.98,
         "precipType": "rain",
         "visibility": 13.12,
         "humidity": 0.68,
         "apparentTemperatureLow": 0.63,
         "apparentTemperatureMax": 5.14,
         "uvIndex": 1,
         "time": "2011-12-07T00:00:00.000000",
         "sunsetTime": "2011-12-07 15:53:51",
         "temperatureLow": 4.27,
         "temperatureMin": 4.91,
         "temperatureHigh": 9.02,
         "sunriseTime": "2011-12-07 07:52:35",
         "uvIndexTime": "2011-12-07 10:00:00",
         "temperatureLowTime": "2011-12-08 02:00:00",
         "apparentTemperatureMin": 0.94,
         "_deepnote_index_column": 5
        },
        {
         "LCLid": "MAC000152",
         "day": "2011-12-07T00:00:00.000000",
         "energy_mean": 0.1774791666666667,
         "energy_max": 0.628,
         "energy_min": 0.031,
         "temperatureMax": 9.02,
         "temperatureMaxTime": "2011-12-07 12:00:00",
         "icon": "wind",
         "dewPoint": 1.79,
         "temperatureMinTime": "2011-12-07 23:00:00",
         "cloudCover": 0.29,
         "windSpeed": 7.06,
         "apparentTemperatureHigh": 4.98,
         "precipType": "rain",
         "visibility": 13.12,
         "humidity": 0.68,
         "apparentTemperatureLow": 0.63,
         "apparentTemperatureMax": 5.14,
         "uvIndex": 1,
         "time": "2011-12-07T00:00:00.000000",
         "sunsetTime": "2011-12-07 15:53:51",
         "temperatureLow": 4.27,
         "temperatureMin": 4.91,
         "temperatureHigh": 9.02,
         "sunriseTime": "2011-12-07 07:52:35",
         "uvIndexTime": "2011-12-07 10:00:00",
         "temperatureLowTime": "2011-12-08 02:00:00",
         "apparentTemperatureMin": 0.94,
         "_deepnote_index_column": 6
        },
        {
         "LCLid": "MAC000153",
         "day": "2011-12-07T00:00:00.000000",
         "energy_mean": 0.72118750625,
         "energy_max": 2.3280001,
         "energy_min": 0.185,
         "temperatureMax": 9.02,
         "temperatureMaxTime": "2011-12-07 12:00:00",
         "icon": "wind",
         "dewPoint": 1.79,
         "temperatureMinTime": "2011-12-07 23:00:00",
         "cloudCover": 0.29,
         "windSpeed": 7.06,
         "apparentTemperatureHigh": 4.98,
         "precipType": "rain",
         "visibility": 13.12,
         "humidity": 0.68,
         "apparentTemperatureLow": 0.63,
         "apparentTemperatureMax": 5.14,
         "uvIndex": 1,
         "time": "2011-12-07T00:00:00.000000",
         "sunsetTime": "2011-12-07 15:53:51",
         "temperatureLow": 4.27,
         "temperatureMin": 4.91,
         "temperatureHigh": 9.02,
         "sunriseTime": "2011-12-07 07:52:35",
         "uvIndexTime": "2011-12-07 10:00:00",
         "temperatureLowTime": "2011-12-08 02:00:00",
         "apparentTemperatureMin": 0.94,
         "_deepnote_index_column": 7
        },
        {
         "LCLid": "MAC000159",
         "day": "2011-12-07T00:00:00.000000",
         "energy_mean": 0.364125,
         "energy_max": 1.113,
         "energy_min": 0.103,
         "temperatureMax": 9.02,
         "temperatureMaxTime": "2011-12-07 12:00:00",
         "icon": "wind",
         "dewPoint": 1.79,
         "temperatureMinTime": "2011-12-07 23:00:00",
         "cloudCover": 0.29,
         "windSpeed": 7.06,
         "apparentTemperatureHigh": 4.98,
         "precipType": "rain",
         "visibility": 13.12,
         "humidity": 0.68,
         "apparentTemperatureLow": 0.63,
         "apparentTemperatureMax": 5.14,
         "uvIndex": 1,
         "time": "2011-12-07T00:00:00.000000",
         "sunsetTime": "2011-12-07 15:53:51",
         "temperatureLow": 4.27,
         "temperatureMin": 4.91,
         "temperatureHigh": 9.02,
         "sunriseTime": "2011-12-07 07:52:35",
         "uvIndexTime": "2011-12-07 10:00:00",
         "temperatureLowTime": "2011-12-08 02:00:00",
         "apparentTemperatureMin": 0.94,
         "_deepnote_index_column": 8
        },
        {
         "LCLid": "MAC000161",
         "day": "2011-12-07T00:00:00.000000",
         "energy_mean": 0.2400416666666666,
         "energy_max": 0.428,
         "energy_min": 0.127,
         "temperatureMax": 9.02,
         "temperatureMaxTime": "2011-12-07 12:00:00",
         "icon": "wind",
         "dewPoint": 1.79,
         "temperatureMinTime": "2011-12-07 23:00:00",
         "cloudCover": 0.29,
         "windSpeed": 7.06,
         "apparentTemperatureHigh": 4.98,
         "precipType": "rain",
         "visibility": 13.12,
         "humidity": 0.68,
         "apparentTemperatureLow": 0.63,
         "apparentTemperatureMax": 5.14,
         "uvIndex": 1,
         "time": "2011-12-07T00:00:00.000000",
         "sunsetTime": "2011-12-07 15:53:51",
         "temperatureLow": 4.27,
         "temperatureMin": 4.91,
         "temperatureHigh": 9.02,
         "sunriseTime": "2011-12-07 07:52:35",
         "uvIndexTime": "2011-12-07 10:00:00",
         "temperatureLowTime": "2011-12-08 02:00:00",
         "apparentTemperatureMin": 0.94,
         "_deepnote_index_column": 9
        },
        {
         "LCLid": "MAC000189",
         "day": "2011-12-07T00:00:00.000000",
         "energy_mean": 0.5472916708333334,
         "energy_max": 1.5420001,
         "energy_min": 0.262,
         "temperatureMax": 9.02,
         "temperatureMaxTime": "2011-12-07 12:00:00",
         "icon": "wind",
         "dewPoint": 1.79,
         "temperatureMinTime": "2011-12-07 23:00:00",
         "cloudCover": 0.29,
         "windSpeed": 7.06,
         "apparentTemperatureHigh": 4.98,
         "precipType": "rain",
         "visibility": 13.12,
         "humidity": 0.68,
         "apparentTemperatureLow": 0.63,
         "apparentTemperatureMax": 5.14,
         "uvIndex": 1,
         "time": "2011-12-07T00:00:00.000000",
         "sunsetTime": "2011-12-07 15:53:51",
         "temperatureLow": 4.27,
         "temperatureMin": 4.91,
         "temperatureHigh": 9.02,
         "sunriseTime": "2011-12-07 07:52:35",
         "uvIndexTime": "2011-12-07 10:00:00",
         "temperatureLowTime": "2011-12-08 02:00:00",
         "apparentTemperatureMin": 0.94,
         "_deepnote_index_column": 10
        },
        {
         "LCLid": "MAC000191",
         "day": "2011-12-07T00:00:00.000000",
         "energy_mean": 0.5270624979166668,
         "energy_max": 1.51,
         "energy_min": 0.065,
         "temperatureMax": 9.02,
         "temperatureMaxTime": "2011-12-07 12:00:00",
         "icon": "wind",
         "dewPoint": 1.79,
         "temperatureMinTime": "2011-12-07 23:00:00",
         "cloudCover": 0.29,
         "windSpeed": 7.06,
         "apparentTemperatureHigh": 4.98,
         "precipType": "rain",
         "visibility": 13.12,
         "humidity": 0.68,
         "apparentTemperatureLow": 0.63,
         "apparentTemperatureMax": 5.14,
         "uvIndex": 1,
         "time": "2011-12-07T00:00:00.000000",
         "sunsetTime": "2011-12-07 15:53:51",
         "temperatureLow": 4.27,
         "temperatureMin": 4.91,
         "temperatureHigh": 9.02,
         "sunriseTime": "2011-12-07 07:52:35",
         "uvIndexTime": "2011-12-07 10:00:00",
         "temperatureLowTime": "2011-12-08 02:00:00",
         "apparentTemperatureMin": 0.94,
         "_deepnote_index_column": 11
        },
        {
         "LCLid": "MAC000237",
         "day": "2011-12-07T00:00:00.000000",
         "energy_mean": 0.67416666875,
         "energy_max": 3.8710001,
         "energy_min": 0.292,
         "temperatureMax": 9.02,
         "temperatureMaxTime": "2011-12-07 12:00:00",
         "icon": "wind",
         "dewPoint": 1.79,
         "temperatureMinTime": "2011-12-07 23:00:00",
         "cloudCover": 0.29,
         "windSpeed": 7.06,
         "apparentTemperatureHigh": 4.98,
         "precipType": "rain",
         "visibility": 13.12,
         "humidity": 0.68,
         "apparentTemperatureLow": 0.63,
         "apparentTemperatureMax": 5.14,
         "uvIndex": 1,
         "time": "2011-12-07T00:00:00.000000",
         "sunsetTime": "2011-12-07 15:53:51",
         "temperatureLow": 4.27,
         "temperatureMin": 4.91,
         "temperatureHigh": 9.02,
         "sunriseTime": "2011-12-07 07:52:35",
         "uvIndexTime": "2011-12-07 10:00:00",
         "temperatureLowTime": "2011-12-08 02:00:00",
         "apparentTemperatureMin": 0.94,
         "_deepnote_index_column": 12
        },
        {
         "LCLid": "MAC000158",
         "day": "2011-12-07T00:00:00.000000",
         "energy_mean": 0.0726458333333333,
         "energy_max": 0.607,
         "energy_min": 0.02,
         "temperatureMax": 9.02,
         "temperatureMaxTime": "2011-12-07 12:00:00",
         "icon": "wind",
         "dewPoint": 1.79,
         "temperatureMinTime": "2011-12-07 23:00:00",
         "cloudCover": 0.29,
         "windSpeed": 7.06,
         "apparentTemperatureHigh": 4.98,
         "precipType": "rain",
         "visibility": 13.12,
         "humidity": 0.68,
         "apparentTemperatureLow": 0.63,
         "apparentTemperatureMax": 5.14,
         "uvIndex": 1,
         "time": "2011-12-07T00:00:00.000000",
         "sunsetTime": "2011-12-07 15:53:51",
         "temperatureLow": 4.27,
         "temperatureMin": 4.91,
         "temperatureHigh": 9.02,
         "sunriseTime": "2011-12-07 07:52:35",
         "uvIndexTime": "2011-12-07 10:00:00",
         "temperatureLowTime": "2011-12-08 02:00:00",
         "apparentTemperatureMin": 0.94,
         "_deepnote_index_column": 13
        },
        {
         "LCLid": "MAC000202",
         "day": "2011-12-07T00:00:00.000000",
         "energy_mean": 0.4638125020833334,
         "energy_max": 2.197,
         "energy_min": 0.072,
         "temperatureMax": 9.02,
         "temperatureMaxTime": "2011-12-07 12:00:00",
         "icon": "wind",
         "dewPoint": 1.79,
         "temperatureMinTime": "2011-12-07 23:00:00",
         "cloudCover": 0.29,
         "windSpeed": 7.06,
         "apparentTemperatureHigh": 4.98,
         "precipType": "rain",
         "visibility": 13.12,
         "humidity": 0.68,
         "apparentTemperatureLow": 0.63,
         "apparentTemperatureMax": 5.14,
         "uvIndex": 1,
         "time": "2011-12-07T00:00:00.000000",
         "sunsetTime": "2011-12-07 15:53:51",
         "temperatureLow": 4.27,
         "temperatureMin": 4.91,
         "temperatureHigh": 9.02,
         "sunriseTime": "2011-12-07 07:52:35",
         "uvIndexTime": "2011-12-07 10:00:00",
         "temperatureLowTime": "2011-12-08 02:00:00",
         "apparentTemperatureMin": 0.94,
         "_deepnote_index_column": 14
        },
        {
         "LCLid": "MAC000255",
         "day": "2011-12-07T00:00:00.000000",
         "energy_mean": 0.4221874999999999,
         "energy_max": 1.774,
         "energy_min": 0.1369999999999999,
         "temperatureMax": 9.02,
         "temperatureMaxTime": "2011-12-07 12:00:00",
         "icon": "wind",
         "dewPoint": 1.79,
         "temperatureMinTime": "2011-12-07 23:00:00",
         "cloudCover": 0.29,
         "windSpeed": 7.06,
         "apparentTemperatureHigh": 4.98,
         "precipType": "rain",
         "visibility": 13.12,
         "humidity": 0.68,
         "apparentTemperatureLow": 0.63,
         "apparentTemperatureMax": 5.14,
         "uvIndex": 1,
         "time": "2011-12-07T00:00:00.000000",
         "sunsetTime": "2011-12-07 15:53:51",
         "temperatureLow": 4.27,
         "temperatureMin": 4.91,
         "temperatureHigh": 9.02,
         "sunriseTime": "2011-12-07 07:52:35",
         "uvIndexTime": "2011-12-07 10:00:00",
         "temperatureLowTime": "2011-12-08 02:00:00",
         "apparentTemperatureMin": 0.94,
         "_deepnote_index_column": 15
        },
        {
         "LCLid": "MAC000258",
         "day": "2011-12-07T00:00:00.000000",
         "energy_mean": 0.2114374999999999,
         "energy_max": 1.551,
         "energy_min": 0.027,
         "temperatureMax": 9.02,
         "temperatureMaxTime": "2011-12-07 12:00:00",
         "icon": "wind",
         "dewPoint": 1.79,
         "temperatureMinTime": "2011-12-07 23:00:00",
         "cloudCover": 0.29,
         "windSpeed": 7.06,
         "apparentTemperatureHigh": 4.98,
         "precipType": "rain",
         "visibility": 13.12,
         "humidity": 0.68,
         "apparentTemperatureLow": 0.63,
         "apparentTemperatureMax": 5.14,
         "uvIndex": 1,
         "time": "2011-12-07T00:00:00.000000",
         "sunsetTime": "2011-12-07 15:53:51",
         "temperatureLow": 4.27,
         "temperatureMin": 4.91,
         "temperatureHigh": 9.02,
         "sunriseTime": "2011-12-07 07:52:35",
         "uvIndexTime": "2011-12-07 10:00:00",
         "temperatureLowTime": "2011-12-08 02:00:00",
         "apparentTemperatureMin": 0.94,
         "_deepnote_index_column": 16
        }
       ],
       "rows_bottom": [
        {
         "LCLid": "MAC000172",
         "day": "2011-12-06T00:00:00.000000",
         "energy_mean": 0.1279791666666667,
         "energy_max": 0.439,
         "energy_min": 0.0139999999999999,
         "temperatureMax": 6.91,
         "temperatureMaxTime": "2011-12-06 14:00:00",
         "icon": "partly-cloudy-day",
         "dewPoint": 2.15,
         "temperatureMinTime": "2011-12-06 01:00:00",
         "cloudCover": 0.34,
         "windSpeed": 4.79,
         "apparentTemperatureHigh": 3.77,
         "precipType": "rain",
         "visibility": 13.15,
         "humidity": 0.83,
         "apparentTemperatureLow": 1.9,
         "apparentTemperatureMax": 3.77,
         "uvIndex": 1,
         "time": "2011-12-06T00:00:00.000000",
         "sunsetTime": "2011-12-06 15:54:14",
         "temperatureLow": 5.16,
         "temperatureMin": 2.68,
         "temperatureHigh": 6.91,
         "sunriseTime": "2011-12-06 07:51:22",
         "uvIndexTime": "2011-12-06 11:00:00",
         "temperatureLowTime": "2011-12-06 22:00:00",
         "apparentTemperatureMin": -1.61,
         "_deepnote_index_column": 3083686
        },
        {
         "LCLid": "MAC000175",
         "day": "2011-12-06T00:00:00.000000",
         "energy_mean": 0.1594375,
         "energy_max": 0.285,
         "energy_min": 0.07,
         "temperatureMax": 6.91,
         "temperatureMaxTime": "2011-12-06 14:00:00",
         "icon": "partly-cloudy-day",
         "dewPoint": 2.15,
         "temperatureMinTime": "2011-12-06 01:00:00",
         "cloudCover": 0.34,
         "windSpeed": 4.79,
         "apparentTemperatureHigh": 3.77,
         "precipType": "rain",
         "visibility": 13.15,
         "humidity": 0.83,
         "apparentTemperatureLow": 1.9,
         "apparentTemperatureMax": 3.77,
         "uvIndex": 1,
         "time": "2011-12-06T00:00:00.000000",
         "sunsetTime": "2011-12-06 15:54:14",
         "temperatureLow": 5.16,
         "temperatureMin": 2.68,
         "temperatureHigh": 6.91,
         "sunriseTime": "2011-12-06 07:51:22",
         "uvIndexTime": "2011-12-06 11:00:00",
         "temperatureLowTime": "2011-12-06 22:00:00",
         "apparentTemperatureMin": -1.61,
         "_deepnote_index_column": 3083687
        },
        {
         "LCLid": "MAC000176",
         "day": "2011-12-06T00:00:00.000000",
         "energy_mean": 0.2453125,
         "energy_max": 0.417,
         "energy_min": 0.17,
         "temperatureMax": 6.91,
         "temperatureMaxTime": "2011-12-06 14:00:00",
         "icon": "partly-cloudy-day",
         "dewPoint": 2.15,
         "temperatureMinTime": "2011-12-06 01:00:00",
         "cloudCover": 0.34,
         "windSpeed": 4.79,
         "apparentTemperatureHigh": 3.77,
         "precipType": "rain",
         "visibility": 13.15,
         "humidity": 0.83,
         "apparentTemperatureLow": 1.9,
         "apparentTemperatureMax": 3.77,
         "uvIndex": 1,
         "time": "2011-12-06T00:00:00.000000",
         "sunsetTime": "2011-12-06 15:54:14",
         "temperatureLow": 5.16,
         "temperatureMin": 2.68,
         "temperatureHigh": 6.91,
         "sunriseTime": "2011-12-06 07:51:22",
         "uvIndexTime": "2011-12-06 11:00:00",
         "temperatureLowTime": "2011-12-06 22:00:00",
         "apparentTemperatureMin": -1.61,
         "_deepnote_index_column": 3083688
        },
        {
         "LCLid": "MAC000179",
         "day": "2011-12-06T00:00:00.000000",
         "energy_mean": 0.1986666666666666,
         "energy_max": 0.635,
         "energy_min": 0.115,
         "temperatureMax": 6.91,
         "temperatureMaxTime": "2011-12-06 14:00:00",
         "icon": "partly-cloudy-day",
         "dewPoint": 2.15,
         "temperatureMinTime": "2011-12-06 01:00:00",
         "cloudCover": 0.34,
         "windSpeed": 4.79,
         "apparentTemperatureHigh": 3.77,
         "precipType": "rain",
         "visibility": 13.15,
         "humidity": 0.83,
         "apparentTemperatureLow": 1.9,
         "apparentTemperatureMax": 3.77,
         "uvIndex": 1,
         "time": "2011-12-06T00:00:00.000000",
         "sunsetTime": "2011-12-06 15:54:14",
         "temperatureLow": 5.16,
         "temperatureMin": 2.68,
         "temperatureHigh": 6.91,
         "sunriseTime": "2011-12-06 07:51:22",
         "uvIndexTime": "2011-12-06 11:00:00",
         "temperatureLowTime": "2011-12-06 22:00:00",
         "apparentTemperatureMin": -1.61,
         "_deepnote_index_column": 3083689
        },
        {
         "LCLid": "MAC000181",
         "day": "2011-12-06T00:00:00.000000",
         "energy_mean": 0.1655208333333333,
         "energy_max": 0.345,
         "energy_min": 0.079,
         "temperatureMax": 6.91,
         "temperatureMaxTime": "2011-12-06 14:00:00",
         "icon": "partly-cloudy-day",
         "dewPoint": 2.15,
         "temperatureMinTime": "2011-12-06 01:00:00",
         "cloudCover": 0.34,
         "windSpeed": 4.79,
         "apparentTemperatureHigh": 3.77,
         "precipType": "rain",
         "visibility": 13.15,
         "humidity": 0.83,
         "apparentTemperatureLow": 1.9,
         "apparentTemperatureMax": 3.77,
         "uvIndex": 1,
         "time": "2011-12-06T00:00:00.000000",
         "sunsetTime": "2011-12-06 15:54:14",
         "temperatureLow": 5.16,
         "temperatureMin": 2.68,
         "temperatureHigh": 6.91,
         "sunriseTime": "2011-12-06 07:51:22",
         "uvIndexTime": "2011-12-06 11:00:00",
         "temperatureLowTime": "2011-12-06 22:00:00",
         "apparentTemperatureMin": -1.61,
         "_deepnote_index_column": 3083690
        },
        {
         "LCLid": "MAC000182",
         "day": "2011-12-06T00:00:00.000000",
         "energy_mean": 0.0741041666666666,
         "energy_max": 0.306,
         "energy_min": 0.05,
         "temperatureMax": 6.91,
         "temperatureMaxTime": "2011-12-06 14:00:00",
         "icon": "partly-cloudy-day",
         "dewPoint": 2.15,
         "temperatureMinTime": "2011-12-06 01:00:00",
         "cloudCover": 0.34,
         "windSpeed": 4.79,
         "apparentTemperatureHigh": 3.77,
         "precipType": "rain",
         "visibility": 13.15,
         "humidity": 0.83,
         "apparentTemperatureLow": 1.9,
         "apparentTemperatureMax": 3.77,
         "uvIndex": 1,
         "time": "2011-12-06T00:00:00.000000",
         "sunsetTime": "2011-12-06 15:54:14",
         "temperatureLow": 5.16,
         "temperatureMin": 2.68,
         "temperatureHigh": 6.91,
         "sunriseTime": "2011-12-06 07:51:22",
         "uvIndexTime": "2011-12-06 11:00:00",
         "temperatureLowTime": "2011-12-06 22:00:00",
         "apparentTemperatureMin": -1.61,
         "_deepnote_index_column": 3083691
        },
        {
         "LCLid": "MAC000230",
         "day": "2011-12-06T00:00:00.000000",
         "energy_mean": 0.1994583312499999,
         "energy_max": 1.0369999,
         "energy_min": 0.035,
         "temperatureMax": 6.91,
         "temperatureMaxTime": "2011-12-06 14:00:00",
         "icon": "partly-cloudy-day",
         "dewPoint": 2.15,
         "temperatureMinTime": "2011-12-06 01:00:00",
         "cloudCover": 0.34,
         "windSpeed": 4.79,
         "apparentTemperatureHigh": 3.77,
         "precipType": "rain",
         "visibility": 13.15,
         "humidity": 0.83,
         "apparentTemperatureLow": 1.9,
         "apparentTemperatureMax": 3.77,
         "uvIndex": 1,
         "time": "2011-12-06T00:00:00.000000",
         "sunsetTime": "2011-12-06 15:54:14",
         "temperatureLow": 5.16,
         "temperatureMin": 2.68,
         "temperatureHigh": 6.91,
         "sunriseTime": "2011-12-06 07:51:22",
         "uvIndexTime": "2011-12-06 11:00:00",
         "temperatureLowTime": "2011-12-06 22:00:00",
         "apparentTemperatureMin": -1.61,
         "_deepnote_index_column": 3083692
        },
        {
         "LCLid": "MAC000236",
         "day": "2011-12-06T00:00:00.000000",
         "energy_mean": 0.104875,
         "energy_max": 0.422,
         "energy_min": 0.026,
         "temperatureMax": 6.91,
         "temperatureMaxTime": "2011-12-06 14:00:00",
         "icon": "partly-cloudy-day",
         "dewPoint": 2.15,
         "temperatureMinTime": "2011-12-06 01:00:00",
         "cloudCover": 0.34,
         "windSpeed": 4.79,
         "apparentTemperatureHigh": 3.77,
         "precipType": "rain",
         "visibility": 13.15,
         "humidity": 0.83,
         "apparentTemperatureLow": 1.9,
         "apparentTemperatureMax": 3.77,
         "uvIndex": 1,
         "time": "2011-12-06T00:00:00.000000",
         "sunsetTime": "2011-12-06 15:54:14",
         "temperatureLow": 5.16,
         "temperatureMin": 2.68,
         "temperatureHigh": 6.91,
         "sunriseTime": "2011-12-06 07:51:22",
         "uvIndexTime": "2011-12-06 11:00:00",
         "temperatureLowTime": "2011-12-06 22:00:00",
         "apparentTemperatureMin": -1.61,
         "_deepnote_index_column": 3083693
        },
        {
         "LCLid": "MAC000242",
         "day": "2011-12-06T00:00:00.000000",
         "energy_mean": 0.0858541666666666,
         "energy_max": 0.919,
         "energy_min": 0,
         "temperatureMax": 6.91,
         "temperatureMaxTime": "2011-12-06 14:00:00",
         "icon": "partly-cloudy-day",
         "dewPoint": 2.15,
         "temperatureMinTime": "2011-12-06 01:00:00",
         "cloudCover": 0.34,
         "windSpeed": 4.79,
         "apparentTemperatureHigh": 3.77,
         "precipType": "rain",
         "visibility": 13.15,
         "humidity": 0.83,
         "apparentTemperatureLow": 1.9,
         "apparentTemperatureMax": 3.77,
         "uvIndex": 1,
         "time": "2011-12-06T00:00:00.000000",
         "sunsetTime": "2011-12-06 15:54:14",
         "temperatureLow": 5.16,
         "temperatureMin": 2.68,
         "temperatureHigh": 6.91,
         "sunriseTime": "2011-12-06 07:51:22",
         "uvIndexTime": "2011-12-06 11:00:00",
         "temperatureLowTime": "2011-12-06 22:00:00",
         "apparentTemperatureMin": -1.61,
         "_deepnote_index_column": 3083694
        },
        {
         "LCLid": "MAC000253",
         "day": "2011-12-06T00:00:00.000000",
         "energy_mean": 0.2280416666666666,
         "energy_max": 0.606,
         "energy_min": 0.0279999999999999,
         "temperatureMax": 6.91,
         "temperatureMaxTime": "2011-12-06 14:00:00",
         "icon": "partly-cloudy-day",
         "dewPoint": 2.15,
         "temperatureMinTime": "2011-12-06 01:00:00",
         "cloudCover": 0.34,
         "windSpeed": 4.79,
         "apparentTemperatureHigh": 3.77,
         "precipType": "rain",
         "visibility": 13.15,
         "humidity": 0.83,
         "apparentTemperatureLow": 1.9,
         "apparentTemperatureMax": 3.77,
         "uvIndex": 1,
         "time": "2011-12-06T00:00:00.000000",
         "sunsetTime": "2011-12-06 15:54:14",
         "temperatureLow": 5.16,
         "temperatureMin": 2.68,
         "temperatureHigh": 6.91,
         "sunriseTime": "2011-12-06 07:51:22",
         "uvIndexTime": "2011-12-06 11:00:00",
         "temperatureLowTime": "2011-12-06 22:00:00",
         "apparentTemperatureMin": -1.61,
         "_deepnote_index_column": 3083695
        },
        {
         "LCLid": "MAC000273",
         "day": "2011-12-06T00:00:00.000000",
         "energy_mean": 0.4252068965517241,
         "energy_max": 1.431,
         "energy_min": 0.006,
         "temperatureMax": 6.91,
         "temperatureMaxTime": "2011-12-06 14:00:00",
         "icon": "partly-cloudy-day",
         "dewPoint": 2.15,
         "temperatureMinTime": "2011-12-06 01:00:00",
         "cloudCover": 0.34,
         "windSpeed": 4.79,
         "apparentTemperatureHigh": 3.77,
         "precipType": "rain",
         "visibility": 13.15,
         "humidity": 0.83,
         "apparentTemperatureLow": 1.9,
         "apparentTemperatureMax": 3.77,
         "uvIndex": 1,
         "time": "2011-12-06T00:00:00.000000",
         "sunsetTime": "2011-12-06 15:54:14",
         "temperatureLow": 5.16,
         "temperatureMin": 2.68,
         "temperatureHigh": 6.91,
         "sunriseTime": "2011-12-06 07:51:22",
         "uvIndexTime": "2011-12-06 11:00:00",
         "temperatureLowTime": "2011-12-06 22:00:00",
         "apparentTemperatureMin": -1.61,
         "_deepnote_index_column": 3083696
        },
        {
         "LCLid": "MAC000199",
         "day": "2011-12-06T00:00:00.000000",
         "energy_mean": 0.1595625,
         "energy_max": 0.644,
         "energy_min": 0.038,
         "temperatureMax": 6.91,
         "temperatureMaxTime": "2011-12-06 14:00:00",
         "icon": "partly-cloudy-day",
         "dewPoint": 2.15,
         "temperatureMinTime": "2011-12-06 01:00:00",
         "cloudCover": 0.34,
         "windSpeed": 4.79,
         "apparentTemperatureHigh": 3.77,
         "precipType": "rain",
         "visibility": 13.15,
         "humidity": 0.83,
         "apparentTemperatureLow": 1.9,
         "apparentTemperatureMax": 3.77,
         "uvIndex": 1,
         "time": "2011-12-06T00:00:00.000000",
         "sunsetTime": "2011-12-06 15:54:14",
         "temperatureLow": 5.16,
         "temperatureMin": 2.68,
         "temperatureHigh": 6.91,
         "sunriseTime": "2011-12-06 07:51:22",
         "uvIndexTime": "2011-12-06 11:00:00",
         "temperatureLowTime": "2011-12-06 22:00:00",
         "apparentTemperatureMin": -1.61,
         "_deepnote_index_column": 3083697
        },
        {
         "LCLid": "MAC000170",
         "day": "2011-12-06T00:00:00.000000",
         "energy_mean": 0.2926875,
         "energy_max": 1.003,
         "energy_min": 0.115,
         "temperatureMax": 6.91,
         "temperatureMaxTime": "2011-12-06 14:00:00",
         "icon": "partly-cloudy-day",
         "dewPoint": 2.15,
         "temperatureMinTime": "2011-12-06 01:00:00",
         "cloudCover": 0.34,
         "windSpeed": 4.79,
         "apparentTemperatureHigh": 3.77,
         "precipType": "rain",
         "visibility": 13.15,
         "humidity": 0.83,
         "apparentTemperatureLow": 1.9,
         "apparentTemperatureMax": 3.77,
         "uvIndex": 1,
         "time": "2011-12-06T00:00:00.000000",
         "sunsetTime": "2011-12-06 15:54:14",
         "temperatureLow": 5.16,
         "temperatureMin": 2.68,
         "temperatureHigh": 6.91,
         "sunriseTime": "2011-12-06 07:51:22",
         "uvIndexTime": "2011-12-06 11:00:00",
         "temperatureLowTime": "2011-12-06 22:00:00",
         "apparentTemperatureMin": -1.61,
         "_deepnote_index_column": 3083698
        },
        {
         "LCLid": "MAC000017",
         "day": "2011-12-06T00:00:00.000000",
         "energy_mean": 0.1938235294117647,
         "energy_max": 0.359,
         "energy_min": 0.062,
         "temperatureMax": 6.91,
         "temperatureMaxTime": "2011-12-06 14:00:00",
         "icon": "partly-cloudy-day",
         "dewPoint": 2.15,
         "temperatureMinTime": "2011-12-06 01:00:00",
         "cloudCover": 0.34,
         "windSpeed": 4.79,
         "apparentTemperatureHigh": 3.77,
         "precipType": "rain",
         "visibility": 13.15,
         "humidity": 0.83,
         "apparentTemperatureLow": 1.9,
         "apparentTemperatureMax": 3.77,
         "uvIndex": 1,
         "time": "2011-12-06T00:00:00.000000",
         "sunsetTime": "2011-12-06 15:54:14",
         "temperatureLow": 5.16,
         "temperatureMin": 2.68,
         "temperatureHigh": 6.91,
         "sunriseTime": "2011-12-06 07:51:22",
         "uvIndexTime": "2011-12-06 11:00:00",
         "temperatureLowTime": "2011-12-06 22:00:00",
         "apparentTemperatureMin": -1.61,
         "_deepnote_index_column": 3083699
        },
        {
         "LCLid": "MAC000245",
         "day": "2011-12-06T00:00:00.000000",
         "energy_mean": 0.4097916666666665,
         "energy_max": 2.155,
         "energy_min": 0.105,
         "temperatureMax": 6.91,
         "temperatureMaxTime": "2011-12-06 14:00:00",
         "icon": "partly-cloudy-day",
         "dewPoint": 2.15,
         "temperatureMinTime": "2011-12-06 01:00:00",
         "cloudCover": 0.34,
         "windSpeed": 4.79,
         "apparentTemperatureHigh": 3.77,
         "precipType": "rain",
         "visibility": 13.15,
         "humidity": 0.83,
         "apparentTemperatureLow": 1.9,
         "apparentTemperatureMax": 3.77,
         "uvIndex": 1,
         "time": "2011-12-06T00:00:00.000000",
         "sunsetTime": "2011-12-06 15:54:14",
         "temperatureLow": 5.16,
         "temperatureMin": 2.68,
         "temperatureHigh": 6.91,
         "sunriseTime": "2011-12-06 07:51:22",
         "uvIndexTime": "2011-12-06 11:00:00",
         "temperatureLowTime": "2011-12-06 22:00:00",
         "apparentTemperatureMin": -1.61,
         "_deepnote_index_column": 3083700
        },
        {
         "LCLid": "MAC000165",
         "day": "2011-12-06T00:00:00.000000",
         "energy_mean": 0.2100833333333333,
         "energy_max": 0.813,
         "energy_min": 0.0579999999999999,
         "temperatureMax": 6.91,
         "temperatureMaxTime": "2011-12-06 14:00:00",
         "icon": "partly-cloudy-day",
         "dewPoint": 2.15,
         "temperatureMinTime": "2011-12-06 01:00:00",
         "cloudCover": 0.34,
         "windSpeed": 4.79,
         "apparentTemperatureHigh": 3.77,
         "precipType": "rain",
         "visibility": 13.15,
         "humidity": 0.83,
         "apparentTemperatureLow": 1.9,
         "apparentTemperatureMax": 3.77,
         "uvIndex": 1,
         "time": "2011-12-06T00:00:00.000000",
         "sunsetTime": "2011-12-06 15:54:14",
         "temperatureLow": 5.16,
         "temperatureMin": 2.68,
         "temperatureHigh": 6.91,
         "sunriseTime": "2011-12-06 07:51:22",
         "uvIndexTime": "2011-12-06 11:00:00",
         "temperatureLowTime": "2011-12-06 22:00:00",
         "apparentTemperatureMin": -1.61,
         "_deepnote_index_column": 3083701
        },
        {
         "LCLid": "MAC000173",
         "day": "2011-12-06T00:00:00.000000",
         "energy_mean": 0.1635416666666666,
         "energy_max": 0.6890000000000001,
         "energy_min": 0.036,
         "temperatureMax": 6.91,
         "temperatureMaxTime": "2011-12-06 14:00:00",
         "icon": "partly-cloudy-day",
         "dewPoint": 2.15,
         "temperatureMinTime": "2011-12-06 01:00:00",
         "cloudCover": 0.34,
         "windSpeed": 4.79,
         "apparentTemperatureHigh": 3.77,
         "precipType": "rain",
         "visibility": 13.15,
         "humidity": 0.83,
         "apparentTemperatureLow": 1.9,
         "apparentTemperatureMax": 3.77,
         "uvIndex": 1,
         "time": "2011-12-06T00:00:00.000000",
         "sunsetTime": "2011-12-06 15:54:14",
         "temperatureLow": 5.16,
         "temperatureMin": 2.68,
         "temperatureHigh": 6.91,
         "sunriseTime": "2011-12-06 07:51:22",
         "uvIndexTime": "2011-12-06 11:00:00",
         "temperatureLowTime": "2011-12-06 22:00:00",
         "apparentTemperatureMin": -1.61,
         "_deepnote_index_column": 3083702
        },
        {
         "LCLid": "MAC000256",
         "day": "2011-12-06T00:00:00.000000",
         "energy_mean": 0.5136666666666667,
         "energy_max": 0.939,
         "energy_min": 0.3989999999999999,
         "temperatureMax": 6.91,
         "temperatureMaxTime": "2011-12-06 14:00:00",
         "icon": "partly-cloudy-day",
         "dewPoint": 2.15,
         "temperatureMinTime": "2011-12-06 01:00:00",
         "cloudCover": 0.34,
         "windSpeed": 4.79,
         "apparentTemperatureHigh": 3.77,
         "precipType": "rain",
         "visibility": 13.15,
         "humidity": 0.83,
         "apparentTemperatureLow": 1.9,
         "apparentTemperatureMax": 3.77,
         "uvIndex": 1,
         "time": "2011-12-06T00:00:00.000000",
         "sunsetTime": "2011-12-06 15:54:14",
         "temperatureLow": 5.16,
         "temperatureMin": 2.68,
         "temperatureHigh": 6.91,
         "sunriseTime": "2011-12-06 07:51:22",
         "uvIndexTime": "2011-12-06 11:00:00",
         "temperatureLowTime": "2011-12-06 22:00:00",
         "apparentTemperatureMin": -1.61,
         "_deepnote_index_column": 3083703
        }
       ]
      },
      "text/plain": "             LCLid        day  energy_mean  energy_max  energy_min  \\\n0        MAC000020 2011-12-07     0.212172       0.620       0.057   \n1        MAC000155 2011-12-07     0.254375       0.939       0.082   \n2        MAC000259 2011-12-07     0.265896       0.887       0.036   \n3        MAC000239 2011-12-07     0.157917       0.545       0.019   \n4        MAC000251 2011-12-07     0.233438       1.139       0.055   \n...            ...        ...          ...         ...         ...   \n3083699  MAC000017 2011-12-06     0.193824       0.359       0.062   \n3083700  MAC000245 2011-12-06     0.409792       2.155       0.105   \n3083701  MAC000165 2011-12-06     0.210083       0.813       0.058   \n3083702  MAC000173 2011-12-06     0.163542       0.689       0.036   \n3083703  MAC000256 2011-12-06     0.513667       0.939       0.399   \n\n         temperatureMax   temperatureMaxTime               icon  dewPoint  \\\n0                  9.02  2011-12-07 12:00:00               wind      1.79   \n1                  9.02  2011-12-07 12:00:00               wind      1.79   \n2                  9.02  2011-12-07 12:00:00               wind      1.79   \n3                  9.02  2011-12-07 12:00:00               wind      1.79   \n4                  9.02  2011-12-07 12:00:00               wind      1.79   \n...                 ...                  ...                ...       ...   \n3083699            6.91  2011-12-06 14:00:00  partly-cloudy-day      2.15   \n3083700            6.91  2011-12-06 14:00:00  partly-cloudy-day      2.15   \n3083701            6.91  2011-12-06 14:00:00  partly-cloudy-day      2.15   \n3083702            6.91  2011-12-06 14:00:00  partly-cloudy-day      2.15   \n3083703            6.91  2011-12-06 14:00:00  partly-cloudy-day      2.15   \n\n          temperatureMinTime  ...  uvIndex       time           sunsetTime  \\\n0        2011-12-07 23:00:00  ...      1.0 2011-12-07  2011-12-07 15:53:51   \n1        2011-12-07 23:00:00  ...      1.0 2011-12-07  2011-12-07 15:53:51   \n2        2011-12-07 23:00:00  ...      1.0 2011-12-07  2011-12-07 15:53:51   \n3        2011-12-07 23:00:00  ...      1.0 2011-12-07  2011-12-07 15:53:51   \n4        2011-12-07 23:00:00  ...      1.0 2011-12-07  2011-12-07 15:53:51   \n...                      ...  ...      ...        ...                  ...   \n3083699  2011-12-06 01:00:00  ...      1.0 2011-12-06  2011-12-06 15:54:14   \n3083700  2011-12-06 01:00:00  ...      1.0 2011-12-06  2011-12-06 15:54:14   \n3083701  2011-12-06 01:00:00  ...      1.0 2011-12-06  2011-12-06 15:54:14   \n3083702  2011-12-06 01:00:00  ...      1.0 2011-12-06  2011-12-06 15:54:14   \n3083703  2011-12-06 01:00:00  ...      1.0 2011-12-06  2011-12-06 15:54:14   \n\n        temperatureLow  temperatureMin  temperatureHigh          sunriseTime  \\\n0                 4.27            4.91             9.02  2011-12-07 07:52:35   \n1                 4.27            4.91             9.02  2011-12-07 07:52:35   \n2                 4.27            4.91             9.02  2011-12-07 07:52:35   \n3                 4.27            4.91             9.02  2011-12-07 07:52:35   \n4                 4.27            4.91             9.02  2011-12-07 07:52:35   \n...                ...             ...              ...                  ...   \n3083699           5.16            2.68             6.91  2011-12-06 07:51:22   \n3083700           5.16            2.68             6.91  2011-12-06 07:51:22   \n3083701           5.16            2.68             6.91  2011-12-06 07:51:22   \n3083702           5.16            2.68             6.91  2011-12-06 07:51:22   \n3083703           5.16            2.68             6.91  2011-12-06 07:51:22   \n\n                 uvIndexTime   temperatureLowTime apparentTemperatureMin  \n0        2011-12-07 10:00:00  2011-12-08 02:00:00                   0.94  \n1        2011-12-07 10:00:00  2011-12-08 02:00:00                   0.94  \n2        2011-12-07 10:00:00  2011-12-08 02:00:00                   0.94  \n3        2011-12-07 10:00:00  2011-12-08 02:00:00                   0.94  \n4        2011-12-07 10:00:00  2011-12-08 02:00:00                   0.94  \n...                      ...                  ...                    ...  \n3083699  2011-12-06 11:00:00  2011-12-06 22:00:00                  -1.61  \n3083700  2011-12-06 11:00:00  2011-12-06 22:00:00                  -1.61  \n3083701  2011-12-06 11:00:00  2011-12-06 22:00:00                  -1.61  \n3083702  2011-12-06 11:00:00  2011-12-06 22:00:00                  -1.61  \n3083703  2011-12-06 11:00:00  2011-12-06 22:00:00                  -1.61  \n\n[3083704 rows x 28 columns]",
      "text/html": "<div>\n<style scoped>\n    .dataframe tbody tr th:only-of-type {\n        vertical-align: middle;\n    }\n\n    .dataframe tbody tr th {\n        vertical-align: top;\n    }\n\n    .dataframe thead th {\n        text-align: right;\n    }\n</style>\n<table border=\"1\" class=\"dataframe\">\n  <thead>\n    <tr style=\"text-align: right;\">\n      <th></th>\n      <th>LCLid</th>\n      <th>day</th>\n      <th>energy_mean</th>\n      <th>energy_max</th>\n      <th>energy_min</th>\n      <th>temperatureMax</th>\n      <th>temperatureMaxTime</th>\n      <th>icon</th>\n      <th>dewPoint</th>\n      <th>temperatureMinTime</th>\n      <th>...</th>\n      <th>uvIndex</th>\n      <th>time</th>\n      <th>sunsetTime</th>\n      <th>temperatureLow</th>\n      <th>temperatureMin</th>\n      <th>temperatureHigh</th>\n      <th>sunriseTime</th>\n      <th>uvIndexTime</th>\n      <th>temperatureLowTime</th>\n      <th>apparentTemperatureMin</th>\n    </tr>\n  </thead>\n  <tbody>\n    <tr>\n      <th>0</th>\n      <td>MAC000020</td>\n      <td>2011-12-07</td>\n      <td>0.212172</td>\n      <td>0.620</td>\n      <td>0.057</td>\n      <td>9.02</td>\n      <td>2011-12-07 12:00:00</td>\n      <td>wind</td>\n      <td>1.79</td>\n      <td>2011-12-07 23:00:00</td>\n      <td>...</td>\n      <td>1.0</td>\n      <td>2011-12-07</td>\n      <td>2011-12-07 15:53:51</td>\n      <td>4.27</td>\n      <td>4.91</td>\n      <td>9.02</td>\n      <td>2011-12-07 07:52:35</td>\n      <td>2011-12-07 10:00:00</td>\n      <td>2011-12-08 02:00:00</td>\n      <td>0.94</td>\n    </tr>\n    <tr>\n      <th>1</th>\n      <td>MAC000155</td>\n      <td>2011-12-07</td>\n      <td>0.254375</td>\n      <td>0.939</td>\n      <td>0.082</td>\n      <td>9.02</td>\n      <td>2011-12-07 12:00:00</td>\n      <td>wind</td>\n      <td>1.79</td>\n      <td>2011-12-07 23:00:00</td>\n      <td>...</td>\n      <td>1.0</td>\n      <td>2011-12-07</td>\n      <td>2011-12-07 15:53:51</td>\n      <td>4.27</td>\n      <td>4.91</td>\n      <td>9.02</td>\n      <td>2011-12-07 07:52:35</td>\n      <td>2011-12-07 10:00:00</td>\n      <td>2011-12-08 02:00:00</td>\n      <td>0.94</td>\n    </tr>\n    <tr>\n      <th>2</th>\n      <td>MAC000259</td>\n      <td>2011-12-07</td>\n      <td>0.265896</td>\n      <td>0.887</td>\n      <td>0.036</td>\n      <td>9.02</td>\n      <td>2011-12-07 12:00:00</td>\n      <td>wind</td>\n      <td>1.79</td>\n      <td>2011-12-07 23:00:00</td>\n      <td>...</td>\n      <td>1.0</td>\n      <td>2011-12-07</td>\n      <td>2011-12-07 15:53:51</td>\n      <td>4.27</td>\n      <td>4.91</td>\n      <td>9.02</td>\n      <td>2011-12-07 07:52:35</td>\n      <td>2011-12-07 10:00:00</td>\n      <td>2011-12-08 02:00:00</td>\n      <td>0.94</td>\n    </tr>\n    <tr>\n      <th>3</th>\n      <td>MAC000239</td>\n      <td>2011-12-07</td>\n      <td>0.157917</td>\n      <td>0.545</td>\n      <td>0.019</td>\n      <td>9.02</td>\n      <td>2011-12-07 12:00:00</td>\n      <td>wind</td>\n      <td>1.79</td>\n      <td>2011-12-07 23:00:00</td>\n      <td>...</td>\n      <td>1.0</td>\n      <td>2011-12-07</td>\n      <td>2011-12-07 15:53:51</td>\n      <td>4.27</td>\n      <td>4.91</td>\n      <td>9.02</td>\n      <td>2011-12-07 07:52:35</td>\n      <td>2011-12-07 10:00:00</td>\n      <td>2011-12-08 02:00:00</td>\n      <td>0.94</td>\n    </tr>\n    <tr>\n      <th>4</th>\n      <td>MAC000251</td>\n      <td>2011-12-07</td>\n      <td>0.233438</td>\n      <td>1.139</td>\n      <td>0.055</td>\n      <td>9.02</td>\n      <td>2011-12-07 12:00:00</td>\n      <td>wind</td>\n      <td>1.79</td>\n      <td>2011-12-07 23:00:00</td>\n      <td>...</td>\n      <td>1.0</td>\n      <td>2011-12-07</td>\n      <td>2011-12-07 15:53:51</td>\n      <td>4.27</td>\n      <td>4.91</td>\n      <td>9.02</td>\n      <td>2011-12-07 07:52:35</td>\n      <td>2011-12-07 10:00:00</td>\n      <td>2011-12-08 02:00:00</td>\n      <td>0.94</td>\n    </tr>\n    <tr>\n      <th>...</th>\n      <td>...</td>\n      <td>...</td>\n      <td>...</td>\n      <td>...</td>\n      <td>...</td>\n      <td>...</td>\n      <td>...</td>\n      <td>...</td>\n      <td>...</td>\n      <td>...</td>\n      <td>...</td>\n      <td>...</td>\n      <td>...</td>\n      <td>...</td>\n      <td>...</td>\n      <td>...</td>\n      <td>...</td>\n      <td>...</td>\n      <td>...</td>\n      <td>...</td>\n      <td>...</td>\n    </tr>\n    <tr>\n      <th>3083699</th>\n      <td>MAC000017</td>\n      <td>2011-12-06</td>\n      <td>0.193824</td>\n      <td>0.359</td>\n      <td>0.062</td>\n      <td>6.91</td>\n      <td>2011-12-06 14:00:00</td>\n      <td>partly-cloudy-day</td>\n      <td>2.15</td>\n      <td>2011-12-06 01:00:00</td>\n      <td>...</td>\n      <td>1.0</td>\n      <td>2011-12-06</td>\n      <td>2011-12-06 15:54:14</td>\n      <td>5.16</td>\n      <td>2.68</td>\n      <td>6.91</td>\n      <td>2011-12-06 07:51:22</td>\n      <td>2011-12-06 11:00:00</td>\n      <td>2011-12-06 22:00:00</td>\n      <td>-1.61</td>\n    </tr>\n    <tr>\n      <th>3083700</th>\n      <td>MAC000245</td>\n      <td>2011-12-06</td>\n      <td>0.409792</td>\n      <td>2.155</td>\n      <td>0.105</td>\n      <td>6.91</td>\n      <td>2011-12-06 14:00:00</td>\n      <td>partly-cloudy-day</td>\n      <td>2.15</td>\n      <td>2011-12-06 01:00:00</td>\n      <td>...</td>\n      <td>1.0</td>\n      <td>2011-12-06</td>\n      <td>2011-12-06 15:54:14</td>\n      <td>5.16</td>\n      <td>2.68</td>\n      <td>6.91</td>\n      <td>2011-12-06 07:51:22</td>\n      <td>2011-12-06 11:00:00</td>\n      <td>2011-12-06 22:00:00</td>\n      <td>-1.61</td>\n    </tr>\n    <tr>\n      <th>3083701</th>\n      <td>MAC000165</td>\n      <td>2011-12-06</td>\n      <td>0.210083</td>\n      <td>0.813</td>\n      <td>0.058</td>\n      <td>6.91</td>\n      <td>2011-12-06 14:00:00</td>\n      <td>partly-cloudy-day</td>\n      <td>2.15</td>\n      <td>2011-12-06 01:00:00</td>\n      <td>...</td>\n      <td>1.0</td>\n      <td>2011-12-06</td>\n      <td>2011-12-06 15:54:14</td>\n      <td>5.16</td>\n      <td>2.68</td>\n      <td>6.91</td>\n      <td>2011-12-06 07:51:22</td>\n      <td>2011-12-06 11:00:00</td>\n      <td>2011-12-06 22:00:00</td>\n      <td>-1.61</td>\n    </tr>\n    <tr>\n      <th>3083702</th>\n      <td>MAC000173</td>\n      <td>2011-12-06</td>\n      <td>0.163542</td>\n      <td>0.689</td>\n      <td>0.036</td>\n      <td>6.91</td>\n      <td>2011-12-06 14:00:00</td>\n      <td>partly-cloudy-day</td>\n      <td>2.15</td>\n      <td>2011-12-06 01:00:00</td>\n      <td>...</td>\n      <td>1.0</td>\n      <td>2011-12-06</td>\n      <td>2011-12-06 15:54:14</td>\n      <td>5.16</td>\n      <td>2.68</td>\n      <td>6.91</td>\n      <td>2011-12-06 07:51:22</td>\n      <td>2011-12-06 11:00:00</td>\n      <td>2011-12-06 22:00:00</td>\n      <td>-1.61</td>\n    </tr>\n    <tr>\n      <th>3083703</th>\n      <td>MAC000256</td>\n      <td>2011-12-06</td>\n      <td>0.513667</td>\n      <td>0.939</td>\n      <td>0.399</td>\n      <td>6.91</td>\n      <td>2011-12-06 14:00:00</td>\n      <td>partly-cloudy-day</td>\n      <td>2.15</td>\n      <td>2011-12-06 01:00:00</td>\n      <td>...</td>\n      <td>1.0</td>\n      <td>2011-12-06</td>\n      <td>2011-12-06 15:54:14</td>\n      <td>5.16</td>\n      <td>2.68</td>\n      <td>6.91</td>\n      <td>2011-12-06 07:51:22</td>\n      <td>2011-12-06 11:00:00</td>\n      <td>2011-12-06 22:00:00</td>\n      <td>-1.61</td>\n    </tr>\n  </tbody>\n</table>\n<p>3083704 rows × 28 columns</p>\n</div>"
     },
     "metadata": {}
    }
   ],
   "execution_count": null
  },
  {
   "cell_type": "code",
   "metadata": {
    "tags": [],
    "cell_id": "00051-e27939c7-6895-465f-a265-d776408742d3",
    "deepnote_to_be_reexecuted": false,
    "source_hash": "f3bf837",
    "execution_start": 1635605015601,
    "execution_millis": 622006779,
    "deepnote_cell_type": "code"
   },
   "source": "DFOBJETIVO.drop_duplicates\nlen(DFOBJETIVO)",
   "outputs": [
    {
     "output_type": "execute_result",
     "execution_count": 30,
     "data": {
      "text/plain": "3083704"
     },
     "metadata": {}
    }
   ],
   "execution_count": null
  },
  {
   "cell_type": "code",
   "metadata": {
    "tags": [],
    "cell_id": "00052-6292f8be-b915-4163-a47c-deb628e859bc",
    "deepnote_to_be_reexecuted": false,
    "source_hash": "4b1764e5",
    "execution_start": 1635605015610,
    "execution_millis": 1242,
    "deepnote_cell_type": "code"
   },
   "source": "DFOBJETIVO.isnull().sum()",
   "outputs": [
    {
     "output_type": "execute_result",
     "execution_count": 31,
     "data": {
      "text/plain": "LCLid                       0\nday                         0\nenergy_mean                56\nenergy_max                 56\nenergy_min                 56\ntemperatureMax              0\ntemperatureMaxTime          0\nicon                        0\ndewPoint                    0\ntemperatureMinTime          0\ncloudCover                  0\nwindSpeed                   0\napparentTemperatureHigh     0\nprecipType                  0\nvisibility                  0\nhumidity                    0\napparentTemperatureLow      0\napparentTemperatureMax      0\nuvIndex                     0\ntime                        0\nsunsetTime                  0\ntemperatureLow              0\ntemperatureMin              0\ntemperatureHigh             0\nsunriseTime                 0\nuvIndexTime                 0\ntemperatureLowTime          0\napparentTemperatureMin      0\ndtype: int64"
     },
     "metadata": {}
    }
   ],
   "execution_count": null
  },
  {
   "cell_type": "code",
   "metadata": {
    "tags": [],
    "cell_id": "00053-6c69995f-578f-4339-86b5-328b0a9a90f6",
    "deepnote_to_be_reexecuted": false,
    "source_hash": "750b5fde",
    "execution_start": 1635605016976,
    "execution_millis": 2466,
    "deepnote_cell_type": "code"
   },
   "source": "DFOBJETIVO = DFOBJETIVO.dropna()\nlen(DFOBJETIVO)",
   "outputs": [
    {
     "output_type": "execute_result",
     "execution_count": 32,
     "data": {
      "text/plain": "3083648"
     },
     "metadata": {}
    }
   ],
   "execution_count": null
  },
  {
   "cell_type": "code",
   "metadata": {
    "tags": [],
    "cell_id": "00053-1f5ee2ed-22be-4faf-9411-f8d6609efe4b",
    "deepnote_to_be_reexecuted": false,
    "source_hash": "3a127b44",
    "execution_start": 1635605047237,
    "execution_millis": 0,
    "deepnote_cell_type": "code"
   },
   "source": "ruta = \"DFOBJETIVO.csv\"\nDFOBJETIVO.to_csv(ruta, index = False)",
   "outputs": [],
   "execution_count": null
  },
  {
   "cell_type": "markdown",
   "source": "<a style='text-decoration:none;line-height:16px;display:flex;color:#5B5B62;padding:10px;justify-content:end;' href='https://deepnote.com?utm_source=created-in-deepnote-cell&projectId=4ea23acb-e328-40a3-9d97-76df38b34f67' target=\"_blank\">\n<img alt='Created in deepnote.com' style='display:inline;max-height:16px;margin:0px;margin-right:7.5px;' src='data:image/svg+xml;base64,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' > </img>\nCreated in <span style='font-weight:600;margin-left:4px;'>Deepnote</span></a>",
   "metadata": {
    "tags": [],
    "created_in_deepnote_cell": true,
    "deepnote_cell_type": "markdown"
   }
  }
 ],
 "nbformat": 4,
 "nbformat_minor": 2,
 "metadata": {
  "orig_nbformat": 2,
  "deepnote": {
   "is_reactive": false
  },
  "deepnote_notebook_id": "c05b05ca-c0da-4267-b78d-0393617cba4a",
  "deepnote_execution_queue": []
 }
}